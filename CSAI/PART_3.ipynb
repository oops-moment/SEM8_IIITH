{
 "cells": [
  {
   "cell_type": "code",
   "execution_count": 4,
   "metadata": {},
   "outputs": [],
   "source": [
    "import pandas as pd\n",
    "import numpy as np\n",
    "from sklearn.model_selection import train_test_split\n",
    "from sklearn.svm import LinearSVC\n",
    "from sklearn.metrics import accuracy_score\n",
    "import matplotlib.pyplot as plt\n",
    "from nilearn import datasets"
   ]
  },
  {
   "cell_type": "code",
   "execution_count": 6,
   "metadata": {},
   "outputs": [
    {
     "data": {
      "text/html": [
       "<pre style=\"white-space:pre;overflow-x:auto;line-height:normal;font-family:Menlo,'DejaVu Sans Mono',consolas,'Courier New',monospace\"><span style=\"color: #000080; text-decoration-color: #000080; font-weight: bold\">[</span><span style=\"color: #000080; text-decoration-color: #000080\">get_dataset_dir</span><span style=\"color: #000080; text-decoration-color: #000080; font-weight: bold\">]</span> Dataset found in <span style=\"color: #800080; text-decoration-color: #800080\">/Users/prisha/nilearn_data/</span><span style=\"color: #ff00ff; text-decoration-color: #ff00ff\">haxby2001</span>\n",
       "</pre>\n"
      ],
      "text/plain": [
       "\u001b[1;34m[\u001b[0m\u001b[34mget_dataset_dir\u001b[0m\u001b[1;34m]\u001b[0m Dataset found in \u001b[35m/Users/prisha/nilearn_data/\u001b[0m\u001b[95mhaxby2001\u001b[0m\n"
      ]
     },
     "metadata": {},
     "output_type": "display_data"
    },
    {
     "name": "stdout",
     "output_type": "stream",
     "text": [
      "Feature time series shape:  (1452, 82)\n",
      "Behavioral data head:    labels  chunks\n",
      "0   rest       0\n",
      "1   rest       0\n",
      "2   rest       0\n",
      "3   rest       0\n",
      "4   rest       0\n"
     ]
    }
   ],
   "source": [
    "# Load the feature time series\n",
    "time_series = pd.read_csv('features.csv', header=None, sep=\" \")\n",
    "\n",
    "# Fetch the Haxby dataset and load behavioral data\n",
    "subj4 = datasets.fetch_haxby(subjects=[2])\n",
    "behavioral = pd.read_csv(subj4['session_target'][0], sep=\" \")\n",
    "\n",
    "# Print basic info about data\n",
    "print(\"Feature time series shape: \", time_series.shape)\n",
    "print(\"Behavioral data head: \", behavioral.head())"
   ]
  },
  {
   "cell_type": "code",
   "execution_count": 7,
   "metadata": {},
   "outputs": [
    {
     "name": "stdout",
     "output_type": "stream",
     "text": [
      "Filtered data shapes -> X:  (216, 82)  y:  (216,)\n"
     ]
    }
   ],
   "source": [
    "# Restrict to face, house conditions\n",
    "conditions = behavioral[\"labels\"]\n",
    "condition_mask = conditions.isin([\"face\", \"house\"])  # Change to [\"face\", \"scissors\"] for face vs scissors\n",
    "condition_mask_array = np.array(condition_mask)\n",
    "\n",
    "# Filter time series and conditions using the mask\n",
    "X = time_series[condition_mask_array]\n",
    "y = conditions[condition_mask_array]\n",
    "\n",
    "# Print the shapes of the filtered data\n",
    "print(\"Filtered data shapes -> X: \", X.shape, \" y: \", y.shape)"
   ]
  },
  {
   "cell_type": "code",
   "execution_count": 8,
   "metadata": {},
   "outputs": [
    {
     "name": "stdout",
     "output_type": "stream",
     "text": [
      "Train-Test split shapes -> X_train: (144, 82), X_test: (72, 82), y_train: (144,), y_test: (72,)\n"
     ]
    }
   ],
   "source": [
    "# Split the data into training and test sets (33% test size)\n",
    "X_train, X_test, y_train, y_test = train_test_split(X, y, test_size=0.33, random_state=42)\n",
    "\n",
    "# Print the shapes of the train-test split\n",
    "print(f\"Train-Test split shapes -> X_train: {X_train.shape}, X_test: {X_test.shape}, y_train: {y_train.shape}, y_test: {y_test.shape}\")"
   ]
  },
  {
   "cell_type": "code",
   "execution_count": 9,
   "metadata": {},
   "outputs": [
    {
     "name": "stdout",
     "output_type": "stream",
     "text": [
      "Accuracy: 0.6388888888888888\n"
     ]
    }
   ],
   "source": [
    "# Initialize the LinearSVC model\n",
    "svc = LinearSVC()\n",
    "\n",
    "# Train the model on the training data\n",
    "svc.fit(X_train, y_train)\n",
    "\n",
    "# Predict the labels for the test data\n",
    "predicted = svc.predict(X_test)\n",
    "\n",
    "# Calculate the accuracy of the model\n",
    "accuracy = accuracy_score(y_test, predicted)\n",
    "print(f\"Accuracy: {accuracy}\")"
   ]
  },
  {
   "cell_type": "code",
   "execution_count": 10,
   "metadata": {},
   "outputs": [
    {
     "name": "stdout",
     "output_type": "stream",
     "text": [
      "\n",
      "Train set shape (chunk 0): (198, 82)\n",
      "Test set shape (chunk 0): (18, 82)\n",
      "Accuracy for test chunk 0: 0.5\n",
      "\n",
      "Train set shape (chunk 1): (198, 82)\n",
      "Test set shape (chunk 1): (18, 82)\n",
      "Accuracy for test chunk 1: 1.0\n",
      "\n",
      "Train set shape (chunk 2): (198, 82)\n",
      "Test set shape (chunk 2): (18, 82)\n",
      "Accuracy for test chunk 2: 0.9444444444444444\n",
      "\n",
      "Train set shape (chunk 3): (198, 82)\n",
      "Test set shape (chunk 3): (18, 82)\n",
      "Accuracy for test chunk 3: 0.4444444444444444\n",
      "\n",
      "Train set shape (chunk 4): (198, 82)\n",
      "Test set shape (chunk 4): (18, 82)\n",
      "Accuracy for test chunk 4: 0.3333333333333333\n",
      "\n",
      "Train set shape (chunk 5): (198, 82)\n",
      "Test set shape (chunk 5): (18, 82)\n",
      "Accuracy for test chunk 5: 0.5555555555555556\n",
      "\n",
      "Train set shape (chunk 6): (198, 82)\n",
      "Test set shape (chunk 6): (18, 82)\n",
      "Accuracy for test chunk 6: 0.5\n",
      "\n",
      "Train set shape (chunk 7): (198, 82)\n",
      "Test set shape (chunk 7): (18, 82)\n",
      "Accuracy for test chunk 7: 0.7222222222222222\n",
      "\n",
      "Train set shape (chunk 8): (198, 82)\n",
      "Test set shape (chunk 8): (18, 82)\n",
      "Accuracy for test chunk 8: 0.8888888888888888\n",
      "\n",
      "Train set shape (chunk 9): (198, 82)\n",
      "Test set shape (chunk 9): (18, 82)\n",
      "Accuracy for test chunk 9: 0.2777777777777778\n",
      "\n",
      "Train set shape (chunk 10): (198, 82)\n",
      "Test set shape (chunk 10): (18, 82)\n",
      "Accuracy for test chunk 10: 0.5555555555555556\n",
      "\n",
      "Train set shape (chunk 11): (198, 82)\n",
      "Test set shape (chunk 11): (18, 82)\n",
      "Accuracy for test chunk 11: 0.3888888888888889\n",
      "\n",
      "Mean Accuracy: 0.5925925925925927\n",
      "Standard Deviation: 0.23166659265179262\n"
     ]
    },
    {
     "name": "stderr",
     "output_type": "stream",
     "text": [
      "/var/folders/4b/0_65g89n2yn9tmtywtpdt5900000gn/T/ipykernel_32118/4080722953.py:10: UserWarning: Boolean Series key will be reindexed to match DataFrame index.\n",
      "  X_train_selected = X[condition_mask_train]\n",
      "/var/folders/4b/0_65g89n2yn9tmtywtpdt5900000gn/T/ipykernel_32118/4080722953.py:11: UserWarning: Boolean Series key will be reindexed to match DataFrame index.\n",
      "  X_test_selected = X[condition_mask_test]\n",
      "/var/folders/4b/0_65g89n2yn9tmtywtpdt5900000gn/T/ipykernel_32118/4080722953.py:10: UserWarning: Boolean Series key will be reindexed to match DataFrame index.\n",
      "  X_train_selected = X[condition_mask_train]\n",
      "/var/folders/4b/0_65g89n2yn9tmtywtpdt5900000gn/T/ipykernel_32118/4080722953.py:11: UserWarning: Boolean Series key will be reindexed to match DataFrame index.\n",
      "  X_test_selected = X[condition_mask_test]\n",
      "/var/folders/4b/0_65g89n2yn9tmtywtpdt5900000gn/T/ipykernel_32118/4080722953.py:10: UserWarning: Boolean Series key will be reindexed to match DataFrame index.\n",
      "  X_train_selected = X[condition_mask_train]\n",
      "/var/folders/4b/0_65g89n2yn9tmtywtpdt5900000gn/T/ipykernel_32118/4080722953.py:11: UserWarning: Boolean Series key will be reindexed to match DataFrame index.\n",
      "  X_test_selected = X[condition_mask_test]\n",
      "/var/folders/4b/0_65g89n2yn9tmtywtpdt5900000gn/T/ipykernel_32118/4080722953.py:10: UserWarning: Boolean Series key will be reindexed to match DataFrame index.\n",
      "  X_train_selected = X[condition_mask_train]\n",
      "/var/folders/4b/0_65g89n2yn9tmtywtpdt5900000gn/T/ipykernel_32118/4080722953.py:11: UserWarning: Boolean Series key will be reindexed to match DataFrame index.\n",
      "  X_test_selected = X[condition_mask_test]\n",
      "/var/folders/4b/0_65g89n2yn9tmtywtpdt5900000gn/T/ipykernel_32118/4080722953.py:10: UserWarning: Boolean Series key will be reindexed to match DataFrame index.\n",
      "  X_train_selected = X[condition_mask_train]\n",
      "/var/folders/4b/0_65g89n2yn9tmtywtpdt5900000gn/T/ipykernel_32118/4080722953.py:11: UserWarning: Boolean Series key will be reindexed to match DataFrame index.\n",
      "  X_test_selected = X[condition_mask_test]\n",
      "/var/folders/4b/0_65g89n2yn9tmtywtpdt5900000gn/T/ipykernel_32118/4080722953.py:10: UserWarning: Boolean Series key will be reindexed to match DataFrame index.\n",
      "  X_train_selected = X[condition_mask_train]\n",
      "/var/folders/4b/0_65g89n2yn9tmtywtpdt5900000gn/T/ipykernel_32118/4080722953.py:11: UserWarning: Boolean Series key will be reindexed to match DataFrame index.\n",
      "  X_test_selected = X[condition_mask_test]\n",
      "/var/folders/4b/0_65g89n2yn9tmtywtpdt5900000gn/T/ipykernel_32118/4080722953.py:10: UserWarning: Boolean Series key will be reindexed to match DataFrame index.\n",
      "  X_train_selected = X[condition_mask_train]\n",
      "/var/folders/4b/0_65g89n2yn9tmtywtpdt5900000gn/T/ipykernel_32118/4080722953.py:11: UserWarning: Boolean Series key will be reindexed to match DataFrame index.\n",
      "  X_test_selected = X[condition_mask_test]\n",
      "/var/folders/4b/0_65g89n2yn9tmtywtpdt5900000gn/T/ipykernel_32118/4080722953.py:10: UserWarning: Boolean Series key will be reindexed to match DataFrame index.\n",
      "  X_train_selected = X[condition_mask_train]\n",
      "/var/folders/4b/0_65g89n2yn9tmtywtpdt5900000gn/T/ipykernel_32118/4080722953.py:11: UserWarning: Boolean Series key will be reindexed to match DataFrame index.\n",
      "  X_test_selected = X[condition_mask_test]\n",
      "/var/folders/4b/0_65g89n2yn9tmtywtpdt5900000gn/T/ipykernel_32118/4080722953.py:10: UserWarning: Boolean Series key will be reindexed to match DataFrame index.\n",
      "  X_train_selected = X[condition_mask_train]\n",
      "/var/folders/4b/0_65g89n2yn9tmtywtpdt5900000gn/T/ipykernel_32118/4080722953.py:11: UserWarning: Boolean Series key will be reindexed to match DataFrame index.\n",
      "  X_test_selected = X[condition_mask_test]\n",
      "/var/folders/4b/0_65g89n2yn9tmtywtpdt5900000gn/T/ipykernel_32118/4080722953.py:10: UserWarning: Boolean Series key will be reindexed to match DataFrame index.\n",
      "  X_train_selected = X[condition_mask_train]\n",
      "/var/folders/4b/0_65g89n2yn9tmtywtpdt5900000gn/T/ipykernel_32118/4080722953.py:11: UserWarning: Boolean Series key will be reindexed to match DataFrame index.\n",
      "  X_test_selected = X[condition_mask_test]\n",
      "/var/folders/4b/0_65g89n2yn9tmtywtpdt5900000gn/T/ipykernel_32118/4080722953.py:10: UserWarning: Boolean Series key will be reindexed to match DataFrame index.\n",
      "  X_train_selected = X[condition_mask_train]\n",
      "/var/folders/4b/0_65g89n2yn9tmtywtpdt5900000gn/T/ipykernel_32118/4080722953.py:11: UserWarning: Boolean Series key will be reindexed to match DataFrame index.\n",
      "  X_test_selected = X[condition_mask_test]\n",
      "/var/folders/4b/0_65g89n2yn9tmtywtpdt5900000gn/T/ipykernel_32118/4080722953.py:10: UserWarning: Boolean Series key will be reindexed to match DataFrame index.\n",
      "  X_train_selected = X[condition_mask_train]\n",
      "/var/folders/4b/0_65g89n2yn9tmtywtpdt5900000gn/T/ipykernel_32118/4080722953.py:11: UserWarning: Boolean Series key will be reindexed to match DataFrame index.\n",
      "  X_test_selected = X[condition_mask_test]\n"
     ]
    }
   ],
   "source": [
    "accuracy_values = []\n",
    "\n",
    "# Perform Leave-One-Chunk-Out cross-validation\n",
    "for val in range(12):\n",
    "    # Define the train-test conditions for each chunk\n",
    "    condition_mask_train = (condition_mask) & (behavioral[\"chunks\"] != val)\n",
    "    condition_mask_test = (condition_mask) & (behavioral[\"chunks\"] == val)\n",
    "\n",
    "    # Split the time series and labels based on the condition mask\n",
    "    X_train_selected = X[condition_mask_train]\n",
    "    X_test_selected = X[condition_mask_test]\n",
    "    y_train_selected = y[condition_mask_train]\n",
    "    y_test_selected = y[condition_mask_test]\n",
    "\n",
    "    # Print the shapes of the train-test data for the current chunk\n",
    "    print(f\"\\nTrain set shape (chunk {val}): {X_train_selected.shape}\")\n",
    "    print(f\"Test set shape (chunk {val}): {X_test_selected.shape}\")\n",
    "\n",
    "    # Train and predict\n",
    "    svc.fit(X_train_selected, y_train_selected)\n",
    "    predicted_selected = svc.predict(X_test_selected)\n",
    "\n",
    "    # Calculate accuracy and append it to the list\n",
    "    accuracy = accuracy_score(y_test_selected, predicted_selected)\n",
    "    accuracy_values.append(accuracy)\n",
    "\n",
    "    # Print accuracy for the current chunk\n",
    "    print(f\"Accuracy for test chunk {val}: {accuracy}\")\n",
    "\n",
    "# Calculate the mean and standard deviation of the accuracies\n",
    "mean_accuracy = np.mean(accuracy_values)\n",
    "std_accuracy = np.std(accuracy_values)\n",
    "\n",
    "print(f\"\\nMean Accuracy: {mean_accuracy}\")\n",
    "print(f\"Standard Deviation: {std_accuracy}\")"
   ]
  },
  {
   "cell_type": "code",
   "execution_count": 11,
   "metadata": {},
   "outputs": [
    {
     "data": {
      "image/png": "[encoded data removed]",
      "text/plain": [
       "<Figure size 640x480 with 1 Axes>"
      ]
     },
     "metadata": {},
     "output_type": "display_data"
    }
   ],
   "source": [
    "# Plot a boxplot of the accuracies for the 12 test chunks\n",
    "plt.boxplot(accuracy_values)\n",
    "plt.title('Accuracy Boxplot for 12 Test Chunks')\n",
    "plt.xlabel('Test Chunk')\n",
    "plt.ylabel('Accuracy')\n",
    "plt.show()"
   ]
  },
  {
   "cell_type": "code",
   "execution_count": 13,
   "metadata": {},
   "outputs": [
    {
     "name": "stderr",
     "output_type": "stream",
     "text": [
      "/var/folders/4b/0_65g89n2yn9tmtywtpdt5900000gn/T/ipykernel_32118/3901550689.py:18: UserWarning: Boolean Series key will be reindexed to match DataFrame index.\n",
      "  X_train_selected = X[condition_mask_train]\n",
      "/var/folders/4b/0_65g89n2yn9tmtywtpdt5900000gn/T/ipykernel_32118/3901550689.py:19: UserWarning: Boolean Series key will be reindexed to match DataFrame index.\n",
      "  X_test_selected = X[condition_mask_test]\n",
      "/var/folders/4b/0_65g89n2yn9tmtywtpdt5900000gn/T/ipykernel_32118/3901550689.py:18: UserWarning: Boolean Series key will be reindexed to match DataFrame index.\n",
      "  X_train_selected = X[condition_mask_train]\n",
      "/var/folders/4b/0_65g89n2yn9tmtywtpdt5900000gn/T/ipykernel_32118/3901550689.py:19: UserWarning: Boolean Series key will be reindexed to match DataFrame index.\n",
      "  X_test_selected = X[condition_mask_test]\n",
      "/var/folders/4b/0_65g89n2yn9tmtywtpdt5900000gn/T/ipykernel_32118/3901550689.py:18: UserWarning: Boolean Series key will be reindexed to match DataFrame index.\n",
      "  X_train_selected = X[condition_mask_train]\n",
      "/var/folders/4b/0_65g89n2yn9tmtywtpdt5900000gn/T/ipykernel_32118/3901550689.py:19: UserWarning: Boolean Series key will be reindexed to match DataFrame index.\n",
      "  X_test_selected = X[condition_mask_test]\n",
      "/var/folders/4b/0_65g89n2yn9tmtywtpdt5900000gn/T/ipykernel_32118/3901550689.py:18: UserWarning: Boolean Series key will be reindexed to match DataFrame index.\n",
      "  X_train_selected = X[condition_mask_train]\n",
      "/var/folders/4b/0_65g89n2yn9tmtywtpdt5900000gn/T/ipykernel_32118/3901550689.py:19: UserWarning: Boolean Series key will be reindexed to match DataFrame index.\n",
      "  X_test_selected = X[condition_mask_test]\n",
      "/var/folders/4b/0_65g89n2yn9tmtywtpdt5900000gn/T/ipykernel_32118/3901550689.py:18: UserWarning: Boolean Series key will be reindexed to match DataFrame index.\n",
      "  X_train_selected = X[condition_mask_train]\n",
      "/var/folders/4b/0_65g89n2yn9tmtywtpdt5900000gn/T/ipykernel_32118/3901550689.py:19: UserWarning: Boolean Series key will be reindexed to match DataFrame index.\n",
      "  X_test_selected = X[condition_mask_test]\n",
      "/var/folders/4b/0_65g89n2yn9tmtywtpdt5900000gn/T/ipykernel_32118/3901550689.py:18: UserWarning: Boolean Series key will be reindexed to match DataFrame index.\n",
      "  X_train_selected = X[condition_mask_train]\n",
      "/var/folders/4b/0_65g89n2yn9tmtywtpdt5900000gn/T/ipykernel_32118/3901550689.py:19: UserWarning: Boolean Series key will be reindexed to match DataFrame index.\n",
      "  X_test_selected = X[condition_mask_test]\n",
      "/var/folders/4b/0_65g89n2yn9tmtywtpdt5900000gn/T/ipykernel_32118/3901550689.py:18: UserWarning: Boolean Series key will be reindexed to match DataFrame index.\n",
      "  X_train_selected = X[condition_mask_train]\n",
      "/var/folders/4b/0_65g89n2yn9tmtywtpdt5900000gn/T/ipykernel_32118/3901550689.py:19: UserWarning: Boolean Series key will be reindexed to match DataFrame index.\n",
      "  X_test_selected = X[condition_mask_test]\n",
      "/var/folders/4b/0_65g89n2yn9tmtywtpdt5900000gn/T/ipykernel_32118/3901550689.py:18: UserWarning: Boolean Series key will be reindexed to match DataFrame index.\n",
      "  X_train_selected = X[condition_mask_train]\n",
      "/var/folders/4b/0_65g89n2yn9tmtywtpdt5900000gn/T/ipykernel_32118/3901550689.py:19: UserWarning: Boolean Series key will be reindexed to match DataFrame index.\n",
      "  X_test_selected = X[condition_mask_test]\n",
      "/var/folders/4b/0_65g89n2yn9tmtywtpdt5900000gn/T/ipykernel_32118/3901550689.py:18: UserWarning: Boolean Series key will be reindexed to match DataFrame index.\n",
      "  X_train_selected = X[condition_mask_train]\n",
      "/var/folders/4b/0_65g89n2yn9tmtywtpdt5900000gn/T/ipykernel_32118/3901550689.py:19: UserWarning: Boolean Series key will be reindexed to match DataFrame index.\n",
      "  X_test_selected = X[condition_mask_test]\n",
      "/var/folders/4b/0_65g89n2yn9tmtywtpdt5900000gn/T/ipykernel_32118/3901550689.py:18: UserWarning: Boolean Series key will be reindexed to match DataFrame index.\n",
      "  X_train_selected = X[condition_mask_train]\n",
      "/var/folders/4b/0_65g89n2yn9tmtywtpdt5900000gn/T/ipykernel_32118/3901550689.py:19: UserWarning: Boolean Series key will be reindexed to match DataFrame index.\n",
      "  X_test_selected = X[condition_mask_test]\n",
      "/var/folders/4b/0_65g89n2yn9tmtywtpdt5900000gn/T/ipykernel_32118/3901550689.py:18: UserWarning: Boolean Series key will be reindexed to match DataFrame index.\n",
      "  X_train_selected = X[condition_mask_train]\n",
      "/var/folders/4b/0_65g89n2yn9tmtywtpdt5900000gn/T/ipykernel_32118/3901550689.py:19: UserWarning: Boolean Series key will be reindexed to match DataFrame index.\n",
      "  X_test_selected = X[condition_mask_test]\n",
      "/var/folders/4b/0_65g89n2yn9tmtywtpdt5900000gn/T/ipykernel_32118/3901550689.py:18: UserWarning: Boolean Series key will be reindexed to match DataFrame index.\n",
      "  X_train_selected = X[condition_mask_train]\n",
      "/var/folders/4b/0_65g89n2yn9tmtywtpdt5900000gn/T/ipykernel_32118/3901550689.py:19: UserWarning: Boolean Series key will be reindexed to match DataFrame index.\n",
      "  X_test_selected = X[condition_mask_test]\n",
      "/var/folders/4b/0_65g89n2yn9tmtywtpdt5900000gn/T/ipykernel_32118/3901550689.py:29: MatplotlibDeprecationWarning: The 'labels' parameter of boxplot() has been renamed 'tick_labels' since Matplotlib 3.9; support for the old name will be dropped in 3.11.\n",
      "  plt.boxplot([accuracy_values, accuracy_values2], labels=['Face vs House', 'Face vs Bottles'])\n"
     ]
    },
    {
     "data": {
      "image/png": "[encoded data removed]",
      "text/plain": [
       "<Figure size 640x480 with 1 Axes>"
      ]
     },
     "metadata": {},
     "output_type": "display_data"
    }
   ],
   "source": [
    "# Restrict to face, scissors conditions\n",
    "condition_mask = conditions.isin([\"face\", \"bottle\"])  # Change conditions as needed\n",
    "condition_mask_array = np.array(condition_mask)\n",
    "\n",
    "# Filter time series and conditions using the mask\n",
    "X = time_series[condition_mask_array]\n",
    "y = conditions[condition_mask_array]\n",
    "\n",
    "# Split the data into training and test sets\n",
    "X_train, X_test, y_train, y_test = train_test_split(X, y, test_size=0.33, random_state=42)\n",
    "\n",
    "# Perform Leave-One-Chunk-Out cross-validation\n",
    "accuracy_values2 = []\n",
    "for val in range(12):\n",
    "    condition_mask_train = (condition_mask) & (behavioral[\"chunks\"] != val)\n",
    "    condition_mask_test = (condition_mask) & (behavioral[\"chunks\"] == val)\n",
    "\n",
    "    X_train_selected = X[condition_mask_train]\n",
    "    X_test_selected = X[condition_mask_test]\n",
    "    y_train_selected = y[condition_mask_train]\n",
    "    y_test_selected = y[condition_mask_test]\n",
    "\n",
    "    svc.fit(X_train_selected, y_train_selected)\n",
    "    predicted_selected = svc.predict(X_test_selected)\n",
    "    accuracy = accuracy_score(y_test_selected, predicted_selected)\n",
    "    accuracy_values2.append(accuracy)\n",
    "\n",
    "# Plot the comparison of accuracy between conditions\n",
    "plt.boxplot([accuracy_values, accuracy_values2], labels=['Face vs House', 'Face vs Bottles'])\n",
    "plt.title('Accuracy Comparison for Different Conditions')\n",
    "plt.xlabel('Condition')\n",
    "plt.ylabel('Accuracy')\n",
    "plt.show()"
   ]
  },
  {
   "cell_type": "code",
   "execution_count": null,
   "metadata": {},
   "outputs": [],
   "source": []
  }
 ],
 "metadata": {
  "kernelspec": {
   "display_name": "Python 3",
   "language": "python",
   "name": "python3"
  },
  "language_info": {
   "codemirror_mode": {
    "name": "ipython",
    "version": 3
   },
   "file_extension": ".py",
   "mimetype": "text/x-python",
   "name": "python",
   "nbconvert_exporter": "python",
   "pygments_lexer": "ipython3",
   "version": "3.12.6"
  }
 },
 "nbformat": 4,
 "nbformat_minor": 2
}
