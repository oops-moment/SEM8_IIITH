{
 "cells": [
  {
   "cell_type": "markdown",
   "metadata": {
    "id": "NqvTEbZ7KWcI"
   },
   "source": [
    "Name-RUGVED THAKARE\n",
    "ID-2023201049"
   ]
  },
  {
   "cell_type": "markdown",
   "metadata": {
    "id": "RsmZlEItfsGa"
   },
   "source": [
    "Ventral Temporal All Features face vs House"
   ]
  },
  {
   "cell_type": "code",
   "execution_count": 1,
   "metadata": {
    "colab": {
     "base_uri": "https://localhost:8080/"
    },
    "executionInfo": {
     "elapsed": 5781,
     "status": "ok",
     "timestamp": 1706190589601,
     "user": {
      "displayName": "Rugved Thakare",
      "userId": "10113203800218501256"
     },
     "user_tz": -330
    },
    "id": "yAT0VWCChEVH",
    "outputId": "6fba6a68-3e98-4327-df49-0b2eeb3544e2"
   },
   "outputs": [
    {
     "name": "stdout",
     "output_type": "stream",
     "text": [
      "Collecting nilearn\n",
      "  Downloading nilearn-0.11.1-py3-none-any.whl.metadata (9.3 kB)\n",
      "Requirement already satisfied: joblib>=1.2.0 in /Library/Frameworks/Python.framework/Versions/3.12/lib/python3.12/site-packages (from nilearn) (1.4.2)\n",
      "Collecting lxml (from nilearn)\n",
      "  Downloading lxml-5.3.0-cp312-cp312-macosx_10_9_universal2.whl.metadata (3.8 kB)\n",
      "Collecting nibabel>=5.2.0 (from nilearn)\n",
      "  Downloading nibabel-5.3.2-py3-none-any.whl.metadata (9.1 kB)\n",
      "Requirement already satisfied: numpy>=1.22.4 in /Library/Frameworks/Python.framework/Versions/3.12/lib/python3.12/site-packages (from nilearn) (2.0.2)\n",
      "Requirement already satisfied: packaging in /Users/prisha/Library/Python/3.12/lib/python/site-packages (from nilearn) (24.1)\n",
      "Requirement already satisfied: pandas>=2.2.0 in /Library/Frameworks/Python.framework/Versions/3.12/lib/python3.12/site-packages (from nilearn) (2.2.2)\n",
      "Requirement already satisfied: requests>=2.25.0 in /Library/Frameworks/Python.framework/Versions/3.12/lib/python3.12/site-packages (from nilearn) (2.32.3)\n",
      "Requirement already satisfied: scikit-learn>=1.4.0 in /Library/Frameworks/Python.framework/Versions/3.12/lib/python3.12/site-packages (from nilearn) (1.5.2)\n",
      "Requirement already satisfied: scipy>=1.8.0 in /Library/Frameworks/Python.framework/Versions/3.12/lib/python3.12/site-packages (from nilearn) (1.14.1)\n",
      "Requirement already satisfied: typing-extensions>=4.6 in /Library/Frameworks/Python.framework/Versions/3.12/lib/python3.12/site-packages (from nibabel>=5.2.0->nilearn) (4.12.2)\n",
      "Requirement already satisfied: python-dateutil>=2.8.2 in /Users/prisha/Library/Python/3.12/lib/python/site-packages (from pandas>=2.2.0->nilearn) (2.9.0.post0)\n",
      "Requirement already satisfied: pytz>=2020.1 in /Library/Frameworks/Python.framework/Versions/3.12/lib/python3.12/site-packages (from pandas>=2.2.0->nilearn) (2024.1)\n",
      "Requirement already satisfied: tzdata>=2022.7 in /Library/Frameworks/Python.framework/Versions/3.12/lib/python3.12/site-packages (from pandas>=2.2.0->nilearn) (2024.1)\n",
      "Requirement already satisfied: charset-normalizer<4,>=2 in /Library/Frameworks/Python.framework/Versions/3.12/lib/python3.12/site-packages (from requests>=2.25.0->nilearn) (3.3.2)\n",
      "Requirement already satisfied: idna<4,>=2.5 in /Library/Frameworks/Python.framework/Versions/3.12/lib/python3.12/site-packages (from requests>=2.25.0->nilearn) (3.10)\n",
      "Requirement already satisfied: urllib3<3,>=1.21.1 in /Library/Frameworks/Python.framework/Versions/3.12/lib/python3.12/site-packages (from requests>=2.25.0->nilearn) (2.2.3)\n",
      "Requirement already satisfied: certifi>=2017.4.17 in /Library/Frameworks/Python.framework/Versions/3.12/lib/python3.12/site-packages (from requests>=2.25.0->nilearn) (2024.8.30)\n",
      "Requirement already satisfied: threadpoolctl>=3.1.0 in /Library/Frameworks/Python.framework/Versions/3.12/lib/python3.12/site-packages (from scikit-learn>=1.4.0->nilearn) (3.5.0)\n",
      "Requirement already satisfied: six>=1.5 in /Users/prisha/Library/Python/3.12/lib/python/site-packages (from python-dateutil>=2.8.2->pandas>=2.2.0->nilearn) (1.16.0)\n",
      "Downloading nilearn-0.11.1-py3-none-any.whl (10.5 MB)\n",
      "\u001b[2K   \u001b[90m━━━━━━━━━━━━━━━━━━━━━━━━━━━━━━━━━━━━━━━━\u001b[0m \u001b[32m10.5/10.5 MB\u001b[0m \u001b[31m8.2 MB/s\u001b[0m eta \u001b[36m0:00:00\u001b[0m \u001b[36m0:00:01\u001b[0mm\n",
      "\u001b[?25hDownloading nibabel-5.3.2-py3-none-any.whl (3.3 MB)\n",
      "\u001b[2K   \u001b[90m━━━━━━━━━━━━━━━━━━━━━━━━━━━━━━━━━━━━━━━━\u001b[0m \u001b[32m3.3/3.3 MB\u001b[0m \u001b[31m14.7 MB/s\u001b[0m eta \u001b[36m0:00:00\u001b[0ma \u001b[36m0:00:01\u001b[0m\n",
      "\u001b[?25hDownloading lxml-5.3.0-cp312-cp312-macosx_10_9_universal2.whl (8.2 MB)\n",
      "\u001b[2K   \u001b[90m━━━━━━━━━━━━━━━━━━━━━━━━━━━━━━━━━━━━━━━━\u001b[0m \u001b[32m8.2/8.2 MB\u001b[0m \u001b[31m13.2 MB/s\u001b[0m eta \u001b[36m0:00:00\u001b[0ma \u001b[36m0:00:01\u001b[0m\n",
      "\u001b[?25hInstalling collected packages: nibabel, lxml, nilearn\n",
      "Successfully installed lxml-5.3.0 nibabel-5.3.2 nilearn-0.11.1\n",
      "Note: you may need to restart the kernel to use updated packages.\n"
     ]
    }
   ],
   "source": [
    "pip install nilearn"
   ]
  },
  {
   "cell_type": "code",
   "execution_count": 85,
   "metadata": {
    "executionInfo": {
     "elapsed": 14,
     "status": "ok",
     "timestamp": 1706190589602,
     "user": {
      "displayName": "Rugved Thakare",
      "userId": "10113203800218501256"
     },
     "user_tz": -330
    },
    "id": "bgVrT_JDhxr0"
   },
   "outputs": [],
   "source": [
    "from nilearn import datasets\n",
    "subj4 = datasets.fetch_haxby(subjects=[4])"
   ]
  },
  {
   "cell_type": "code",
   "execution_count": 86,
   "metadata": {
    "colab": {
     "base_uri": "https://localhost:8080/"
    },
    "executionInfo": {
     "elapsed": 37612,
     "status": "ok",
     "timestamp": 1706190627201,
     "user": {
      "displayName": "Rugved Thakare",
      "userId": "10113203800218501256"
     },
     "user_tz": -330
    },
    "id": "S8LO74WXh7YU",
    "outputId": "169a8bcf-2f8e-4fde-f22a-5eae27e5e7b8"
   },
   "outputs": [
    {
     "name": "stderr",
     "output_type": "stream",
     "text": [
      "/usr/local/lib/python3.10/dist-packages/nilearn/image/resampling.py:493: UserWarning: The provided image has no sform in its header. Please check the provided file. Results may not be as expected.\n",
      "  warnings.warn(\n",
      "/usr/local/lib/python3.10/dist-packages/joblib/memory.py:353: FutureWarning: The default strategy for standardize is currently 'zscore' which incorrectly uses population std to calculate sample zscores. The new strategy 'zscore_sample' corrects this behavior by using the sample std. In release 0.13, the default strategy will be replaced by the new strategy and the 'zscore' option will be removed. Please use 'zscore_sample' instead.\n",
      "  return self.func(*args, **kwargs)\n"
     ]
    }
   ],
   "source": [
    "from nilearn.maskers import NiftiMasker\n",
    "masker = NiftiMasker(mask_img=subj4['mask_vt'][0],\n",
    "                     standardize=\"zscore_sample\",\n",
    "                     detrend=True,\n",
    "                     high_variance_confounds=True)\n",
    "time_series = masker.fit_transform(subj4['func'][0])\n"
   ]
  },
  {
   "cell_type": "code",
   "execution_count": 87,
   "metadata": {
    "colab": {
     "base_uri": "https://localhost:8080/"
    },
    "executionInfo": {
     "elapsed": 26,
     "status": "ok",
     "timestamp": 1706190627201,
     "user": {
      "displayName": "Rugved Thakare",
      "userId": "10113203800218501256"
     },
     "user_tz": -330
    },
    "id": "oh7onu-riFMr",
    "outputId": "ddafe402-a0b2-498d-b07e-8c055b68cf58"
   },
   "outputs": [
    {
     "name": "stdout",
     "output_type": "stream",
     "text": [
      "(1452, 675)\n",
      "(216, 675)\n",
      "(216,)\n"
     ]
    },
    {
     "data": {
      "text/plain": [
       "array(['face', 'house'], dtype=object)"
      ]
     },
     "execution_count": 87,
     "metadata": {},
     "output_type": "execute_result"
    }
   ],
   "source": [
    "import pandas as pd\n",
    "import numpy as np\n",
    "behavioral = pd.read_csv(subj4['session_target'][0], sep=\" \")\n",
    "# Restrict to face, house conditions\n",
    "conditions = behavioral[\"labels\"]\n",
    "condition_mask = conditions.isin([\"face\", \"house\"])\n",
    "condition_mask_array = np.array(condition_mask)\n",
    "X = time_series[condition_mask_array]\n",
    "y = conditions[condition_mask]\n",
    "print(time_series.shape)\n",
    "print(X.shape)\n",
    "print(y.shape)\n",
    "y.unique()\n",
    "np.array(['face', 'house'], dtype=object)"
   ]
  },
  {
   "cell_type": "code",
   "execution_count": 88,
   "metadata": {
    "colab": {
     "base_uri": "https://localhost:8080/"
    },
    "executionInfo": {
     "elapsed": 22,
     "status": "ok",
     "timestamp": 1706190627202,
     "user": {
      "displayName": "Rugved Thakare",
      "userId": "10113203800218501256"
     },
     "user_tz": -330
    },
    "id": "iKnNuuwXeXhG",
    "outputId": "803fbafa-5367-4b29-e46c-ce45003c94f8"
   },
   "outputs": [
    {
     "name": "stdout",
     "output_type": "stream",
     "text": [
      "1.0\n"
     ]
    }
   ],
   "source": [
    "from sklearn.model_selection import train_test_split\n",
    "X_train, X_test, y_train, y_test = train_test_split(X, y, test_size=0.33, random_state=42)\n",
    "from sklearn.svm import LinearSVC\n",
    "svc = LinearSVC()\n",
    "svc.fit(X_train, y_train)\n",
    "predicted = svc.predict(X_test)\n",
    "from sklearn.metrics import accuracy_score\n",
    "print(accuracy_score(y_test, predicted))"
   ]
  },
  {
   "cell_type": "code",
   "execution_count": 89,
   "metadata": {
    "colab": {
     "base_uri": "https://localhost:8080/"
    },
    "executionInfo": {
     "elapsed": 20,
     "status": "ok",
     "timestamp": 1706190627202,
     "user": {
      "displayName": "Rugved Thakare",
      "userId": "10113203800218501256"
     },
     "user_tz": -330
    },
    "id": "_eINxXmoe2IP",
    "outputId": "a6bc8c42-544b-42ba-92f2-e77b23947f6f"
   },
   "outputs": [
    {
     "name": "stdout",
     "output_type": "stream",
     "text": [
      "(1452,)\n",
      "(1452,)\n",
      "0.8333333333333334\n"
     ]
    }
   ],
   "source": [
    "condition_mask_train = (condition_mask) & (behavioral[\"chunks\"] <= 10)\n",
    "condition_mask_test = (condition_mask) & (behavioral[\"chunks\"] > 10)\n",
    "print(condition_mask_train.shape)\n",
    "print(condition_mask_test.shape)\n",
    "X_train = time_series[condition_mask_train]\n",
    "X_test = time_series[condition_mask_test]\n",
    "y_train = conditions[condition_mask_train]\n",
    "y_test = conditions[condition_mask_test]\n",
    "svc.fit(X_train, y_train)\n",
    "predicted = svc.predict(X_test)\n",
    "print(accuracy_score(y_test, predicted))"
   ]
  },
  {
   "cell_type": "code",
   "execution_count": 90,
   "metadata": {
    "colab": {
     "base_uri": "https://localhost:8080/",
     "height": 746
    },
    "executionInfo": {
     "elapsed": 18,
     "status": "ok",
     "timestamp": 1706190627202,
     "user": {
      "displayName": "Rugved Thakare",
      "userId": "10113203800218501256"
     },
     "user_tz": -330
    },
    "id": "600ETgvZS9JJ",
    "outputId": "5f19aeec-120d-4602-f094-9d2029d1714a"
   },
   "outputs": [
    {
     "name": "stdout",
     "output_type": "stream",
     "text": [
      "Accuracy for test chunk 0: 1.0\n",
      "Accuracy for test chunk 1: 1.0\n",
      "Accuracy for test chunk 2: 1.0\n",
      "Accuracy for test chunk 3: 1.0\n",
      "Accuracy for test chunk 4: 0.9444444444444444\n",
      "Accuracy for test chunk 5: 1.0\n",
      "Accuracy for test chunk 6: 1.0\n",
      "Accuracy for test chunk 7: 1.0\n",
      "Accuracy for test chunk 8: 1.0\n",
      "Accuracy for test chunk 9: 0.9444444444444444\n",
      "Accuracy for test chunk 10: 1.0\n",
      "Accuracy for test chunk 11: 0.8333333333333334\n",
      "\n",
      "Mean Accuracy: 0.976851851851852\n",
      "Standard Deviation: 0.04788926126291018\n"
     ]
    },
    {
     "data": {
      "image/png": "[encoded data removed]",
      "text/plain": [
       "<Figure size 640x480 with 1 Axes>"
      ]
     },
     "metadata": {},
     "output_type": "display_data"
    }
   ],
   "source": [
    "import pandas as pd\n",
    "import numpy as np\n",
    "from sklearn.svm import LinearSVC\n",
    "from sklearn.metrics import accuracy_score\n",
    "import matplotlib.pyplot as plt\n",
    "\n",
    "svc = LinearSVC()\n",
    "\n",
    "\n",
    "accuracy_values1 = []\n",
    "\n",
    "\n",
    "for val in range(12):\n",
    "\n",
    "    condition_mask_train = (condition_mask) & (behavioral[\"chunks\"] != val)\n",
    "    condition_mask_test = (condition_mask) & (behavioral[\"chunks\"] == val)\n",
    "\n",
    "    X_train_selected = time_series[condition_mask_train]\n",
    "    X_test_selected = time_series[condition_mask_test]\n",
    "    y_train_selected = conditions[condition_mask_train]\n",
    "    y_test_selected = conditions[condition_mask_test]\n",
    "\n",
    "\n",
    "    svc.fit(X_train_selected, y_train_selected)\n",
    "    predicted_selected = svc.predict(X_test_selected)\n",
    "\n",
    "    accuracy = accuracy_score(y_test_selected, predicted_selected)\n",
    "    accuracy_values1.append(accuracy)\n",
    "\n",
    "    print(f\"Accuracy for test chunk {val}: {accuracy}\")\n",
    "\n",
    "mean_accuracy = np.mean(accuracy_values1)\n",
    "std_accuracy = np.std(accuracy_values1)\n",
    "\n",
    "print(f\"\\nMean Accuracy: {mean_accuracy}\")\n",
    "print(f\"Standard Deviation: {std_accuracy}\")\n",
    "\n",
    "plt.boxplot(accuracy_values1)\n",
    "plt.title('Accuracy Boxplot for 12 Test Chunks')\n",
    "plt.xlabel('Test Chunk')\n",
    "plt.ylabel('Accuracy')\n",
    "plt.show()\n"
   ]
  },
  {
   "cell_type": "markdown",
   "metadata": {
    "id": "ts4rQ6a4f0PG"
   },
   "source": [
    "Ventral temporal All Features Face vs Scissors\n"
   ]
  },
  {
   "cell_type": "code",
   "execution_count": 90,
   "metadata": {
    "executionInfo": {
     "elapsed": 13,
     "status": "ok",
     "timestamp": 1706190627202,
     "user": {
      "displayName": "Rugved Thakare",
      "userId": "10113203800218501256"
     },
     "user_tz": -330
    },
    "id": "67fIw6Wcf5oq"
   },
   "outputs": [],
   "source": []
  },
  {
   "cell_type": "code",
   "execution_count": 91,
   "metadata": {
    "colab": {
     "base_uri": "https://localhost:8080/"
    },
    "executionInfo": {
     "elapsed": 921,
     "status": "ok",
     "timestamp": 1706190628110,
     "user": {
      "displayName": "Rugved Thakare",
      "userId": "10113203800218501256"
     },
     "user_tz": -330
    },
    "id": "cvoaBQYLgAZi",
    "outputId": "c99d4382-d92d-4cd6-c97d-4d6428a02ad9"
   },
   "outputs": [
    {
     "name": "stdout",
     "output_type": "stream",
     "text": [
      "(1452, 675)\n",
      "(216, 675)\n",
      "(216,)\n"
     ]
    },
    {
     "data": {
      "text/plain": [
       "array(['face', 'scissors'], dtype=object)"
      ]
     },
     "execution_count": 91,
     "metadata": {},
     "output_type": "execute_result"
    }
   ],
   "source": [
    "import pandas as pd\n",
    "import numpy as np\n",
    "behavioral = pd.read_csv(subj4['session_target'][0], sep=\" \")\n",
    "# Restrict to face, house conditions\n",
    "conditions = behavioral[\"labels\"]\n",
    "condition_mask = conditions.isin([\"face\", \"scissors\"])\n",
    "condition_mask_array = np.array(condition_mask)\n",
    "X = time_series[condition_mask_array]\n",
    "y = conditions[condition_mask]\n",
    "print(time_series.shape)\n",
    "print(X.shape)\n",
    "print(y.shape)\n",
    "y.unique()\n",
    "np.array(['face', 'scissors'], dtype=object)"
   ]
  },
  {
   "cell_type": "code",
   "execution_count": 92,
   "metadata": {
    "colab": {
     "base_uri": "https://localhost:8080/"
    },
    "executionInfo": {
     "elapsed": 22,
     "status": "ok",
     "timestamp": 1706190628110,
     "user": {
      "displayName": "Rugved Thakare",
      "userId": "10113203800218501256"
     },
     "user_tz": -330
    },
    "id": "0fqIOSYEhYiq",
    "outputId": "7bf2ead9-3a5f-4835-e888-a7bd36a4a2c6"
   },
   "outputs": [
    {
     "name": "stdout",
     "output_type": "stream",
     "text": [
      "0.9583333333333334\n"
     ]
    }
   ],
   "source": [
    "from sklearn.model_selection import train_test_split\n",
    "X_train, X_test, y_train, y_test = train_test_split(X, y, test_size=0.33, random_state=42)\n",
    "from sklearn.svm import LinearSVC\n",
    "svc = LinearSVC()\n",
    "svc.fit(X_train, y_train)\n",
    "predicted = svc.predict(X_test)\n",
    "from sklearn.metrics import accuracy_score\n",
    "print(accuracy_score(y_test, predicted))"
   ]
  },
  {
   "cell_type": "code",
   "execution_count": 93,
   "metadata": {
    "colab": {
     "base_uri": "https://localhost:8080/"
    },
    "executionInfo": {
     "elapsed": 20,
     "status": "ok",
     "timestamp": 1706190628111,
     "user": {
      "displayName": "Rugved Thakare",
      "userId": "10113203800218501256"
     },
     "user_tz": -330
    },
    "id": "-sDfxEVmhbiw",
    "outputId": "ba3b2a90-33ee-4252-9b4d-02f4a24670e5"
   },
   "outputs": [
    {
     "name": "stdout",
     "output_type": "stream",
     "text": [
      "(1452,)\n",
      "(1452,)\n",
      "0.9666666666666667\n"
     ]
    }
   ],
   "source": [
    "condition_mask_train = (condition_mask) & (behavioral[\"chunks\"] <= 6)\n",
    "condition_mask_test = (condition_mask) & (behavioral[\"chunks\"] > 6)\n",
    "print(condition_mask_train.shape)\n",
    "print(condition_mask_test.shape)\n",
    "X_train = time_series[condition_mask_train]\n",
    "X_test = time_series[condition_mask_test]\n",
    "y_train = conditions[condition_mask_train]\n",
    "y_test = conditions[condition_mask_test]\n",
    "svc.fit(X_train, y_train)\n",
    "predicted = svc.predict(X_test)\n",
    "print(accuracy_score(y_test, predicted))"
   ]
  },
  {
   "cell_type": "code",
   "execution_count": 94,
   "metadata": {
    "colab": {
     "base_uri": "https://localhost:8080/",
     "height": 746
    },
    "executionInfo": {
     "elapsed": 18,
     "status": "ok",
     "timestamp": 1706190628111,
     "user": {
      "displayName": "Rugved Thakare",
      "userId": "10113203800218501256"
     },
     "user_tz": -330
    },
    "id": "28x3I1DfS602",
    "outputId": "e6a0822d-5897-4a94-8552-fce9a4ca40c5"
   },
   "outputs": [
    {
     "name": "stdout",
     "output_type": "stream",
     "text": [
      "Accuracy for test chunk 0: 0.9444444444444444\n",
      "Accuracy for test chunk 1: 0.9444444444444444\n",
      "Accuracy for test chunk 2: 1.0\n",
      "Accuracy for test chunk 3: 1.0\n",
      "Accuracy for test chunk 4: 1.0\n",
      "Accuracy for test chunk 5: 0.9444444444444444\n",
      "Accuracy for test chunk 6: 1.0\n",
      "Accuracy for test chunk 7: 0.8888888888888888\n",
      "Accuracy for test chunk 8: 0.8333333333333334\n",
      "Accuracy for test chunk 9: 1.0\n",
      "Accuracy for test chunk 10: 0.9444444444444444\n",
      "Accuracy for test chunk 11: 0.7777777777777778\n",
      "\n",
      "Mean Accuracy: 0.9398148148148149\n",
      "Standard Deviation: 0.06975240358018224\n"
     ]
    },
    {
     "data": {
      "image/png": "[encoded data removed]",
      "text/plain": [
       "<Figure size 640x480 with 1 Axes>"
      ]
     },
     "metadata": {},
     "output_type": "display_data"
    }
   ],
   "source": [
    "import pandas as pd\n",
    "import numpy as np\n",
    "from sklearn.svm import LinearSVC\n",
    "from sklearn.metrics import accuracy_score\n",
    "import matplotlib.pyplot as plt\n",
    "\n",
    "svc = LinearSVC()\n",
    "\n",
    "accuracy_values = []\n",
    "\n",
    "for val in range(12):\n",
    "\n",
    "    condition_mask_train = (condition_mask) & (behavioral[\"chunks\"] != val)\n",
    "    condition_mask_test = (condition_mask) & (behavioral[\"chunks\"] == val)\n",
    "\n",
    "    X_train_selected = time_series[condition_mask_train]\n",
    "    X_test_selected = time_series[condition_mask_test]\n",
    "    y_train_selected = conditions[condition_mask_train]\n",
    "    y_test_selected = conditions[condition_mask_test]\n",
    "\n",
    "    svc.fit(X_train_selected, y_train_selected)\n",
    "    predicted_selected = svc.predict(X_test_selected)\n",
    "\n",
    "    accuracy = accuracy_score(y_test_selected, predicted_selected)\n",
    "    accuracy_values.append(accuracy)\n",
    "\n",
    "    print(f\"Accuracy for test chunk {val}: {accuracy}\")\n",
    "\n",
    "mean_accuracy = np.mean(accuracy_values)\n",
    "std_accuracy = np.std(accuracy_values)\n",
    "\n",
    "print(f\"\\nMean Accuracy: {mean_accuracy}\")\n",
    "print(f\"Standard Deviation: {std_accuracy}\")\n",
    "\n",
    "plt.boxplot(accuracy_values)\n",
    "plt.title('Accuracy Boxplot for 12 Test Chunks')\n",
    "plt.xlabel('Test Chunk')\n",
    "plt.ylabel('Accuracy')\n",
    "plt.show()\n"
   ]
  },
  {
   "cell_type": "code",
   "execution_count": 96,
   "metadata": {
    "colab": {
     "base_uri": "https://localhost:8080/",
     "height": 472
    },
    "executionInfo": {
     "elapsed": 1261,
     "status": "ok",
     "timestamp": 1706191083538,
     "user": {
      "displayName": "Rugved Thakare",
      "userId": "10113203800218501256"
     },
     "user_tz": -330
    },
    "id": "qLeOEv66pvg7",
    "outputId": "6c802440-99d7-4e86-f8d2-6b4fe0ad0a42"
   },
   "outputs": [
    {
     "data": {
      "image/png": "[encoded data removed]",
      "text/plain": [
       "<Figure size 640x480 with 1 Axes>"
      ]
     },
     "metadata": {},
     "output_type": "display_data"
    }
   ],
   "source": [
    "plt.boxplot([accuracy_values1, accuracy_values], labels=['Face Vs House', 'Face Vs Scissors'])\n",
    "\n",
    "# Add labels and title\n",
    "plt.xlabel('Lists')\n",
    "plt.ylabel('Values')\n",
    "plt.title('All Features VT')\n",
    "\n",
    "# Show the plot\n",
    "plt.show()"
   ]
  }
 ],
 "metadata": {
  "accelerator": "GPU",
  "colab": {
   "authorship_tag": "ABX9TyPLWT5ulLF4r7n1NE6dbMfe",
   "gpuType": "T4",
   "provenance": []
  },
  "kernelspec": {
   "display_name": "Python 3",
   "name": "python3"
  },
  "language_info": {
   "name": "python",
   "version": "3.12.6"
  }
 },
 "nbformat": 4,
 "nbformat_minor": 0
}
