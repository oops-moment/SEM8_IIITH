{
 "cells": [
  {
   "cell_type": "code",
   "execution_count": 3,
   "metadata": {},
   "outputs": [],
   "source": [
    "import pandas as pd\n",
    "\n",
    "from pycocotools.coco import COCO\n",
    "\n",
    "stim_descriptions = pd.read_csv('nsd_stim_info_merged.csv',\n",
    "                                index_col=0)\n",
    "\n"
   ]
  },
  {
   "cell_type": "code",
   "execution_count": 11,
   "metadata": {},
   "outputs": [],
   "source": [
    "\n",
    "coco_id = stim_descriptions[stim_descriptions['nsdId'] == 3249]['cocoId'].values[0]\n",
    "coco_split = stim_descriptions[stim_descriptions['nsdId'] == 3249]['cocoSplit'].values[0]\n"
   ]
  },
  {
   "cell_type": "code",
   "execution_count": 12,
   "metadata": {},
   "outputs": [
    {
     "name": "stdout",
     "output_type": "stream",
     "text": [
      "525179 train2017\n"
     ]
    }
   ],
   "source": [
    "print(coco_id, coco_split)"
   ]
  },
  {
   "cell_type": "code",
   "execution_count": null,
   "metadata": {},
   "outputs": [
    {
     "name": "stdout",
     "output_type": "stream",
     "text": [
      "loading annotations into memory...\n",
      "Done (t=0.28s)\n",
      "creating index...\n",
      "index created!\n",
      "[{'image_id': 525179, 'id': 319138, 'caption': 'A man standing next to a woman in front of a cake.'}, {'image_id': 525179, 'id': 323272, 'caption': 'The young couple is getting ready to cut the cake and share.'}, {'image_id': 525179, 'id': 323986, 'caption': 'A bride and groom standing by a table with a three tiered cake and candles.'}, {'image_id': 525179, 'id': 329173, 'caption': 'A man and woman standing by a table with a layered cake.'}, {'image_id': 525179, 'id': 333469, 'caption': 'A bride and groom prepare to cut their wedding cake'}]\n"
     ]
    }
   ],
   "source": [
    "coco_annotation_file = 'captions_train2017.json'\n",
    "coco_data = COCO(coco_annotation_file)\n",
    "\n",
    "coco_ann_ids = coco_data.getAnnIds(coco_id)\n",
    "coco_annotations = coco_data.loadAnns(coco_ann_ids)\n",
    "print(coco_annotations)\n"
   ]
  }
 ],
 "metadata": {
  "kernelspec": {
   "display_name": "Python 3",
   "language": "python",
   "name": "python3"
  },
  "language_info": {
   "codemirror_mode": {
    "name": "ipython",
    "version": 3
   },
   "file_extension": ".py",
   "mimetype": "text/x-python",
   "name": "python",
   "nbconvert_exporter": "python",
   "pygments_lexer": "ipython3",
   "version": "3.12.6"
  }
 },
 "nbformat": 4,
 "nbformat_minor": 2
}
