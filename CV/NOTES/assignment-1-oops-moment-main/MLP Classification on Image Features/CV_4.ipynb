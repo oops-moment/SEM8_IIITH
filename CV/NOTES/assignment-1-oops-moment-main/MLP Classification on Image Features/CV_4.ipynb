{
  "cells": [
    {
      "cell_type": "markdown",
      "metadata": {},
      "source": [
        "WANDB LOGS HERE : https://wandb.ai/oopss-moment-iiit-hyderabad/Assignment1_Computer_Vision?nw=nwuseroopssmoment"
      ]
    },
    {
      "cell_type": "code",
      "execution_count": null,
      "metadata": {
        "colab": {
          "base_uri": "https://localhost:8080/"
        },
        "collapsed": true,
        "id": "gxC5CNLntcW3",
        "outputId": "9e6b5062-c6fc-462d-eab3-f2acdcc92834"
      },
      "outputs": [
        {
          "name": "stdout",
          "output_type": "stream",
          "text": [
            "Requirement already satisfied: wandb in /usr/local/lib/python3.11/dist-packages (0.19.2)\n",
            "Requirement already satisfied: scikit-image in /usr/local/lib/python3.11/dist-packages (0.25.0)\n",
            "Requirement already satisfied: click!=8.0.0,>=7.1 in /usr/local/lib/python3.11/dist-packages (from wandb) (8.1.8)\n",
            "Requirement already satisfied: docker-pycreds>=0.4.0 in /usr/local/lib/python3.11/dist-packages (from wandb) (0.4.0)\n",
            "Requirement already satisfied: gitpython!=3.1.29,>=1.0.0 in /usr/local/lib/python3.11/dist-packages (from wandb) (3.1.44)\n",
            "Requirement already satisfied: platformdirs in /usr/local/lib/python3.11/dist-packages (from wandb) (4.3.6)\n",
            "Requirement already satisfied: protobuf!=4.21.0,!=5.28.0,<6,>=3.19.0 in /usr/local/lib/python3.11/dist-packages (from wandb) (4.25.5)\n",
            "Requirement already satisfied: psutil>=5.0.0 in /usr/local/lib/python3.11/dist-packages (from wandb) (5.9.5)\n",
            "Requirement already satisfied: pydantic<3,>=2.6 in /usr/local/lib/python3.11/dist-packages (from wandb) (2.10.5)\n",
            "Requirement already satisfied: pyyaml in /usr/local/lib/python3.11/dist-packages (from wandb) (6.0.2)\n",
            "Requirement already satisfied: requests<3,>=2.0.0 in /usr/local/lib/python3.11/dist-packages (from wandb) (2.32.3)\n",
            "Requirement already satisfied: sentry-sdk>=2.0.0 in /usr/local/lib/python3.11/dist-packages (from wandb) (2.19.2)\n",
            "Requirement already satisfied: setproctitle in /usr/local/lib/python3.11/dist-packages (from wandb) (1.3.4)\n",
            "Requirement already satisfied: setuptools in /usr/local/lib/python3.11/dist-packages (from wandb) (75.1.0)\n",
            "Requirement already satisfied: typing-extensions<5,>=4.4 in /usr/local/lib/python3.11/dist-packages (from wandb) (4.12.2)\n",
            "Requirement already satisfied: numpy>=1.24 in /usr/local/lib/python3.11/dist-packages (from scikit-image) (1.26.4)\n",
            "Requirement already satisfied: scipy>=1.11.2 in /usr/local/lib/python3.11/dist-packages (from scikit-image) (1.13.1)\n",
            "Requirement already satisfied: networkx>=3.0 in /usr/local/lib/python3.11/dist-packages (from scikit-image) (3.4.2)\n",
            "Requirement already satisfied: pillow>=10.1 in /usr/local/lib/python3.11/dist-packages (from scikit-image) (11.1.0)\n",
            "Requirement already satisfied: imageio!=2.35.0,>=2.33 in /usr/local/lib/python3.11/dist-packages (from scikit-image) (2.36.1)\n",
            "Requirement already satisfied: tifffile>=2022.8.12 in /usr/local/lib/python3.11/dist-packages (from scikit-image) (2024.12.12)\n",
            "Requirement already satisfied: packaging>=21 in /usr/local/lib/python3.11/dist-packages (from scikit-image) (24.2)\n",
            "Requirement already satisfied: lazy-loader>=0.4 in /usr/local/lib/python3.11/dist-packages (from scikit-image) (0.4)\n",
            "Requirement already satisfied: six>=1.4.0 in /usr/local/lib/python3.11/dist-packages (from docker-pycreds>=0.4.0->wandb) (1.17.0)\n",
            "Requirement already satisfied: gitdb<5,>=4.0.1 in /usr/local/lib/python3.11/dist-packages (from gitpython!=3.1.29,>=1.0.0->wandb) (4.0.12)\n",
            "Requirement already satisfied: annotated-types>=0.6.0 in /usr/local/lib/python3.11/dist-packages (from pydantic<3,>=2.6->wandb) (0.7.0)\n",
            "Requirement already satisfied: pydantic-core==2.27.2 in /usr/local/lib/python3.11/dist-packages (from pydantic<3,>=2.6->wandb) (2.27.2)\n",
            "Requirement already satisfied: charset-normalizer<4,>=2 in /usr/local/lib/python3.11/dist-packages (from requests<3,>=2.0.0->wandb) (3.4.1)\n",
            "Requirement already satisfied: idna<4,>=2.5 in /usr/local/lib/python3.11/dist-packages (from requests<3,>=2.0.0->wandb) (3.10)\n",
            "Requirement already satisfied: urllib3<3,>=1.21.1 in /usr/local/lib/python3.11/dist-packages (from requests<3,>=2.0.0->wandb) (2.3.0)\n",
            "Requirement already satisfied: certifi>=2017.4.17 in /usr/local/lib/python3.11/dist-packages (from requests<3,>=2.0.0->wandb) (2024.12.14)\n",
            "Requirement already satisfied: smmap<6,>=3.0.1 in /usr/local/lib/python3.11/dist-packages (from gitdb<5,>=4.0.1->gitpython!=3.1.29,>=1.0.0->wandb) (5.0.2)\n"
          ]
        }
      ],
      "source": [
        "pip install wandb scikit-image\n"
      ]
    },
    {
      "cell_type": "code",
      "execution_count": 4,
      "metadata": {
        "colab": {
          "base_uri": "https://localhost:8080/"
        },
        "id": "NpPFU4QNthXy",
        "outputId": "962fa329-925b-4b82-9509-92646e5201b8"
      },
      "outputs": [
        {
          "name": "stdout",
          "output_type": "stream",
          "text": [
            "\u001b[34m\u001b[1mwandb\u001b[0m: Logging into wandb.ai. (Learn how to deploy a W&B server locally: https://wandb.me/wandb-server)\n",
            "\u001b[34m\u001b[1mwandb\u001b[0m: You can find your API key in your browser here: https://wandb.ai/authorize\n",
            "\u001b[34m\u001b[1mwandb\u001b[0m: Paste an API key from your profile and hit enter, or press ctrl+c to quit: \n",
            "\u001b[34m\u001b[1mwandb\u001b[0m: Appending key for api.wandb.ai to your netrc file: /root/.netrc\n"
          ]
        }
      ],
      "source": [
        "!wandb login --relogin"
      ]
    },
    {
      "cell_type": "markdown",
      "metadata": {
        "id": "UVoqzb_bwl_m"
      },
      "source": [
        "## Get Required Libraries"
      ]
    },
    {
      "cell_type": "code",
      "execution_count": 5,
      "metadata": {
        "id": "0RcLo3LEa0eA"
      },
      "outputs": [],
      "source": [
        "import numpy as np\n",
        "import pandas as pd\n",
        "import torch\n",
        "import torch.nn as nn\n",
        "import torch.optim as optim\n",
        "import torchvision.transforms as transforms\n",
        "import matplotlib.pyplot as plt\n",
        "from sklearn.model_selection import train_test_split\n",
        "from sklearn.metrics import accuracy_score, precision_score, recall_score, f1_score, confusion_matrix\n",
        "import wandb\n",
        "import cv2\n",
        "from tqdm import tqdm\n",
        "from torch.utils.data import DataLoader, TensorDataset\n",
        "from skimage.feature import hog\n"
      ]
    },
    {
      "cell_type": "code",
      "execution_count": 6,
      "metadata": {
        "id": "yDfbyE2PdByZ"
      },
      "outputs": [],
      "source": [
        "device = torch.device(\"cuda\" if torch.cuda.is_available() else \"cpu\")"
      ]
    },
    {
      "cell_type": "markdown",
      "metadata": {
        "id": "M2m-xgDKxV38"
      },
      "source": [
        "## 4.1.1 Load and preprocess dataset"
      ]
    },
    {
      "cell_type": "code",
      "execution_count": 7,
      "metadata": {
        "id": "3HpJ7p6ZcWLq"
      },
      "outputs": [],
      "source": [
        "def load_dataset(file_path):\n",
        "    data = pd.read_csv(file_path)\n",
        "    labels = data['label'].values\n",
        "    images = data.drop(columns=['label']).values.reshape(-1, 28, 28)\n",
        "    return images, labels\n",
        "\n",
        "train_images, train_labels = load_dataset(\"train.csv\")\n",
        "test_images, test_labels = load_dataset(\"test.csv\")\n",
        "\n",
        "# Split train into train/val\n",
        "train_images, val_images, train_labels, val_labels = train_test_split(\n",
        "    train_images, train_labels, test_size=0.2, random_state=42\n",
        ")\n"
      ]
    },
    {
      "cell_type": "code",
      "execution_count": 8,
      "metadata": {
        "colab": {
          "base_uri": "https://localhost:8080/"
        },
        "id": "ef2ciybGICZ5",
        "outputId": "63e189d5-3e9d-4040-8300-5bdcab7c4929"
      },
      "outputs": [
        {
          "name": "stdout",
          "output_type": "stream",
          "text": [
            "Number of unique labels in train: 10\n",
            "Number of unique labels in test: 10\n"
          ]
        }
      ],
      "source": [
        "print(f\"Number of unique labels in train: {len(np.unique(train_labels))}\")\n",
        "print(f\"Number of unique labels in test: {len(np.unique(test_labels))}\")"
      ]
    },
    {
      "cell_type": "code",
      "execution_count": 9,
      "metadata": {
        "id": "3LpEQocCdjUP"
      },
      "outputs": [],
      "source": [
        "# Normalize images\n",
        "train_images = train_images / 255.0\n",
        "val_images = val_images / 255.0\n",
        "test_images = test_images / 255.0"
      ]
    },
    {
      "cell_type": "code",
      "execution_count": 10,
      "metadata": {
        "colab": {
          "base_uri": "https://localhost:8080/"
        },
        "id": "TZjrP7iux1fa",
        "outputId": "ec2d4e31-f75e-4fef-a602-0dfaae290404"
      },
      "outputs": [
        {
          "name": "stdout",
          "output_type": "stream",
          "text": [
            "Train images shape: (48000, 28, 28)\n",
            "Train labels shape: (48000,)\n",
            "Validation images shape: (12000, 28, 28)\n",
            "Validation labels shape: (12000,)\n",
            "Test images shape: (10000, 28, 28)\n",
            "Test labels shape: (10000,)\n"
          ]
        }
      ],
      "source": [
        "# print the sizes\n",
        "print(\"Train images shape:\", train_images.shape)\n",
        "print(\"Train labels shape:\", train_labels.shape)\n",
        "print(\"Validation images shape:\", val_images.shape)\n",
        "print(\"Validation labels shape:\", val_labels.shape)\n",
        "print(\"Test images shape:\", test_images.shape)\n",
        "print(\"Test labels shape:\", test_labels.shape)"
      ]
    },
    {
      "cell_type": "code",
      "execution_count": 11,
      "metadata": {
        "id": "GRWRfdHCd4G6"
      },
      "outputs": [],
      "source": [
        "def visualize_samples(images, labels, num_samples=12):\n",
        "    rows = num_samples // 4\n",
        "    plt.figure(figsize=(15, rows * 5))\n",
        "    for i in range(num_samples):\n",
        "        plt.subplot(rows, 4, i + 1)\n",
        "        plt.imshow(images[i], cmap=\"gray\")\n",
        "        plt.title(labels[i])\n",
        "        plt.axis(\"off\")\n",
        "    plt.show()\n"
      ]
    },
    {
      "cell_type": "code",
      "execution_count": 12,
      "metadata": {
        "colab": {
          "base_uri": "https://localhost:8080/",
          "height": 998
        },
        "id": "FlyzLHO3d8PB",
        "outputId": "a77071f3-59fb-4f36-b426-81b77ea5bf4a"
      },
      "outputs": [
        {
          "data": {
            "image/png": "[encoded data removed]",
            "text/plain": [
              "<Figure size 1500x1500 with 12 Axes>"
            ]
          },
          "metadata": {},
          "output_type": "display_data"
        }
      ],
      "source": [
        "visualize_samples(test_images, test_labels, num_samples=12)"
      ]
    },
    {
      "cell_type": "markdown",
      "metadata": {
        "id": "M8p1vJ3CFJzr"
      },
      "source": [
        "The dataset consists of 10 distinct classes of clothing and accessories.\n",
        "Each class is assigned a unique numerical label for identification.\n",
        "The labels are as follows:\n",
        "\n",
        "0: T-shirt\n",
        "\n",
        "1: Trouser\n",
        "\n",
        "2: Pullover\n",
        "\n",
        "3: Dress\n",
        "\n",
        "4: Coat\n",
        "\n",
        "5: Sandal\n",
        "\n",
        "6: Shirt\n",
        "\n",
        "7: Sneaker\n",
        "\n",
        "8: Bag\n",
        "\n",
        "9: Ankle boot\n"
      ]
    },
    {
      "cell_type": "code",
      "execution_count": 78,
      "metadata": {
        "colab": {
          "base_uri": "https://localhost:8080/",
          "height": 120
        },
        "id": "Mom7P3dPoKDE",
        "outputId": "6ce279ca-a579-41cf-8865-2e4d34e0e2ca"
      },
      "outputs": [
        {
          "data": {
            "text/html": [
              "Tracking run with wandb version 0.19.2"
            ],
            "text/plain": [
              "<IPython.core.display.HTML object>"
            ]
          },
          "metadata": {},
          "output_type": "display_data"
        },
        {
          "data": {
            "text/html": [
              "Run data is saved locally in <code>/content/wandb/run-20250122_112440-x27l7muw</code>"
            ],
            "text/plain": [
              "<IPython.core.display.HTML object>"
            ]
          },
          "metadata": {},
          "output_type": "display_data"
        },
        {
          "data": {
            "text/html": [
              "Syncing run <strong><a href='https://wandb.ai/oopss-moment-iiit-hyderabad/Assignment1_Computer_Vision/runs/x27l7muw' target=\"_blank\">Initial_Run_Metrics_for_All_Models</a></strong> to <a href='https://wandb.ai/oopss-moment-iiit-hyderabad/Assignment1_Computer_Vision' target=\"_blank\">Weights & Biases</a> (<a href='https://wandb.me/developer-guide' target=\"_blank\">docs</a>)<br>"
            ],
            "text/plain": [
              "<IPython.core.display.HTML object>"
            ]
          },
          "metadata": {},
          "output_type": "display_data"
        },
        {
          "data": {
            "text/html": [
              " View project at <a href='https://wandb.ai/oopss-moment-iiit-hyderabad/Assignment1_Computer_Vision' target=\"_blank\">https://wandb.ai/oopss-moment-iiit-hyderabad/Assignment1_Computer_Vision</a>"
            ],
            "text/plain": [
              "<IPython.core.display.HTML object>"
            ]
          },
          "metadata": {},
          "output_type": "display_data"
        },
        {
          "data": {
            "text/html": [
              " View run at <a href='https://wandb.ai/oopss-moment-iiit-hyderabad/Assignment1_Computer_Vision/runs/x27l7muw' target=\"_blank\">https://wandb.ai/oopss-moment-iiit-hyderabad/Assignment1_Computer_Vision/runs/x27l7muw</a>"
            ],
            "text/plain": [
              "<IPython.core.display.HTML object>"
            ]
          },
          "metadata": {},
          "output_type": "display_data"
        },
        {
          "data": {
            "text/html": [
              "<button onClick=\"this.nextSibling.style.display='block';this.style.display='none';\">Display W&B run</button><iframe src='https://wandb.ai/oopss-moment-iiit-hyderabad/Assignment1_Computer_Vision/runs/x27l7muw?jupyter=true' style='border:none;width:100%;height:420px;display:none;'></iframe>"
            ],
            "text/plain": [
              "<wandb.sdk.wandb_run.Run at 0x7a7e4a907f50>"
            ]
          },
          "execution_count": 78,
          "metadata": {},
          "output_type": "execute_result"
        }
      ],
      "source": [
        "wandb.init(\n",
        "            project=\"Assignment1_Computer_Vision\",\n",
        "            name=f\"Initial_Run_Metrics_for_All_Models\",\n",
        "        )"
      ]
    },
    {
      "cell_type": "code",
      "execution_count": 14,
      "metadata": {
        "id": "qqyltAWRybkM"
      },
      "outputs": [],
      "source": [
        "# Store Model Configuration\n",
        "mlp_config = {\n",
        "    \"input_dim\": \"input_dim_value\",  # Replace with the actual input dimension\n",
        "    \"hidden_layers\": [128, 64],\n",
        "    \"activation\": \"ReLU\",\n",
        "    \"dropout\": 0.2,\n",
        "    \"output_dim\": 10,\n",
        "    \"epochs\": 10,\n",
        "    \"batch_size\": 64,\n",
        "    \"optimizer\": \"Adam\",\n",
        "    \"learning_rate\": 0.001,\n",
        "    \"loss_function\": \"CrossEntropyLoss\",\n",
        "    \"Model 1\": \"Raw Images\",\n",
        "    \"Model 2\": \"Canny Edge Detection\",\n",
        "    \"Model 3\": \"HOG test Images\",\n",
        "}\n",
        "\n",
        "wandb.config.update(mlp_config)"
      ]
    },
    {
      "cell_type": "code",
      "execution_count": 15,
      "metadata": {
        "id": "6W0KVpc9eJzq"
      },
      "outputs": [],
      "source": [
        "# MLP Model Definition\n",
        "class MLP(nn.Module):\n",
        "    def __init__(self, input_dim):\n",
        "        super(MLP, self).__init__()\n",
        "        self.model = nn.Sequential(\n",
        "            nn.Flatten(),\n",
        "            nn.Linear(input_dim, 128),\n",
        "            nn.ReLU(),\n",
        "            nn.Dropout(0.2),\n",
        "            nn.Linear(128, 64),\n",
        "            nn.ReLU(),\n",
        "            nn.Dropout(0.2),\n",
        "            nn.Linear(64, 10),\n",
        "        )\n",
        "\n",
        "    def forward(self, x):\n",
        "        return self.model(x)"
      ]
    },
    {
      "cell_type": "code",
      "execution_count": 16,
      "metadata": {
        "id": "aFhNKV9mefou"
      },
      "outputs": [],
      "source": [
        "# Evaluate Function\n",
        "def evaluate_model(model, loader):\n",
        "    all_preds, all_labels = [], []\n",
        "    criterion = nn.CrossEntropyLoss()\n",
        "    loss=0\n",
        "    with torch.no_grad():\n",
        "        for images, labels in loader:\n",
        "            images, labels = images.to(device), labels.to(device)\n",
        "            outputs = model(images)\n",
        "            loss += criterion(outputs, labels)\n",
        "            preds = torch.argmax(outputs, dim=1)\n",
        "            all_preds.extend(preds.cpu().numpy())\n",
        "            all_labels.extend(labels.cpu().numpy())\n",
        "\n",
        "    loss/=len(loader)\n",
        "    return accuracy_score(all_labels, all_preds),loss"
      ]
    },
    {
      "cell_type": "code",
      "execution_count": 17,
      "metadata": {
        "id": "Mi6sB9jueW4z"
      },
      "outputs": [],
      "source": [
        "def train_model(model, train_loader, val_loader, epochs=30, patience=3, optimizer=None):\n",
        "    if optimizer is None:\n",
        "        optimizer = optim.Adam(model.parameters(), lr=0.001)\n",
        "\n",
        "    criterion = nn.CrossEntropyLoss()\n",
        "    train_loss_array=[]\n",
        "    val_loss_array=[]\n",
        "    val_acc_array=[]\n",
        "\n",
        "    best_acc = 0.0\n",
        "    patience_counter = 0\n",
        "    flag=0\n",
        "\n",
        "    for epoch in range(epochs):\n",
        "        print(f\"Epoch {epoch + 1}/{epochs}\")\n",
        "        model.train()\n",
        "        train_loss = 0.0\n",
        "\n",
        "        for images, labels in tqdm(train_loader, desc=\"Training\", leave=False):\n",
        "            images, labels = images.to(device), labels.to(device)\n",
        "            optimizer.zero_grad()\n",
        "            outputs = model(images)\n",
        "\n",
        "            if flag==0:\n",
        "                print(f\"Input shape: {images.shape}, Labels shape: {labels.shape}\")\n",
        "                print(f\"Output shape: {outputs.shape}\")\n",
        "                flag=1\n",
        "\n",
        "            loss = criterion(outputs, labels)\n",
        "            loss.backward()\n",
        "            optimizer.step()\n",
        "\n",
        "            train_loss += loss.item()\n",
        "\n",
        "        avg_train_loss = train_loss / len(train_loader)\n",
        "        train_loss_array.append(avg_train_loss)\n",
        "        print(f\"Train Loss: {avg_train_loss:.4f}\")\n",
        "\n",
        "        # Validation\n",
        "        model.eval()\n",
        "        val_acc,val_loss= evaluate_model(model, val_loader)\n",
        "        val_loss_array.append(val_loss)\n",
        "        val_acc_array.append(val_acc)\n",
        "        print(f\"Validation Accuracy: {val_acc:.4f}\")\n",
        "\n",
        "\n",
        "\n",
        "        if val_acc > best_acc:\n",
        "            best_acc = val_acc\n",
        "            patience_counter = 0\n",
        "            print(\"Validation accuracy improved. Resetting patience counter.\")\n",
        "        else:\n",
        "            patience_counter += 1\n",
        "            print(f\"Validation accuracy did not improve. Patience counter: {patience_counter}/{patience}\")\n",
        "\n",
        "        if patience_counter >= patience:\n",
        "            print(\"Early stopping triggered.\")\n",
        "            break\n",
        "\n",
        "    print(f\"Best Validation Accuracy: {best_acc:.4f}\")\n",
        "    return model, best_acc ,train_loss_array,val_loss_array,val_acc_array"
      ]
    },
    {
      "cell_type": "code",
      "execution_count": 18,
      "metadata": {
        "id": "B0N6FzecwRNY"
      },
      "outputs": [],
      "source": [
        "# Data Preparation\n",
        "def prepare_dataloader(images, labels, batch_size=64):\n",
        "    tensor_images = torch.tensor(images, dtype=torch.float32).unsqueeze(1)\n",
        "    tensor_labels = torch.tensor(labels, dtype=torch.long)\n",
        "    dataset = TensorDataset(tensor_images, tensor_labels)\n",
        "    loader = DataLoader(dataset, batch_size=batch_size)\n",
        "    return loader\n",
        "\n",
        "def prepare_hog_dataloader(hog_images, labels, batch_size=64):\n",
        "    tensor_hog_images = torch.tensor(hog_images, dtype=torch.float32)\n",
        "    tensor_labels = torch.tensor(labels, dtype=torch.long)\n",
        "    dataset = TensorDataset(tensor_hog_images, tensor_labels)\n",
        "    loader = DataLoader(dataset, batch_size=batch_size)\n",
        "    return loader\n"
      ]
    },
    {
      "cell_type": "code",
      "execution_count": 19,
      "metadata": {
        "id": "qFUyfx30zfC6"
      },
      "outputs": [],
      "source": [
        "train_loader = prepare_dataloader(train_images, train_labels)\n",
        "val_loader = prepare_dataloader(val_images, val_labels)"
      ]
    },
    {
      "cell_type": "code",
      "execution_count": 20,
      "metadata": {
        "colab": {
          "base_uri": "https://localhost:8080/"
        },
        "id": "OXsce05NFQaE",
        "outputId": "879c249d-a0f6-4ac3-a51f-d4a1de50bf30"
      },
      "outputs": [
        {
          "name": "stdout",
          "output_type": "stream",
          "text": [
            "Batch of images shape: torch.Size([64, 1, 28, 28])\n",
            "Batch of labels shape: torch.Size([64])\n"
          ]
        }
      ],
      "source": [
        "# print the information about data loader\n",
        "for images, labels in train_loader:\n",
        "    print(\"Batch of images shape:\", images.shape)\n",
        "    print(\"Batch of labels shape:\", labels.shape)\n",
        "    break"
      ]
    },
    {
      "cell_type": "markdown",
      "metadata": {
        "id": "ob_ALqpkziax"
      },
      "source": [
        "## MODEL1 1: Raw Pixels"
      ]
    },
    {
      "cell_type": "code",
      "execution_count": 21,
      "metadata": {
        "colab": {
          "base_uri": "https://localhost:8080/"
        },
        "id": "r6e_Fm_2emEI",
        "outputId": "ab312bfc-33c6-4e18-8f97-1e031ffe81ac"
      },
      "outputs": [
        {
          "name": "stdout",
          "output_type": "stream",
          "text": [
            "Epoch 1/30\n"
          ]
        },
        {
          "name": "stderr",
          "output_type": "stream",
          "text": [
            "\rTraining:   0%|          | 0/750 [00:00<?, ?it/s]"
          ]
        },
        {
          "name": "stdout",
          "output_type": "stream",
          "text": [
            "Input shape: torch.Size([64, 1, 28, 28]), Labels shape: torch.Size([64])\n",
            "Output shape: torch.Size([64, 10])\n"
          ]
        },
        {
          "name": "stderr",
          "output_type": "stream",
          "text": []
        },
        {
          "name": "stdout",
          "output_type": "stream",
          "text": [
            "Train Loss: 0.6699\n",
            "Validation Accuracy: 0.8394\n",
            "Validation accuracy improved. Resetting patience counter.\n",
            "Epoch 2/30\n"
          ]
        },
        {
          "name": "stderr",
          "output_type": "stream",
          "text": []
        },
        {
          "name": "stdout",
          "output_type": "stream",
          "text": [
            "Train Loss: 0.4532\n",
            "Validation Accuracy: 0.8585\n",
            "Validation accuracy improved. Resetting patience counter.\n",
            "Epoch 3/30\n"
          ]
        },
        {
          "name": "stderr",
          "output_type": "stream",
          "text": []
        },
        {
          "name": "stdout",
          "output_type": "stream",
          "text": [
            "Train Loss: 0.4125\n",
            "Validation Accuracy: 0.8626\n",
            "Validation accuracy improved. Resetting patience counter.\n",
            "Epoch 4/30\n"
          ]
        },
        {
          "name": "stderr",
          "output_type": "stream",
          "text": []
        },
        {
          "name": "stdout",
          "output_type": "stream",
          "text": [
            "Train Loss: 0.3860\n",
            "Validation Accuracy: 0.8669\n",
            "Validation accuracy improved. Resetting patience counter.\n",
            "Epoch 5/30\n"
          ]
        },
        {
          "name": "stderr",
          "output_type": "stream",
          "text": []
        },
        {
          "name": "stdout",
          "output_type": "stream",
          "text": [
            "Train Loss: 0.3714\n",
            "Validation Accuracy: 0.8752\n",
            "Validation accuracy improved. Resetting patience counter.\n",
            "Epoch 6/30\n"
          ]
        },
        {
          "name": "stderr",
          "output_type": "stream",
          "text": []
        },
        {
          "name": "stdout",
          "output_type": "stream",
          "text": [
            "Train Loss: 0.3547\n",
            "Validation Accuracy: 0.8757\n",
            "Validation accuracy improved. Resetting patience counter.\n",
            "Epoch 7/30\n"
          ]
        },
        {
          "name": "stderr",
          "output_type": "stream",
          "text": []
        },
        {
          "name": "stdout",
          "output_type": "stream",
          "text": [
            "Train Loss: 0.3419\n",
            "Validation Accuracy: 0.8774\n",
            "Validation accuracy improved. Resetting patience counter.\n",
            "Epoch 8/30\n"
          ]
        },
        {
          "name": "stderr",
          "output_type": "stream",
          "text": []
        },
        {
          "name": "stdout",
          "output_type": "stream",
          "text": [
            "Train Loss: 0.3331\n",
            "Validation Accuracy: 0.8774\n",
            "Validation accuracy did not improve. Patience counter: 1/3\n",
            "Epoch 9/30\n"
          ]
        },
        {
          "name": "stderr",
          "output_type": "stream",
          "text": []
        },
        {
          "name": "stdout",
          "output_type": "stream",
          "text": [
            "Train Loss: 0.3227\n",
            "Validation Accuracy: 0.8823\n",
            "Validation accuracy improved. Resetting patience counter.\n",
            "Epoch 10/30\n"
          ]
        },
        {
          "name": "stderr",
          "output_type": "stream",
          "text": []
        },
        {
          "name": "stdout",
          "output_type": "stream",
          "text": [
            "Train Loss: 0.3158\n",
            "Validation Accuracy: 0.8835\n",
            "Validation accuracy improved. Resetting patience counter.\n",
            "Epoch 11/30\n"
          ]
        },
        {
          "name": "stderr",
          "output_type": "stream",
          "text": []
        },
        {
          "name": "stdout",
          "output_type": "stream",
          "text": [
            "Train Loss: 0.3086\n",
            "Validation Accuracy: 0.8841\n",
            "Validation accuracy improved. Resetting patience counter.\n",
            "Epoch 12/30\n"
          ]
        },
        {
          "name": "stderr",
          "output_type": "stream",
          "text": []
        },
        {
          "name": "stdout",
          "output_type": "stream",
          "text": [
            "Train Loss: 0.2993\n",
            "Validation Accuracy: 0.8872\n",
            "Validation accuracy improved. Resetting patience counter.\n",
            "Epoch 13/30\n"
          ]
        },
        {
          "name": "stderr",
          "output_type": "stream",
          "text": []
        },
        {
          "name": "stdout",
          "output_type": "stream",
          "text": [
            "Train Loss: 0.2950\n",
            "Validation Accuracy: 0.8842\n",
            "Validation accuracy did not improve. Patience counter: 1/3\n",
            "Epoch 14/30\n"
          ]
        },
        {
          "name": "stderr",
          "output_type": "stream",
          "text": []
        },
        {
          "name": "stdout",
          "output_type": "stream",
          "text": [
            "Train Loss: 0.2886\n",
            "Validation Accuracy: 0.8848\n",
            "Validation accuracy did not improve. Patience counter: 2/3\n",
            "Epoch 15/30\n"
          ]
        },
        {
          "name": "stderr",
          "output_type": "stream",
          "text": []
        },
        {
          "name": "stdout",
          "output_type": "stream",
          "text": [
            "Train Loss: 0.2843\n",
            "Validation Accuracy: 0.8882\n",
            "Validation accuracy improved. Resetting patience counter.\n",
            "Epoch 16/30\n"
          ]
        },
        {
          "name": "stderr",
          "output_type": "stream",
          "text": []
        },
        {
          "name": "stdout",
          "output_type": "stream",
          "text": [
            "Train Loss: 0.2801\n",
            "Validation Accuracy: 0.8864\n",
            "Validation accuracy did not improve. Patience counter: 1/3\n",
            "Epoch 17/30\n"
          ]
        },
        {
          "name": "stderr",
          "output_type": "stream",
          "text": []
        },
        {
          "name": "stdout",
          "output_type": "stream",
          "text": [
            "Train Loss: 0.2768\n",
            "Validation Accuracy: 0.8899\n",
            "Validation accuracy improved. Resetting patience counter.\n",
            "Epoch 18/30\n"
          ]
        },
        {
          "name": "stderr",
          "output_type": "stream",
          "text": []
        },
        {
          "name": "stdout",
          "output_type": "stream",
          "text": [
            "Train Loss: 0.2705\n",
            "Validation Accuracy: 0.8883\n",
            "Validation accuracy did not improve. Patience counter: 1/3\n",
            "Epoch 19/30\n"
          ]
        },
        {
          "name": "stderr",
          "output_type": "stream",
          "text": []
        },
        {
          "name": "stdout",
          "output_type": "stream",
          "text": [
            "Train Loss: 0.2698\n",
            "Validation Accuracy: 0.8880\n",
            "Validation accuracy did not improve. Patience counter: 2/3\n",
            "Epoch 20/30\n"
          ]
        },
        {
          "name": "stderr",
          "output_type": "stream",
          "text": []
        },
        {
          "name": "stdout",
          "output_type": "stream",
          "text": [
            "Train Loss: 0.2637\n",
            "Validation Accuracy: 0.8901\n",
            "Validation accuracy improved. Resetting patience counter.\n",
            "Epoch 21/30\n"
          ]
        },
        {
          "name": "stderr",
          "output_type": "stream",
          "text": []
        },
        {
          "name": "stdout",
          "output_type": "stream",
          "text": [
            "Train Loss: 0.2590\n",
            "Validation Accuracy: 0.8922\n",
            "Validation accuracy improved. Resetting patience counter.\n",
            "Epoch 22/30\n"
          ]
        },
        {
          "name": "stderr",
          "output_type": "stream",
          "text": []
        },
        {
          "name": "stdout",
          "output_type": "stream",
          "text": [
            "Train Loss: 0.2559\n",
            "Validation Accuracy: 0.8907\n",
            "Validation accuracy did not improve. Patience counter: 1/3\n",
            "Epoch 23/30\n"
          ]
        },
        {
          "name": "stderr",
          "output_type": "stream",
          "text": []
        },
        {
          "name": "stdout",
          "output_type": "stream",
          "text": [
            "Train Loss: 0.2549\n",
            "Validation Accuracy: 0.8922\n",
            "Validation accuracy did not improve. Patience counter: 2/3\n",
            "Epoch 24/30\n"
          ]
        },
        {
          "name": "stderr",
          "output_type": "stream",
          "text": []
        },
        {
          "name": "stdout",
          "output_type": "stream",
          "text": [
            "Train Loss: 0.2478\n",
            "Validation Accuracy: 0.8928\n",
            "Validation accuracy improved. Resetting patience counter.\n",
            "Epoch 25/30\n"
          ]
        },
        {
          "name": "stderr",
          "output_type": "stream",
          "text": []
        },
        {
          "name": "stdout",
          "output_type": "stream",
          "text": [
            "Train Loss: 0.2476\n",
            "Validation Accuracy: 0.8922\n",
            "Validation accuracy did not improve. Patience counter: 1/3\n",
            "Epoch 26/30\n"
          ]
        },
        {
          "name": "stderr",
          "output_type": "stream",
          "text": []
        },
        {
          "name": "stdout",
          "output_type": "stream",
          "text": [
            "Train Loss: 0.2424\n",
            "Validation Accuracy: 0.8916\n",
            "Validation accuracy did not improve. Patience counter: 2/3\n",
            "Epoch 27/30\n"
          ]
        },
        {
          "name": "stderr",
          "output_type": "stream",
          "text": []
        },
        {
          "name": "stdout",
          "output_type": "stream",
          "text": [
            "Train Loss: 0.2393\n",
            "Validation Accuracy: 0.8904\n",
            "Validation accuracy did not improve. Patience counter: 3/3\n",
            "Early stopping triggered.\n",
            "Best Validation Accuracy: 0.8928\n"
          ]
        }
      ],
      "source": [
        "# @title\n",
        "model1 = MLP(input_dim=28*28).to(device)\n",
        "model1,model1_acc,_,_,_ = train_model(model1, train_loader, val_loader)\n"
      ]
    },
    {
      "cell_type": "markdown",
      "metadata": {
        "id": "T-KgcmlN0sF6"
      },
      "source": [
        "## Model 2: Edge Detection\n"
      ]
    },
    {
      "cell_type": "code",
      "execution_count": 22,
      "metadata": {
        "id": "xWVhNl-zesgM"
      },
      "outputs": [],
      "source": [
        "def edge_detection(images):\n",
        "    return np.array([cv2.Canny((img*255).astype(np.uint8), 100, 200) for img in images])"
      ]
    },
    {
      "cell_type": "code",
      "execution_count": 23,
      "metadata": {
        "id": "afR7CxSJICZ8"
      },
      "outputs": [],
      "source": [
        "edge_train_images = edge_detection(train_images)\n",
        "edge_val_images = edge_detection(val_images)\n",
        "\n",
        "edge_train_loader = prepare_dataloader(edge_train_images, train_labels)\n",
        "edge_val_loader = prepare_dataloader(edge_val_images, val_labels)"
      ]
    },
    {
      "cell_type": "code",
      "execution_count": 24,
      "metadata": {
        "colab": {
          "base_uri": "https://localhost:8080/",
          "height": 473
        },
        "id": "uAIJFtVzICZ9",
        "outputId": "3bd567b4-c92b-491f-cc89-756828b43902"
      },
      "outputs": [
        {
          "data": {
            "image/png": "[encoded data removed]",
            "text/plain": [
              "<Figure size 1000x500 with 10 Axes>"
            ]
          },
          "metadata": {},
          "output_type": "display_data"
        }
      ],
      "source": [
        "def visualize_edge_detection(original_images, edge_images, num_samples=5):\n",
        "    \"\"\"\n",
        "    Visualize original images and their edge-detected versions side by side.\n",
        "\n",
        "    Args:\n",
        "        original_images (np.ndarray): Array of original images.\n",
        "        edge_images (np.ndarray): Array of edge-detected images.\n",
        "        num_samples (int): Number of samples to display (default is 5).\n",
        "    \"\"\"\n",
        "    plt.figure(figsize=(10, 5))\n",
        "\n",
        "    for i in range(num_samples):\n",
        "        # Original image\n",
        "        plt.subplot(2, num_samples, i + 1)\n",
        "        plt.imshow(original_images[i], cmap='gray')\n",
        "        plt.title(\"Original\")\n",
        "        plt.axis('off')\n",
        "\n",
        "        # Edge-detected image\n",
        "        plt.subplot(2, num_samples, num_samples + i + 1)\n",
        "        plt.imshow(edge_images[i], cmap='gray')\n",
        "        plt.title(\"Edge-Detected\")\n",
        "        plt.axis('off')\n",
        "\n",
        "    plt.tight_layout()\n",
        "    plt.show()\n",
        "\n",
        "\n",
        "# Visualize the first 5 images and their edge-detected counterparts\n",
        "visualize_edge_detection(train_images[:5], edge_train_images[:5], num_samples=5)"
      ]
    },
    {
      "cell_type": "code",
      "execution_count": 45,
      "metadata": {
        "colab": {
          "base_uri": "https://localhost:8080/"
        },
        "id": "5D0Qe9CZezSm",
        "outputId": "f5e3dbc4-b433-4cda-b9b1-1619135c4d7c"
      },
      "outputs": [
        {
          "name": "stdout",
          "output_type": "stream",
          "text": [
            "Epoch 1/30\n"
          ]
        },
        {
          "name": "stderr",
          "output_type": "stream",
          "text": [
            "Training:   2%|▏         | 14/750 [00:00<00:05, 128.11it/s]"
          ]
        },
        {
          "name": "stdout",
          "output_type": "stream",
          "text": [
            "Input shape: torch.Size([64, 1, 28, 28]), Labels shape: torch.Size([64])\n",
            "Output shape: torch.Size([64, 10])\n"
          ]
        },
        {
          "name": "stderr",
          "output_type": "stream",
          "text": []
        },
        {
          "name": "stdout",
          "output_type": "stream",
          "text": [
            "Train Loss: 1.0108\n",
            "Validation Accuracy: 0.7883\n",
            "Validation accuracy improved. Resetting patience counter.\n",
            "Epoch 2/30\n"
          ]
        },
        {
          "name": "stderr",
          "output_type": "stream",
          "text": []
        },
        {
          "name": "stdout",
          "output_type": "stream",
          "text": [
            "Train Loss: 0.6003\n",
            "Validation Accuracy: 0.8102\n",
            "Validation accuracy improved. Resetting patience counter.\n",
            "Epoch 3/30\n"
          ]
        },
        {
          "name": "stderr",
          "output_type": "stream",
          "text": []
        },
        {
          "name": "stdout",
          "output_type": "stream",
          "text": [
            "Train Loss: 0.5195\n",
            "Validation Accuracy: 0.8258\n",
            "Validation accuracy improved. Resetting patience counter.\n",
            "Epoch 4/30\n"
          ]
        },
        {
          "name": "stderr",
          "output_type": "stream",
          "text": []
        },
        {
          "name": "stdout",
          "output_type": "stream",
          "text": [
            "Train Loss: 0.4895\n",
            "Validation Accuracy: 0.8276\n",
            "Validation accuracy improved. Resetting patience counter.\n",
            "Epoch 5/30\n"
          ]
        },
        {
          "name": "stderr",
          "output_type": "stream",
          "text": []
        },
        {
          "name": "stdout",
          "output_type": "stream",
          "text": [
            "Train Loss: 0.4570\n",
            "Validation Accuracy: 0.8367\n",
            "Validation accuracy improved. Resetting patience counter.\n",
            "Epoch 6/30\n"
          ]
        },
        {
          "name": "stderr",
          "output_type": "stream",
          "text": []
        },
        {
          "name": "stdout",
          "output_type": "stream",
          "text": [
            "Train Loss: 0.4402\n",
            "Validation Accuracy: 0.8390\n",
            "Validation accuracy improved. Resetting patience counter.\n",
            "Epoch 7/30\n"
          ]
        },
        {
          "name": "stderr",
          "output_type": "stream",
          "text": []
        },
        {
          "name": "stdout",
          "output_type": "stream",
          "text": [
            "Train Loss: 0.4244\n",
            "Validation Accuracy: 0.8353\n",
            "Validation accuracy did not improve. Patience counter: 1/3\n",
            "Epoch 8/30\n"
          ]
        },
        {
          "name": "stderr",
          "output_type": "stream",
          "text": []
        },
        {
          "name": "stdout",
          "output_type": "stream",
          "text": [
            "Train Loss: 0.4123\n",
            "Validation Accuracy: 0.8419\n",
            "Validation accuracy improved. Resetting patience counter.\n",
            "Epoch 9/30\n"
          ]
        },
        {
          "name": "stderr",
          "output_type": "stream",
          "text": []
        },
        {
          "name": "stdout",
          "output_type": "stream",
          "text": [
            "Train Loss: 0.4019\n",
            "Validation Accuracy: 0.8397\n",
            "Validation accuracy did not improve. Patience counter: 1/3\n",
            "Epoch 10/30\n"
          ]
        },
        {
          "name": "stderr",
          "output_type": "stream",
          "text": []
        },
        {
          "name": "stdout",
          "output_type": "stream",
          "text": [
            "Train Loss: 0.3938\n",
            "Validation Accuracy: 0.8352\n",
            "Validation accuracy did not improve. Patience counter: 2/3\n",
            "Epoch 11/30\n"
          ]
        },
        {
          "name": "stderr",
          "output_type": "stream",
          "text": []
        },
        {
          "name": "stdout",
          "output_type": "stream",
          "text": [
            "Train Loss: 0.3870\n",
            "Validation Accuracy: 0.8337\n",
            "Validation accuracy did not improve. Patience counter: 3/3\n",
            "Early stopping triggered.\n",
            "Best Validation Accuracy: 0.8419\n"
          ]
        }
      ],
      "source": [
        "model2 = MLP(input_dim=28*28).to(device)\n",
        "model2,model2_acc,model2_train_loss, model2_val_loss, model2_val_acc= train_model(model2, edge_train_loader, edge_val_loader)\n"
      ]
    },
    {
      "cell_type": "markdown",
      "metadata": {
        "id": "ygCFYyFP0yLd"
      },
      "source": [
        "## Model 3: Custom Feature Extraction (HOG)\n"
      ]
    },
    {
      "cell_type": "code",
      "execution_count": 26,
      "metadata": {
        "colab": {
          "base_uri": "https://localhost:8080/",
          "height": 473
        },
        "id": "fFz7xJywICZ9",
        "outputId": "0c82c6e9-6e87-49c6-d72a-6ff0e989c0e4"
      },
      "outputs": [
        {
          "data": {
            "image/png": "[encoded data removed]",
            "text/plain": [
              "<Figure size 1000x500 with 10 Axes>"
            ]
          },
          "metadata": {},
          "output_type": "display_data"
        }
      ],
      "source": [
        "def visualize_hog_features(images, num_samples=5):\n",
        "    \"\"\"\n",
        "    Visualize original images and their HOG feature visualizations side by side.\n",
        "\n",
        "    Args:\n",
        "        images (np.ndarray): Array of original images.\n",
        "        num_samples (int): Number of samples to visualize (default is 5).\n",
        "    \"\"\"\n",
        "    plt.figure(figsize=(10, 5))\n",
        "\n",
        "    for i in range(num_samples):\n",
        "        # Original image\n",
        "        plt.subplot(2, num_samples, i + 1)\n",
        "        plt.imshow(images[i], cmap='gray')\n",
        "        plt.title(\"Original\")\n",
        "        plt.axis('off')\n",
        "\n",
        "        # HOG visualization\n",
        "        _, hog_image = hog(images[i], orientations=9, pixels_per_cell=(8, 8),\n",
        "                           cells_per_block=(2, 2), block_norm='L2-Hys', visualize=True)\n",
        "        plt.subplot(2, num_samples, num_samples + i + 1)\n",
        "        plt.imshow(hog_image, cmap='gray')\n",
        "        plt.title(\"HOG Visualization\")\n",
        "        plt.axis('off')\n",
        "\n",
        "    plt.tight_layout()\n",
        "    plt.show()\n",
        "\n",
        "# Visualize HOG features for the first 5 training images\n",
        "visualize_hog_features(train_images[:5], num_samples=5)"
      ]
    },
    {
      "cell_type": "code",
      "execution_count": 27,
      "metadata": {
        "colab": {
          "base_uri": "https://localhost:8080/"
        },
        "id": "gEoFQRk0e5Q7",
        "outputId": "21f81eae-8e57-4dc2-b4f4-e5192d4930c4"
      },
      "outputs": [
        {
          "name": "stdout",
          "output_type": "stream",
          "text": [
            "Epoch 1/30\n"
          ]
        },
        {
          "name": "stderr",
          "output_type": "stream",
          "text": [
            "Training:   7%|▋         | 50/750 [00:00<00:01, 496.57it/s]"
          ]
        },
        {
          "name": "stdout",
          "output_type": "stream",
          "text": [
            "Input shape: torch.Size([64, 144]), Labels shape: torch.Size([64])\n",
            "Output shape: torch.Size([64, 10])\n"
          ]
        },
        {
          "name": "stderr",
          "output_type": "stream",
          "text": []
        },
        {
          "name": "stdout",
          "output_type": "stream",
          "text": [
            "Train Loss: 0.8766\n",
            "Validation Accuracy: 0.7756\n",
            "Validation accuracy improved. Resetting patience counter.\n",
            "Epoch 2/30\n"
          ]
        },
        {
          "name": "stderr",
          "output_type": "stream",
          "text": []
        },
        {
          "name": "stdout",
          "output_type": "stream",
          "text": [
            "Train Loss: 0.5958\n",
            "Validation Accuracy: 0.7961\n",
            "Validation accuracy improved. Resetting patience counter.\n",
            "Epoch 3/30\n"
          ]
        },
        {
          "name": "stderr",
          "output_type": "stream",
          "text": []
        },
        {
          "name": "stdout",
          "output_type": "stream",
          "text": [
            "Train Loss: 0.5491\n",
            "Validation Accuracy: 0.8079\n",
            "Validation accuracy improved. Resetting patience counter.\n",
            "Epoch 4/30\n"
          ]
        },
        {
          "name": "stderr",
          "output_type": "stream",
          "text": []
        },
        {
          "name": "stdout",
          "output_type": "stream",
          "text": [
            "Train Loss: 0.5219\n",
            "Validation Accuracy: 0.8135\n",
            "Validation accuracy improved. Resetting patience counter.\n",
            "Epoch 5/30\n"
          ]
        },
        {
          "name": "stderr",
          "output_type": "stream",
          "text": []
        },
        {
          "name": "stdout",
          "output_type": "stream",
          "text": [
            "Train Loss: 0.5040\n",
            "Validation Accuracy: 0.8177\n",
            "Validation accuracy improved. Resetting patience counter.\n",
            "Epoch 6/30\n"
          ]
        },
        {
          "name": "stderr",
          "output_type": "stream",
          "text": []
        },
        {
          "name": "stdout",
          "output_type": "stream",
          "text": [
            "Train Loss: 0.4889\n",
            "Validation Accuracy: 0.8203\n",
            "Validation accuracy improved. Resetting patience counter.\n",
            "Epoch 7/30\n"
          ]
        },
        {
          "name": "stderr",
          "output_type": "stream",
          "text": []
        },
        {
          "name": "stdout",
          "output_type": "stream",
          "text": [
            "Train Loss: 0.4742\n",
            "Validation Accuracy: 0.8242\n",
            "Validation accuracy improved. Resetting patience counter.\n",
            "Epoch 8/30\n"
          ]
        },
        {
          "name": "stderr",
          "output_type": "stream",
          "text": []
        },
        {
          "name": "stdout",
          "output_type": "stream",
          "text": [
            "Train Loss: 0.4630\n",
            "Validation Accuracy: 0.8269\n",
            "Validation accuracy improved. Resetting patience counter.\n",
            "Epoch 9/30\n"
          ]
        },
        {
          "name": "stderr",
          "output_type": "stream",
          "text": []
        },
        {
          "name": "stdout",
          "output_type": "stream",
          "text": [
            "Train Loss: 0.4543\n",
            "Validation Accuracy: 0.8269\n",
            "Validation accuracy did not improve. Patience counter: 1/3\n",
            "Epoch 10/30\n"
          ]
        },
        {
          "name": "stderr",
          "output_type": "stream",
          "text": []
        },
        {
          "name": "stdout",
          "output_type": "stream",
          "text": [
            "Train Loss: 0.4484\n",
            "Validation Accuracy: 0.8316\n",
            "Validation accuracy improved. Resetting patience counter.\n",
            "Epoch 11/30\n"
          ]
        },
        {
          "name": "stderr",
          "output_type": "stream",
          "text": []
        },
        {
          "name": "stdout",
          "output_type": "stream",
          "text": [
            "Train Loss: 0.4421\n",
            "Validation Accuracy: 0.8321\n",
            "Validation accuracy improved. Resetting patience counter.\n",
            "Epoch 12/30\n"
          ]
        },
        {
          "name": "stderr",
          "output_type": "stream",
          "text": []
        },
        {
          "name": "stdout",
          "output_type": "stream",
          "text": [
            "Train Loss: 0.4345\n",
            "Validation Accuracy: 0.8320\n",
            "Validation accuracy did not improve. Patience counter: 1/3\n",
            "Epoch 13/30\n"
          ]
        },
        {
          "name": "stderr",
          "output_type": "stream",
          "text": []
        },
        {
          "name": "stdout",
          "output_type": "stream",
          "text": [
            "Train Loss: 0.4297\n",
            "Validation Accuracy: 0.8369\n",
            "Validation accuracy improved. Resetting patience counter.\n",
            "Epoch 14/30\n"
          ]
        },
        {
          "name": "stderr",
          "output_type": "stream",
          "text": []
        },
        {
          "name": "stdout",
          "output_type": "stream",
          "text": [
            "Train Loss: 0.4231\n",
            "Validation Accuracy: 0.8365\n",
            "Validation accuracy did not improve. Patience counter: 1/3\n",
            "Epoch 15/30\n"
          ]
        },
        {
          "name": "stderr",
          "output_type": "stream",
          "text": []
        },
        {
          "name": "stdout",
          "output_type": "stream",
          "text": [
            "Train Loss: 0.4196\n",
            "Validation Accuracy: 0.8383\n",
            "Validation accuracy improved. Resetting patience counter.\n",
            "Epoch 16/30\n"
          ]
        },
        {
          "name": "stderr",
          "output_type": "stream",
          "text": []
        },
        {
          "name": "stdout",
          "output_type": "stream",
          "text": [
            "Train Loss: 0.4138\n",
            "Validation Accuracy: 0.8403\n",
            "Validation accuracy improved. Resetting patience counter.\n",
            "Epoch 17/30\n"
          ]
        },
        {
          "name": "stderr",
          "output_type": "stream",
          "text": []
        },
        {
          "name": "stdout",
          "output_type": "stream",
          "text": [
            "Train Loss: 0.4109\n",
            "Validation Accuracy: 0.8386\n",
            "Validation accuracy did not improve. Patience counter: 1/3\n",
            "Epoch 18/30\n"
          ]
        },
        {
          "name": "stderr",
          "output_type": "stream",
          "text": []
        },
        {
          "name": "stdout",
          "output_type": "stream",
          "text": [
            "Train Loss: 0.4062\n",
            "Validation Accuracy: 0.8393\n",
            "Validation accuracy did not improve. Patience counter: 2/3\n",
            "Epoch 19/30\n"
          ]
        },
        {
          "name": "stderr",
          "output_type": "stream",
          "text": []
        },
        {
          "name": "stdout",
          "output_type": "stream",
          "text": [
            "Train Loss: 0.4026\n",
            "Validation Accuracy: 0.8417\n",
            "Validation accuracy improved. Resetting patience counter.\n",
            "Epoch 20/30\n"
          ]
        },
        {
          "name": "stderr",
          "output_type": "stream",
          "text": []
        },
        {
          "name": "stdout",
          "output_type": "stream",
          "text": [
            "Train Loss: 0.3988\n",
            "Validation Accuracy: 0.8410\n",
            "Validation accuracy did not improve. Patience counter: 1/3\n",
            "Epoch 21/30\n"
          ]
        },
        {
          "name": "stderr",
          "output_type": "stream",
          "text": []
        },
        {
          "name": "stdout",
          "output_type": "stream",
          "text": [
            "Train Loss: 0.3939\n",
            "Validation Accuracy: 0.8439\n",
            "Validation accuracy improved. Resetting patience counter.\n",
            "Epoch 22/30\n"
          ]
        },
        {
          "name": "stderr",
          "output_type": "stream",
          "text": []
        },
        {
          "name": "stdout",
          "output_type": "stream",
          "text": [
            "Train Loss: 0.3919\n",
            "Validation Accuracy: 0.8455\n",
            "Validation accuracy improved. Resetting patience counter.\n",
            "Epoch 23/30\n"
          ]
        },
        {
          "name": "stderr",
          "output_type": "stream",
          "text": []
        },
        {
          "name": "stdout",
          "output_type": "stream",
          "text": [
            "Train Loss: 0.3877\n",
            "Validation Accuracy: 0.8397\n",
            "Validation accuracy did not improve. Patience counter: 1/3\n",
            "Epoch 24/30\n"
          ]
        },
        {
          "name": "stderr",
          "output_type": "stream",
          "text": []
        },
        {
          "name": "stdout",
          "output_type": "stream",
          "text": [
            "Train Loss: 0.3887\n",
            "Validation Accuracy: 0.8459\n",
            "Validation accuracy improved. Resetting patience counter.\n",
            "Epoch 25/30\n"
          ]
        },
        {
          "name": "stderr",
          "output_type": "stream",
          "text": []
        },
        {
          "name": "stdout",
          "output_type": "stream",
          "text": [
            "Train Loss: 0.3849\n",
            "Validation Accuracy: 0.8439\n",
            "Validation accuracy did not improve. Patience counter: 1/3\n",
            "Epoch 26/30\n"
          ]
        },
        {
          "name": "stderr",
          "output_type": "stream",
          "text": []
        },
        {
          "name": "stdout",
          "output_type": "stream",
          "text": [
            "Train Loss: 0.3808\n",
            "Validation Accuracy: 0.8449\n",
            "Validation accuracy did not improve. Patience counter: 2/3\n",
            "Epoch 27/30\n"
          ]
        },
        {
          "name": "stderr",
          "output_type": "stream",
          "text": []
        },
        {
          "name": "stdout",
          "output_type": "stream",
          "text": [
            "Train Loss: 0.3775\n",
            "Validation Accuracy: 0.8443\n",
            "Validation accuracy did not improve. Patience counter: 3/3\n",
            "Early stopping triggered.\n",
            "Best Validation Accuracy: 0.8459\n"
          ]
        }
      ],
      "source": [
        "def extract_hog_features(images):\n",
        "    features = []\n",
        "    for img in images:\n",
        "        hog_feat = hog(img, orientations=9, pixels_per_cell=(8, 8),\n",
        "                       cells_per_block=(2, 2), block_norm='L2-Hys')\n",
        "        features.append(hog_feat)\n",
        "    return np.array(features)\n",
        "\n",
        "hog_train_images = extract_hog_features(train_images)\n",
        "hog_val_images = extract_hog_features(val_images)\n",
        "\n",
        "hog_train_loader = prepare_hog_dataloader(hog_train_images, train_labels)\n",
        "hog_val_loader = prepare_hog_dataloader(hog_val_images, val_labels)\n",
        "\n",
        "model3 = MLP(input_dim=hog_train_images.shape[1]).to(device)\n",
        "model3,model3_acc,_,_,_ = train_model(model3, hog_train_loader, hog_val_loader)"
      ]
    },
    {
      "cell_type": "code",
      "execution_count": 79,
      "metadata": {
        "colab": {
          "base_uri": "https://localhost:8080/",
          "height": 615
        },
        "id": "AtOQonPLe9uO",
        "outputId": "611ba02f-1a69-455b-c3f6-c8919b48fd65"
      },
      "outputs": [
        {
          "name": "stdout",
          "output_type": "stream",
          "text": [
            "Metrics for Model 1: {'accuracy': 0.8846, 'precision': 0.8844781655573325, 'recall': 0.8846, 'f1': 0.8830550159295502, 'confusion_matrix': array([[857,   0,   9,  32,   0,   2,  87,   0,  13,   0],\n",
            "       [  3, 981,   1,  11,   0,   0,   3,   0,   1,   0],\n",
            "       [ 14,   0, 754,  12, 159,   0,  60,   0,   1,   0],\n",
            "       [ 24,  14,   9, 911,  25,   1,  14,   0,   2,   0],\n",
            "       [  0,   0,  40,  26, 889,   0,  41,   0,   4,   0],\n",
            "       [  0,   0,   0,   0,   0, 950,   0,  33,   4,  13],\n",
            "       [183,   2,  68,  24,  82,   0, 626,   0,  15,   0],\n",
            "       [  0,   0,   0,   0,   0,  23,   0, 938,   0,  39],\n",
            "       [  1,   0,   4,   3,   4,   1,   1,   2, 984,   0],\n",
            "       [  0,   0,   0,   0,   0,  10,   0,  34,   0, 956]])}\n",
            "Metrics for Model 2: {'accuracy': 0.8379, 'precision': 0.8417651051757543, 'recall': 0.8379000000000001, 'f1': 0.8359745955728972, 'confusion_matrix': array([[796,  13,   7,  65,   4,   0, 102,   0,  13,   0],\n",
            "       [  1, 959,   1,  23,   4,   1,  11,   0,   0,   0],\n",
            "       [ 15,   2, 619,  16, 228,   0, 114,   0,   6,   0],\n",
            "       [ 14,  20,   6, 901,  39,   1,  14,   0,   5,   0],\n",
            "       [  1,   5,  34,  37, 862,   0,  51,   0,  10,   0],\n",
            "       [  0,   0,   0,   2,   0, 892,   0,  68,   3,  35],\n",
            "       [168,   5,  50,  56, 150,   0, 565,   0,   6,   0],\n",
            "       [  0,   0,   0,   0,   0,  34,   0, 912,   1,  53],\n",
            "       [  2,   3,   4,  10,  12,   1,  13,   2, 950,   3],\n",
            "       [  0,   0,   0,   0,   1,  21,   0,  53,   2, 923]])}\n",
            "Metrics for Model 3: {'accuracy': 0.8438, 'precision': 0.8421236760399552, 'recall': 0.8437999999999999, 'f1': 0.8415706535187513, 'confusion_matrix': array([[839,   9,  22,  42,   4,   1,  74,   0,   9,   0],\n",
            "       [  1, 968,   2,  21,   2,   0,   5,   0,   1,   0],\n",
            "       [ 26,   1, 692,  10, 145,   0, 119,   0,   7,   0],\n",
            "       [ 17,  30,   5, 885,  38,   0,  24,   0,   0,   1],\n",
            "       [  0,   0,  52,  39, 812,   1,  93,   0,   3,   0],\n",
            "       [  0,   1,   0,   0,   0, 928,   0,  62,   1,   8],\n",
            "       [194,   4,  85,  46, 142,   0, 519,   0,  10,   0],\n",
            "       [  0,   0,   0,   0,   0,  74,   0, 890,   1,  35],\n",
            "       [  6,   1,   2,   2,   5,   3,   9,   1, 968,   3],\n",
            "       [  0,   0,   0,   0,   0,  18,   0,  45,   0, 937]])}\n"
          ]
        },
        {
          "data": {
            "text/html": [],
            "text/plain": [
              "<IPython.core.display.HTML object>"
            ]
          },
          "metadata": {},
          "output_type": "display_data"
        },
        {
          "data": {
            "text/html": [
              " View run <strong style=\"color:#cdcd00\">Initial_Run_Metrics_for_All_Models</strong> at: <a href='https://wandb.ai/oopss-moment-iiit-hyderabad/Assignment1_Computer_Vision/runs/x27l7muw' target=\"_blank\">https://wandb.ai/oopss-moment-iiit-hyderabad/Assignment1_Computer_Vision/runs/x27l7muw</a><br> View project at: <a href='https://wandb.ai/oopss-moment-iiit-hyderabad/Assignment1_Computer_Vision' target=\"_blank\">https://wandb.ai/oopss-moment-iiit-hyderabad/Assignment1_Computer_Vision</a><br>Synced 5 W&B file(s), 0 media file(s), 0 artifact file(s) and 0 other file(s)"
            ],
            "text/plain": [
              "<IPython.core.display.HTML object>"
            ]
          },
          "metadata": {},
          "output_type": "display_data"
        },
        {
          "data": {
            "text/html": [
              "Find logs at: <code>./wandb/run-20250122_112440-x27l7muw/logs</code>"
            ],
            "text/plain": [
              "<IPython.core.display.HTML object>"
            ]
          },
          "metadata": {},
          "output_type": "display_data"
        }
      ],
      "source": [
        "# Evaluation Metrics\n",
        "def evaluate_metrics(model, loader):\n",
        "    all_preds, all_labels = [], []\n",
        "    with torch.no_grad():\n",
        "        for images, labels in loader:\n",
        "            images, labels = images.to(device), labels.to(device)\n",
        "            outputs = model(images)\n",
        "            preds = torch.argmax(outputs, dim=1)\n",
        "            all_preds.extend(preds.cpu().numpy())\n",
        "            all_labels.extend(labels.cpu().numpy())\n",
        "\n",
        "    acc = accuracy_score(all_labels, all_preds)\n",
        "    prec = precision_score(all_labels, all_preds, average='macro')\n",
        "    recall = recall_score(all_labels, all_preds, average='macro')\n",
        "    f1 = f1_score(all_labels, all_preds, average='macro')\n",
        "    cm = confusion_matrix(all_labels, all_preds)\n",
        "\n",
        "    return {\"accuracy\": acc, \"precision\": prec, \"recall\": recall, \"f1\": f1, \"confusion_matrix\": cm}\n",
        "\n",
        "# Main Evaluation Function\n",
        "def evaluate_models(models, loaders):\n",
        "    metrics = []\n",
        "    for i, (model, loader) in enumerate(zip(models, loaders)):\n",
        "        model_metrics = evaluate_metrics(model, loader)\n",
        "        metrics.append(model_metrics)\n",
        "        wandb.log({f\"Model_{i+1}_metrics\": model_metrics})\n",
        "        print(f\"Metrics for Model {i+1}: {model_metrics}\")\n",
        "\n",
        "    wandb.finish()\n",
        "    return metrics\n",
        "\n",
        "\n",
        "canny_test_images=edge_detection(test_images)\n",
        "hog_test_images=extract_hog_features(test_images)\n",
        "test_loader = prepare_dataloader(test_images, test_labels)\n",
        "canny_test_loader = prepare_dataloader(canny_test_images, test_labels)\n",
        "hog_test_loader = prepare_hog_dataloader(hog_test_images, test_labels)\n",
        "\n",
        "# Evaluate Models\n",
        "metrics = evaluate_models([model1, model2, model3], [test_loader, canny_test_loader, hog_test_loader])\n"
      ]
    },
    {
      "cell_type": "code",
      "execution_count": 29,
      "metadata": {
        "colab": {
          "base_uri": "https://localhost:8080/",
          "height": 1000
        },
        "id": "6dvKTS2hfVpi",
        "outputId": "380a79be-52dd-4235-aa8e-3342baa2880f"
      },
      "outputs": [
        {
          "data": {
            "image/png": "[encoded data removed]",
            "text/plain": [
              "<Figure size 600x600 with 2 Axes>"
            ]
          },
          "metadata": {},
          "output_type": "display_data"
        },
        {
          "data": {
            "image/png": "[encoded data removed]",
            "text/plain": [
              "<Figure size 600x600 with 2 Axes>"
            ]
          },
          "metadata": {},
          "output_type": "display_data"
        },
        {
          "data": {
            "image/png": "[encoded data removed]",
            "text/plain": [
              "<Figure size 600x600 with 2 Axes>"
            ]
          },
          "metadata": {},
          "output_type": "display_data"
        }
      ],
      "source": [
        "def plot_confusion_matrix(cm, class_names, model_number):\n",
        "    plt.figure(figsize=(6, 6))\n",
        "    plt.imshow(cm, interpolation='nearest', cmap=plt.cm.Blues)\n",
        "    plt.title(f\"CM Model {model_number}\") # Add title with model number\n",
        "    plt.colorbar()\n",
        "    tick_marks = np.arange(len(class_names))\n",
        "    plt.xticks(tick_marks, class_names, rotation=45)\n",
        "    plt.yticks(tick_marks, class_names)\n",
        "    plt.show()\n",
        "\n",
        "# Now when you call the function, pass the model number:\n",
        "plot_confusion_matrix(metrics[0][\"confusion_matrix\"], class_names=range(10), model_number=0)\n",
        "plot_confusion_matrix(metrics[1][\"confusion_matrix\"], class_names=range(10), model_number=1)\n",
        "plot_confusion_matrix(metrics[2][\"confusion_matrix\"], class_names=range(10), model_number=2)"
      ]
    },
    {
      "cell_type": "markdown",
      "metadata": {
        "id": "EtFjOXtQhjEn"
      },
      "source": [
        "[LOGS OF WANDB HERE](https://wandb.ai/oopss-moment-iiit-hyderabad/Assignment1_CV/runs/2hoscbyg/overview)"
      ]
    },
    {
      "cell_type": "markdown",
      "metadata": {
        "id": "-GwAQ6PVIHks"
      },
      "source": [
        "# SECTION 4.3 Plots and Performance Visualizations"
      ]
    },
    {
      "cell_type": "code",
      "execution_count": 31,
      "metadata": {
        "id": "V6sTAs07hMVe"
      },
      "outputs": [],
      "source": [
        "def train_multiple_variants(model_name,train_loader, val_loader, input_dim, variants):\n",
        "    best_model = None\n",
        "    best_acc = -1\n",
        "    best_metrics = {\"train_loss\": [], \"val_loss\": [], \"val_acc\": []}\n",
        "\n",
        "    for i, variant in enumerate(variants):\n",
        "        # Initialize WandB for this variant\n",
        "        wandb.init(\n",
        "            project=\"Assignment1_Computer_Vision\",\n",
        "            name=f\"Task-4.3_{model_name}_lr_{variant['lr']}_opt_{variant['optimizer']}\",\n",
        "            config=variant\n",
        "        )\n",
        "\n",
        "        print(f\"Training Model Variant {i + 1} with params: {variant}\")\n",
        "        model = MLP(input_dim=input_dim).to(device)\n",
        "\n",
        "        # Choose optimizer\n",
        "        if variant[\"optimizer\"] == \"adam\":\n",
        "            optimizer = optim.Adam(model.parameters(), lr=variant[\"lr\"])\n",
        "        elif variant[\"optimizer\"] == \"sgd\":\n",
        "            optimizer = optim.SGD(model.parameters(), lr=variant[\"lr\"], momentum=0.9)\n",
        "        else:\n",
        "            raise ValueError(f\"Unsupported optimizer: {variant['optimizer']}\")\n",
        "\n",
        "        # Train the model and log metrics\n",
        "        model, acc, train_loss, val_loss, val_acc = train_model(\n",
        "            model,\n",
        "            train_loader,\n",
        "            val_loader,\n",
        "            epochs=variant[\"epochs\"],\n",
        "            patience=variant[\"patience\"],\n",
        "            optimizer=optimizer,\n",
        "        )\n",
        "\n",
        "        # Log final metrics to WandB\n",
        "        wandb.log({\n",
        "            \"final_validation_accuracy\": acc,\n",
        "            \"final_train_loss\": train_loss[-1] if train_loss else None,\n",
        "            \"final_val_loss\": val_loss[-1] if val_loss else None,\n",
        "        })\n",
        "\n",
        "        # Log training/validation curves\n",
        "        for epoch, (t_loss, v_loss, v_acc) in enumerate(zip(train_loss, val_loss, val_acc)):\n",
        "            wandb.log({\n",
        "                \"epoch\": epoch + 1,\n",
        "                \"train_loss\": t_loss,\n",
        "                \"val_loss\": v_loss,\n",
        "                \"val_accuracy\": v_acc,\n",
        "            })\n",
        "\n",
        "        # Update the best model based on validation accuracy\n",
        "        if acc > best_acc:\n",
        "            best_acc = acc\n",
        "            best_model = model\n",
        "            best_metrics = {\"train_loss\": train_loss, \"val_loss\": val_loss, \"val_acc\": val_acc}\n",
        "\n",
        "        # Finish the current WandB run\n",
        "        wandb.finish()\n",
        "\n",
        "    return best_model, best_acc, best_metrics[\"train_loss\"], best_metrics[\"val_loss\"], best_metrics[\"val_acc\"]"
      ]
    },
    {
      "cell_type": "code",
      "execution_count": 32,
      "metadata": {
        "id": "DkxPIAi6ImWF"
      },
      "outputs": [],
      "source": [
        "# Variants\n",
        "variants = [\n",
        "    {\"lr\": 0.1, \"optimizer\": \"adam\", \"epochs\": 20, \"patience\": 3},\n",
        "    {\"lr\": 0.1, \"optimizer\": \"sgd\", \"epochs\": 20, \"patience\": 3},\n",
        "    {\"lr\": 0.01, \"optimizer\": \"adam\", \"epochs\": 20, \"patience\": 3},\n",
        "    {\"lr\": 0.01, \"optimizer\": \"sgd\", \"epochs\": 20, \"patience\": 3},\n",
        "]"
      ]
    },
    {
      "cell_type": "code",
      "execution_count": 33,
      "metadata": {
        "colab": {
          "base_uri": "https://localhost:8080/",
          "height": 1000
        },
        "id": "tLoylaxmJ1ZT",
        "outputId": "d16b8abf-8731-4e48-ddb5-e39387592517"
      },
      "outputs": [
        {
          "data": {
            "text/html": [
              "Tracking run with wandb version 0.19.2"
            ],
            "text/plain": [
              "<IPython.core.display.HTML object>"
            ]
          },
          "metadata": {},
          "output_type": "display_data"
        },
        {
          "data": {
            "text/html": [
              "Run data is saved locally in <code>/content/wandb/run-20250122_105924-xrs3e46g</code>"
            ],
            "text/plain": [
              "<IPython.core.display.HTML object>"
            ]
          },
          "metadata": {},
          "output_type": "display_data"
        },
        {
          "data": {
            "text/html": [
              "Syncing run <strong><a href='https://wandb.ai/oopss-moment-iiit-hyderabad/Assignment1_Computer_Vision/runs/xrs3e46g' target=\"_blank\">Task-4.3_Raw_lr_0.1_opt_adam</a></strong> to <a href='https://wandb.ai/oopss-moment-iiit-hyderabad/Assignment1_Computer_Vision' target=\"_blank\">Weights & Biases</a> (<a href='https://wandb.me/developer-guide' target=\"_blank\">docs</a>)<br>"
            ],
            "text/plain": [
              "<IPython.core.display.HTML object>"
            ]
          },
          "metadata": {},
          "output_type": "display_data"
        },
        {
          "data": {
            "text/html": [
              " View project at <a href='https://wandb.ai/oopss-moment-iiit-hyderabad/Assignment1_Computer_Vision' target=\"_blank\">https://wandb.ai/oopss-moment-iiit-hyderabad/Assignment1_Computer_Vision</a>"
            ],
            "text/plain": [
              "<IPython.core.display.HTML object>"
            ]
          },
          "metadata": {},
          "output_type": "display_data"
        },
        {
          "data": {
            "text/html": [
              " View run at <a href='https://wandb.ai/oopss-moment-iiit-hyderabad/Assignment1_Computer_Vision/runs/xrs3e46g' target=\"_blank\">https://wandb.ai/oopss-moment-iiit-hyderabad/Assignment1_Computer_Vision/runs/xrs3e46g</a>"
            ],
            "text/plain": [
              "<IPython.core.display.HTML object>"
            ]
          },
          "metadata": {},
          "output_type": "display_data"
        },
        {
          "name": "stdout",
          "output_type": "stream",
          "text": [
            "Training Model Variant 1 with params: {'lr': 0.1, 'optimizer': 'adam', 'epochs': 20, 'patience': 3}\n",
            "Epoch 1/20\n"
          ]
        },
        {
          "name": "stderr",
          "output_type": "stream",
          "text": [
            "Training:   6%|▌         | 46/750 [00:00<00:01, 457.63it/s]"
          ]
        },
        {
          "name": "stdout",
          "output_type": "stream",
          "text": [
            "Input shape: torch.Size([64, 1, 28, 28]), Labels shape: torch.Size([64])\n",
            "Output shape: torch.Size([64, 10])\n"
          ]
        },
        {
          "name": "stderr",
          "output_type": "stream",
          "text": []
        },
        {
          "name": "stdout",
          "output_type": "stream",
          "text": [
            "Train Loss: 2.3838\n",
            "Validation Accuracy: 0.1027\n",
            "Validation accuracy improved. Resetting patience counter.\n",
            "Epoch 2/20\n"
          ]
        },
        {
          "name": "stderr",
          "output_type": "stream",
          "text": []
        },
        {
          "name": "stdout",
          "output_type": "stream",
          "text": [
            "Train Loss: 2.3115\n",
            "Validation Accuracy: 0.1027\n",
            "Validation accuracy did not improve. Patience counter: 1/3\n",
            "Epoch 3/20\n"
          ]
        },
        {
          "name": "stderr",
          "output_type": "stream",
          "text": []
        },
        {
          "name": "stdout",
          "output_type": "stream",
          "text": [
            "Train Loss: 2.3116\n",
            "Validation Accuracy: 0.1027\n",
            "Validation accuracy did not improve. Patience counter: 2/3\n",
            "Epoch 4/20\n"
          ]
        },
        {
          "name": "stderr",
          "output_type": "stream",
          "text": []
        },
        {
          "name": "stdout",
          "output_type": "stream",
          "text": [
            "Train Loss: 2.3117\n",
            "Validation Accuracy: 0.1027\n",
            "Validation accuracy did not improve. Patience counter: 3/3\n",
            "Early stopping triggered.\n",
            "Best Validation Accuracy: 0.1027\n"
          ]
        },
        {
          "data": {
            "text/html": [],
            "text/plain": [
              "<IPython.core.display.HTML object>"
            ]
          },
          "metadata": {},
          "output_type": "display_data"
        },
        {
          "data": {
            "text/html": [
              "<br>    <style><br>        .wandb-row {<br>            display: flex;<br>            flex-direction: row;<br>            flex-wrap: wrap;<br>            justify-content: flex-start;<br>            width: 100%;<br>        }<br>        .wandb-col {<br>            display: flex;<br>            flex-direction: column;<br>            flex-basis: 100%;<br>            flex: 1;<br>            padding: 10px;<br>        }<br>    </style><br><div class=\"wandb-row\"><div class=\"wandb-col\"><h3>Run history:</h3><br/><table class=\"wandb\"><tr><td>epoch</td><td>▁▃▆█</td></tr><tr><td>final_train_loss</td><td>▁</td></tr><tr><td>final_val_loss</td><td>▁</td></tr><tr><td>final_validation_accuracy</td><td>▁</td></tr><tr><td>train_loss</td><td>█▁▁▁</td></tr><tr><td>val_accuracy</td><td>▁▁▁▁</td></tr><tr><td>val_loss</td><td>▁▆▇█</td></tr></table><br/></div><div class=\"wandb-col\"><h3>Run summary:</h3><br/><table class=\"wandb\"><tr><td>epoch</td><td>4</td></tr><tr><td>final_train_loss</td><td>2.31168</td></tr><tr><td>final_val_loss</td><td>2.30586</td></tr><tr><td>final_validation_accuracy</td><td>0.10267</td></tr><tr><td>train_loss</td><td>2.31168</td></tr><tr><td>val_accuracy</td><td>0.10267</td></tr><tr><td>val_loss</td><td>2.30586</td></tr></table><br/></div></div>"
            ],
            "text/plain": [
              "<IPython.core.display.HTML object>"
            ]
          },
          "metadata": {},
          "output_type": "display_data"
        },
        {
          "data": {
            "text/html": [
              " View run <strong style=\"color:#cdcd00\">Task-4.3_Raw_lr_0.1_opt_adam</strong> at: <a href='https://wandb.ai/oopss-moment-iiit-hyderabad/Assignment1_Computer_Vision/runs/xrs3e46g' target=\"_blank\">https://wandb.ai/oopss-moment-iiit-hyderabad/Assignment1_Computer_Vision/runs/xrs3e46g</a><br> View project at: <a href='https://wandb.ai/oopss-moment-iiit-hyderabad/Assignment1_Computer_Vision' target=\"_blank\">https://wandb.ai/oopss-moment-iiit-hyderabad/Assignment1_Computer_Vision</a><br>Synced 5 W&B file(s), 0 media file(s), 0 artifact file(s) and 0 other file(s)"
            ],
            "text/plain": [
              "<IPython.core.display.HTML object>"
            ]
          },
          "metadata": {},
          "output_type": "display_data"
        },
        {
          "data": {
            "text/html": [
              "Find logs at: <code>./wandb/run-20250122_105924-xrs3e46g/logs</code>"
            ],
            "text/plain": [
              "<IPython.core.display.HTML object>"
            ]
          },
          "metadata": {},
          "output_type": "display_data"
        },
        {
          "data": {
            "text/html": [
              "Tracking run with wandb version 0.19.2"
            ],
            "text/plain": [
              "<IPython.core.display.HTML object>"
            ]
          },
          "metadata": {},
          "output_type": "display_data"
        },
        {
          "data": {
            "text/html": [
              "Run data is saved locally in <code>/content/wandb/run-20250122_105937-al65zpgs</code>"
            ],
            "text/plain": [
              "<IPython.core.display.HTML object>"
            ]
          },
          "metadata": {},
          "output_type": "display_data"
        },
        {
          "data": {
            "text/html": [
              "Syncing run <strong><a href='https://wandb.ai/oopss-moment-iiit-hyderabad/Assignment1_Computer_Vision/runs/al65zpgs' target=\"_blank\">Task-4.3_Raw_lr_0.1_opt_sgd</a></strong> to <a href='https://wandb.ai/oopss-moment-iiit-hyderabad/Assignment1_Computer_Vision' target=\"_blank\">Weights & Biases</a> (<a href='https://wandb.me/developer-guide' target=\"_blank\">docs</a>)<br>"
            ],
            "text/plain": [
              "<IPython.core.display.HTML object>"
            ]
          },
          "metadata": {},
          "output_type": "display_data"
        },
        {
          "data": {
            "text/html": [
              " View project at <a href='https://wandb.ai/oopss-moment-iiit-hyderabad/Assignment1_Computer_Vision' target=\"_blank\">https://wandb.ai/oopss-moment-iiit-hyderabad/Assignment1_Computer_Vision</a>"
            ],
            "text/plain": [
              "<IPython.core.display.HTML object>"
            ]
          },
          "metadata": {},
          "output_type": "display_data"
        },
        {
          "data": {
            "text/html": [
              " View run at <a href='https://wandb.ai/oopss-moment-iiit-hyderabad/Assignment1_Computer_Vision/runs/al65zpgs' target=\"_blank\">https://wandb.ai/oopss-moment-iiit-hyderabad/Assignment1_Computer_Vision/runs/al65zpgs</a>"
            ],
            "text/plain": [
              "<IPython.core.display.HTML object>"
            ]
          },
          "metadata": {},
          "output_type": "display_data"
        },
        {
          "name": "stdout",
          "output_type": "stream",
          "text": [
            "Training Model Variant 2 with params: {'lr': 0.1, 'optimizer': 'sgd', 'epochs': 20, 'patience': 3}\n",
            "Epoch 1/20\n"
          ]
        },
        {
          "name": "stderr",
          "output_type": "stream",
          "text": [
            "Training:   4%|▍         | 29/750 [00:00<00:02, 288.23it/s]"
          ]
        },
        {
          "name": "stdout",
          "output_type": "stream",
          "text": [
            "Input shape: torch.Size([64, 1, 28, 28]), Labels shape: torch.Size([64])\n",
            "Output shape: torch.Size([64, 10])\n"
          ]
        },
        {
          "name": "stderr",
          "output_type": "stream",
          "text": []
        },
        {
          "name": "stdout",
          "output_type": "stream",
          "text": [
            "Train Loss: 0.7839\n",
            "Validation Accuracy: 0.7526\n",
            "Validation accuracy improved. Resetting patience counter.\n",
            "Epoch 2/20\n"
          ]
        },
        {
          "name": "stderr",
          "output_type": "stream",
          "text": []
        },
        {
          "name": "stdout",
          "output_type": "stream",
          "text": [
            "Train Loss: 0.6400\n",
            "Validation Accuracy: 0.8178\n",
            "Validation accuracy improved. Resetting patience counter.\n",
            "Epoch 3/20\n"
          ]
        },
        {
          "name": "stderr",
          "output_type": "stream",
          "text": []
        },
        {
          "name": "stdout",
          "output_type": "stream",
          "text": [
            "Train Loss: 0.6135\n",
            "Validation Accuracy: 0.8066\n",
            "Validation accuracy did not improve. Patience counter: 1/3\n",
            "Epoch 4/20\n"
          ]
        },
        {
          "name": "stderr",
          "output_type": "stream",
          "text": []
        },
        {
          "name": "stdout",
          "output_type": "stream",
          "text": [
            "Train Loss: 0.6195\n",
            "Validation Accuracy: 0.8258\n",
            "Validation accuracy improved. Resetting patience counter.\n",
            "Epoch 5/20\n"
          ]
        },
        {
          "name": "stderr",
          "output_type": "stream",
          "text": []
        },
        {
          "name": "stdout",
          "output_type": "stream",
          "text": [
            "Train Loss: 0.5887\n",
            "Validation Accuracy: 0.8216\n",
            "Validation accuracy did not improve. Patience counter: 1/3\n",
            "Epoch 6/20\n"
          ]
        },
        {
          "name": "stderr",
          "output_type": "stream",
          "text": []
        },
        {
          "name": "stdout",
          "output_type": "stream",
          "text": [
            "Train Loss: 0.5986\n",
            "Validation Accuracy: 0.8237\n",
            "Validation accuracy did not improve. Patience counter: 2/3\n",
            "Epoch 7/20\n"
          ]
        },
        {
          "name": "stderr",
          "output_type": "stream",
          "text": []
        },
        {
          "name": "stdout",
          "output_type": "stream",
          "text": [
            "Train Loss: 0.6031\n",
            "Validation Accuracy: 0.8073\n",
            "Validation accuracy did not improve. Patience counter: 3/3\n",
            "Early stopping triggered.\n",
            "Best Validation Accuracy: 0.8258\n"
          ]
        },
        {
          "data": {
            "text/html": [],
            "text/plain": [
              "<IPython.core.display.HTML object>"
            ]
          },
          "metadata": {},
          "output_type": "display_data"
        },
        {
          "data": {
            "text/html": [
              "<br>    <style><br>        .wandb-row {<br>            display: flex;<br>            flex-direction: row;<br>            flex-wrap: wrap;<br>            justify-content: flex-start;<br>            width: 100%;<br>        }<br>        .wandb-col {<br>            display: flex;<br>            flex-direction: column;<br>            flex-basis: 100%;<br>            flex: 1;<br>            padding: 10px;<br>        }<br>    </style><br><div class=\"wandb-row\"><div class=\"wandb-col\"><h3>Run history:</h3><br/><table class=\"wandb\"><tr><td>epoch</td><td>▁▂▃▅▆▇█</td></tr><tr><td>final_train_loss</td><td>▁</td></tr><tr><td>final_val_loss</td><td>▁</td></tr><tr><td>final_validation_accuracy</td><td>▁</td></tr><tr><td>train_loss</td><td>█▃▂▂▁▁▂</td></tr><tr><td>val_accuracy</td><td>▁▇▆███▆</td></tr><tr><td>val_loss</td><td>█▃▃▁▁▃▃</td></tr></table><br/></div><div class=\"wandb-col\"><h3>Run summary:</h3><br/><table class=\"wandb\"><tr><td>epoch</td><td>7</td></tr><tr><td>final_train_loss</td><td>0.60307</td></tr><tr><td>final_val_loss</td><td>0.5298</td></tr><tr><td>final_validation_accuracy</td><td>0.82583</td></tr><tr><td>train_loss</td><td>0.60307</td></tr><tr><td>val_accuracy</td><td>0.80733</td></tr><tr><td>val_loss</td><td>0.5298</td></tr></table><br/></div></div>"
            ],
            "text/plain": [
              "<IPython.core.display.HTML object>"
            ]
          },
          "metadata": {},
          "output_type": "display_data"
        },
        {
          "data": {
            "text/html": [
              " View run <strong style=\"color:#cdcd00\">Task-4.3_Raw_lr_0.1_opt_sgd</strong> at: <a href='https://wandb.ai/oopss-moment-iiit-hyderabad/Assignment1_Computer_Vision/runs/al65zpgs' target=\"_blank\">https://wandb.ai/oopss-moment-iiit-hyderabad/Assignment1_Computer_Vision/runs/al65zpgs</a><br> View project at: <a href='https://wandb.ai/oopss-moment-iiit-hyderabad/Assignment1_Computer_Vision' target=\"_blank\">https://wandb.ai/oopss-moment-iiit-hyderabad/Assignment1_Computer_Vision</a><br>Synced 5 W&B file(s), 0 media file(s), 0 artifact file(s) and 0 other file(s)"
            ],
            "text/plain": [
              "<IPython.core.display.HTML object>"
            ]
          },
          "metadata": {},
          "output_type": "display_data"
        },
        {
          "data": {
            "text/html": [
              "Find logs at: <code>./wandb/run-20250122_105937-al65zpgs/logs</code>"
            ],
            "text/plain": [
              "<IPython.core.display.HTML object>"
            ]
          },
          "metadata": {},
          "output_type": "display_data"
        },
        {
          "data": {
            "text/html": [
              "Tracking run with wandb version 0.19.2"
            ],
            "text/plain": [
              "<IPython.core.display.HTML object>"
            ]
          },
          "metadata": {},
          "output_type": "display_data"
        },
        {
          "data": {
            "text/html": [
              "Run data is saved locally in <code>/content/wandb/run-20250122_105956-u4ua4z30</code>"
            ],
            "text/plain": [
              "<IPython.core.display.HTML object>"
            ]
          },
          "metadata": {},
          "output_type": "display_data"
        },
        {
          "data": {
            "text/html": [
              "Syncing run <strong><a href='https://wandb.ai/oopss-moment-iiit-hyderabad/Assignment1_Computer_Vision/runs/u4ua4z30' target=\"_blank\">Task-4.3_Raw_lr_0.01_opt_adam</a></strong> to <a href='https://wandb.ai/oopss-moment-iiit-hyderabad/Assignment1_Computer_Vision' target=\"_blank\">Weights & Biases</a> (<a href='https://wandb.me/developer-guide' target=\"_blank\">docs</a>)<br>"
            ],
            "text/plain": [
              "<IPython.core.display.HTML object>"
            ]
          },
          "metadata": {},
          "output_type": "display_data"
        },
        {
          "data": {
            "text/html": [
              " View project at <a href='https://wandb.ai/oopss-moment-iiit-hyderabad/Assignment1_Computer_Vision' target=\"_blank\">https://wandb.ai/oopss-moment-iiit-hyderabad/Assignment1_Computer_Vision</a>"
            ],
            "text/plain": [
              "<IPython.core.display.HTML object>"
            ]
          },
          "metadata": {},
          "output_type": "display_data"
        },
        {
          "data": {
            "text/html": [
              " View run at <a href='https://wandb.ai/oopss-moment-iiit-hyderabad/Assignment1_Computer_Vision/runs/u4ua4z30' target=\"_blank\">https://wandb.ai/oopss-moment-iiit-hyderabad/Assignment1_Computer_Vision/runs/u4ua4z30</a>"
            ],
            "text/plain": [
              "<IPython.core.display.HTML object>"
            ]
          },
          "metadata": {},
          "output_type": "display_data"
        },
        {
          "name": "stdout",
          "output_type": "stream",
          "text": [
            "Training Model Variant 3 with params: {'lr': 0.01, 'optimizer': 'adam', 'epochs': 20, 'patience': 3}\n",
            "Epoch 1/20\n"
          ]
        },
        {
          "name": "stderr",
          "output_type": "stream",
          "text": [
            "Training:   4%|▍         | 30/750 [00:00<00:02, 295.36it/s]"
          ]
        },
        {
          "name": "stdout",
          "output_type": "stream",
          "text": [
            "Input shape: torch.Size([64, 1, 28, 28]), Labels shape: torch.Size([64])\n",
            "Output shape: torch.Size([64, 10])\n"
          ]
        },
        {
          "name": "stderr",
          "output_type": "stream",
          "text": []
        },
        {
          "name": "stdout",
          "output_type": "stream",
          "text": [
            "Train Loss: 0.6733\n",
            "Validation Accuracy: 0.8224\n",
            "Validation accuracy improved. Resetting patience counter.\n",
            "Epoch 2/20\n"
          ]
        },
        {
          "name": "stderr",
          "output_type": "stream",
          "text": []
        },
        {
          "name": "stdout",
          "output_type": "stream",
          "text": [
            "Train Loss: 0.5736\n",
            "Validation Accuracy: 0.8271\n",
            "Validation accuracy improved. Resetting patience counter.\n",
            "Epoch 3/20\n"
          ]
        },
        {
          "name": "stderr",
          "output_type": "stream",
          "text": []
        },
        {
          "name": "stdout",
          "output_type": "stream",
          "text": [
            "Train Loss: 0.5504\n",
            "Validation Accuracy: 0.8217\n",
            "Validation accuracy did not improve. Patience counter: 1/3\n",
            "Epoch 4/20\n"
          ]
        },
        {
          "name": "stderr",
          "output_type": "stream",
          "text": []
        },
        {
          "name": "stdout",
          "output_type": "stream",
          "text": [
            "Train Loss: 0.5389\n",
            "Validation Accuracy: 0.8406\n",
            "Validation accuracy improved. Resetting patience counter.\n",
            "Epoch 5/20\n"
          ]
        },
        {
          "name": "stderr",
          "output_type": "stream",
          "text": []
        },
        {
          "name": "stdout",
          "output_type": "stream",
          "text": [
            "Train Loss: 0.5409\n",
            "Validation Accuracy: 0.8299\n",
            "Validation accuracy did not improve. Patience counter: 1/3\n",
            "Epoch 6/20\n"
          ]
        },
        {
          "name": "stderr",
          "output_type": "stream",
          "text": []
        },
        {
          "name": "stdout",
          "output_type": "stream",
          "text": [
            "Train Loss: 0.5232\n",
            "Validation Accuracy: 0.8343\n",
            "Validation accuracy did not improve. Patience counter: 2/3\n",
            "Epoch 7/20\n"
          ]
        },
        {
          "name": "stderr",
          "output_type": "stream",
          "text": []
        },
        {
          "name": "stdout",
          "output_type": "stream",
          "text": [
            "Train Loss: 0.5090\n",
            "Validation Accuracy: 0.8413\n",
            "Validation accuracy improved. Resetting patience counter.\n",
            "Epoch 8/20\n"
          ]
        },
        {
          "name": "stderr",
          "output_type": "stream",
          "text": []
        },
        {
          "name": "stdout",
          "output_type": "stream",
          "text": [
            "Train Loss: 0.5022\n",
            "Validation Accuracy: 0.8363\n",
            "Validation accuracy did not improve. Patience counter: 1/3\n",
            "Epoch 9/20\n"
          ]
        },
        {
          "name": "stderr",
          "output_type": "stream",
          "text": []
        },
        {
          "name": "stdout",
          "output_type": "stream",
          "text": [
            "Train Loss: 0.5157\n",
            "Validation Accuracy: 0.8254\n",
            "Validation accuracy did not improve. Patience counter: 2/3\n",
            "Epoch 10/20\n"
          ]
        },
        {
          "name": "stderr",
          "output_type": "stream",
          "text": []
        },
        {
          "name": "stdout",
          "output_type": "stream",
          "text": [
            "Train Loss: 0.5036\n",
            "Validation Accuracy: 0.8399\n",
            "Validation accuracy did not improve. Patience counter: 3/3\n",
            "Early stopping triggered.\n",
            "Best Validation Accuracy: 0.8413\n"
          ]
        },
        {
          "data": {
            "text/html": [],
            "text/plain": [
              "<IPython.core.display.HTML object>"
            ]
          },
          "metadata": {},
          "output_type": "display_data"
        },
        {
          "data": {
            "text/html": [
              "<br>    <style><br>        .wandb-row {<br>            display: flex;<br>            flex-direction: row;<br>            flex-wrap: wrap;<br>            justify-content: flex-start;<br>            width: 100%;<br>        }<br>        .wandb-col {<br>            display: flex;<br>            flex-direction: column;<br>            flex-basis: 100%;<br>            flex: 1;<br>            padding: 10px;<br>        }<br>    </style><br><div class=\"wandb-row\"><div class=\"wandb-col\"><h3>Run history:</h3><br/><table class=\"wandb\"><tr><td>epoch</td><td>▁▂▃▃▄▅▆▆▇█</td></tr><tr><td>final_train_loss</td><td>▁</td></tr><tr><td>final_val_loss</td><td>▁</td></tr><tr><td>final_validation_accuracy</td><td>▁</td></tr><tr><td>train_loss</td><td>█▄▃▂▃▂▁▁▂▁</td></tr><tr><td>val_accuracy</td><td>▁▃▁█▄▅█▆▂█</td></tr><tr><td>val_loss</td><td>█▄▄▃▄▅▁▃█▅</td></tr></table><br/></div><div class=\"wandb-col\"><h3>Run summary:</h3><br/><table class=\"wandb\"><tr><td>epoch</td><td>10</td></tr><tr><td>final_train_loss</td><td>0.50359</td></tr><tr><td>final_val_loss</td><td>0.47608</td></tr><tr><td>final_validation_accuracy</td><td>0.84125</td></tr><tr><td>train_loss</td><td>0.50359</td></tr><tr><td>val_accuracy</td><td>0.83992</td></tr><tr><td>val_loss</td><td>0.47608</td></tr></table><br/></div></div>"
            ],
            "text/plain": [
              "<IPython.core.display.HTML object>"
            ]
          },
          "metadata": {},
          "output_type": "display_data"
        },
        {
          "data": {
            "text/html": [
              " View run <strong style=\"color:#cdcd00\">Task-4.3_Raw_lr_0.01_opt_adam</strong> at: <a href='https://wandb.ai/oopss-moment-iiit-hyderabad/Assignment1_Computer_Vision/runs/u4ua4z30' target=\"_blank\">https://wandb.ai/oopss-moment-iiit-hyderabad/Assignment1_Computer_Vision/runs/u4ua4z30</a><br> View project at: <a href='https://wandb.ai/oopss-moment-iiit-hyderabad/Assignment1_Computer_Vision' target=\"_blank\">https://wandb.ai/oopss-moment-iiit-hyderabad/Assignment1_Computer_Vision</a><br>Synced 5 W&B file(s), 0 media file(s), 0 artifact file(s) and 0 other file(s)"
            ],
            "text/plain": [
              "<IPython.core.display.HTML object>"
            ]
          },
          "metadata": {},
          "output_type": "display_data"
        },
        {
          "data": {
            "text/html": [
              "Find logs at: <code>./wandb/run-20250122_105956-u4ua4z30/logs</code>"
            ],
            "text/plain": [
              "<IPython.core.display.HTML object>"
            ]
          },
          "metadata": {},
          "output_type": "display_data"
        },
        {
          "data": {
            "text/html": [
              "Tracking run with wandb version 0.19.2"
            ],
            "text/plain": [
              "<IPython.core.display.HTML object>"
            ]
          },
          "metadata": {},
          "output_type": "display_data"
        },
        {
          "data": {
            "text/html": [
              "Run data is saved locally in <code>/content/wandb/run-20250122_110024-uxs0ex8b</code>"
            ],
            "text/plain": [
              "<IPython.core.display.HTML object>"
            ]
          },
          "metadata": {},
          "output_type": "display_data"
        },
        {
          "data": {
            "text/html": [
              "Syncing run <strong><a href='https://wandb.ai/oopss-moment-iiit-hyderabad/Assignment1_Computer_Vision/runs/uxs0ex8b' target=\"_blank\">Task-4.3_Raw_lr_0.01_opt_sgd</a></strong> to <a href='https://wandb.ai/oopss-moment-iiit-hyderabad/Assignment1_Computer_Vision' target=\"_blank\">Weights & Biases</a> (<a href='https://wandb.me/developer-guide' target=\"_blank\">docs</a>)<br>"
            ],
            "text/plain": [
              "<IPython.core.display.HTML object>"
            ]
          },
          "metadata": {},
          "output_type": "display_data"
        },
        {
          "data": {
            "text/html": [
              " View project at <a href='https://wandb.ai/oopss-moment-iiit-hyderabad/Assignment1_Computer_Vision' target=\"_blank\">https://wandb.ai/oopss-moment-iiit-hyderabad/Assignment1_Computer_Vision</a>"
            ],
            "text/plain": [
              "<IPython.core.display.HTML object>"
            ]
          },
          "metadata": {},
          "output_type": "display_data"
        },
        {
          "data": {
            "text/html": [
              " View run at <a href='https://wandb.ai/oopss-moment-iiit-hyderabad/Assignment1_Computer_Vision/runs/uxs0ex8b' target=\"_blank\">https://wandb.ai/oopss-moment-iiit-hyderabad/Assignment1_Computer_Vision/runs/uxs0ex8b</a>"
            ],
            "text/plain": [
              "<IPython.core.display.HTML object>"
            ]
          },
          "metadata": {},
          "output_type": "display_data"
        },
        {
          "name": "stdout",
          "output_type": "stream",
          "text": [
            "Training Model Variant 4 with params: {'lr': 0.01, 'optimizer': 'sgd', 'epochs': 20, 'patience': 3}\n",
            "Epoch 1/20\n"
          ]
        },
        {
          "name": "stderr",
          "output_type": "stream",
          "text": [
            "Training:   5%|▍         | 35/750 [00:00<00:02, 344.06it/s]"
          ]
        },
        {
          "name": "stdout",
          "output_type": "stream",
          "text": [
            "Input shape: torch.Size([64, 1, 28, 28]), Labels shape: torch.Size([64])\n",
            "Output shape: torch.Size([64, 10])\n"
          ]
        },
        {
          "name": "stderr",
          "output_type": "stream",
          "text": []
        },
        {
          "name": "stdout",
          "output_type": "stream",
          "text": [
            "Train Loss: 0.8430\n",
            "Validation Accuracy: 0.8046\n",
            "Validation accuracy improved. Resetting patience counter.\n",
            "Epoch 2/20\n"
          ]
        },
        {
          "name": "stderr",
          "output_type": "stream",
          "text": []
        },
        {
          "name": "stdout",
          "output_type": "stream",
          "text": [
            "Train Loss: 0.5120\n",
            "Validation Accuracy: 0.8420\n",
            "Validation accuracy improved. Resetting patience counter.\n",
            "Epoch 3/20\n"
          ]
        },
        {
          "name": "stderr",
          "output_type": "stream",
          "text": []
        },
        {
          "name": "stdout",
          "output_type": "stream",
          "text": [
            "Train Loss: 0.4560\n",
            "Validation Accuracy: 0.8533\n",
            "Validation accuracy improved. Resetting patience counter.\n",
            "Epoch 4/20\n"
          ]
        },
        {
          "name": "stderr",
          "output_type": "stream",
          "text": []
        },
        {
          "name": "stdout",
          "output_type": "stream",
          "text": [
            "Train Loss: 0.4224\n",
            "Validation Accuracy: 0.8565\n",
            "Validation accuracy improved. Resetting patience counter.\n",
            "Epoch 5/20\n"
          ]
        },
        {
          "name": "stderr",
          "output_type": "stream",
          "text": []
        },
        {
          "name": "stdout",
          "output_type": "stream",
          "text": [
            "Train Loss: 0.4036\n",
            "Validation Accuracy: 0.8683\n",
            "Validation accuracy improved. Resetting patience counter.\n",
            "Epoch 6/20\n"
          ]
        },
        {
          "name": "stderr",
          "output_type": "stream",
          "text": []
        },
        {
          "name": "stdout",
          "output_type": "stream",
          "text": [
            "Train Loss: 0.3873\n",
            "Validation Accuracy: 0.8725\n",
            "Validation accuracy improved. Resetting patience counter.\n",
            "Epoch 7/20\n"
          ]
        },
        {
          "name": "stderr",
          "output_type": "stream",
          "text": []
        },
        {
          "name": "stdout",
          "output_type": "stream",
          "text": [
            "Train Loss: 0.3748\n",
            "Validation Accuracy: 0.8755\n",
            "Validation accuracy improved. Resetting patience counter.\n",
            "Epoch 8/20\n"
          ]
        },
        {
          "name": "stderr",
          "output_type": "stream",
          "text": []
        },
        {
          "name": "stdout",
          "output_type": "stream",
          "text": [
            "Train Loss: 0.3661\n",
            "Validation Accuracy: 0.8747\n",
            "Validation accuracy did not improve. Patience counter: 1/3\n",
            "Epoch 9/20\n"
          ]
        },
        {
          "name": "stderr",
          "output_type": "stream",
          "text": []
        },
        {
          "name": "stdout",
          "output_type": "stream",
          "text": [
            "Train Loss: 0.3540\n",
            "Validation Accuracy: 0.8777\n",
            "Validation accuracy improved. Resetting patience counter.\n",
            "Epoch 10/20\n"
          ]
        },
        {
          "name": "stderr",
          "output_type": "stream",
          "text": []
        },
        {
          "name": "stdout",
          "output_type": "stream",
          "text": [
            "Train Loss: 0.3441\n",
            "Validation Accuracy: 0.8795\n",
            "Validation accuracy improved. Resetting patience counter.\n",
            "Epoch 11/20\n"
          ]
        },
        {
          "name": "stderr",
          "output_type": "stream",
          "text": []
        },
        {
          "name": "stdout",
          "output_type": "stream",
          "text": [
            "Train Loss: 0.3363\n",
            "Validation Accuracy: 0.8779\n",
            "Validation accuracy did not improve. Patience counter: 1/3\n",
            "Epoch 12/20\n"
          ]
        },
        {
          "name": "stderr",
          "output_type": "stream",
          "text": []
        },
        {
          "name": "stdout",
          "output_type": "stream",
          "text": [
            "Train Loss: 0.3280\n",
            "Validation Accuracy: 0.8827\n",
            "Validation accuracy improved. Resetting patience counter.\n",
            "Epoch 13/20\n"
          ]
        },
        {
          "name": "stderr",
          "output_type": "stream",
          "text": []
        },
        {
          "name": "stdout",
          "output_type": "stream",
          "text": [
            "Train Loss: 0.3224\n",
            "Validation Accuracy: 0.8821\n",
            "Validation accuracy did not improve. Patience counter: 1/3\n",
            "Epoch 14/20\n"
          ]
        },
        {
          "name": "stderr",
          "output_type": "stream",
          "text": []
        },
        {
          "name": "stdout",
          "output_type": "stream",
          "text": [
            "Train Loss: 0.3171\n",
            "Validation Accuracy: 0.8842\n",
            "Validation accuracy improved. Resetting patience counter.\n",
            "Epoch 15/20\n"
          ]
        },
        {
          "name": "stderr",
          "output_type": "stream",
          "text": []
        },
        {
          "name": "stdout",
          "output_type": "stream",
          "text": [
            "Train Loss: 0.3121\n",
            "Validation Accuracy: 0.8845\n",
            "Validation accuracy improved. Resetting patience counter.\n",
            "Epoch 16/20\n"
          ]
        },
        {
          "name": "stderr",
          "output_type": "stream",
          "text": []
        },
        {
          "name": "stdout",
          "output_type": "stream",
          "text": [
            "Train Loss: 0.3078\n",
            "Validation Accuracy: 0.8841\n",
            "Validation accuracy did not improve. Patience counter: 1/3\n",
            "Epoch 17/20\n"
          ]
        },
        {
          "name": "stderr",
          "output_type": "stream",
          "text": []
        },
        {
          "name": "stdout",
          "output_type": "stream",
          "text": [
            "Train Loss: 0.3007\n",
            "Validation Accuracy: 0.8838\n",
            "Validation accuracy did not improve. Patience counter: 2/3\n",
            "Epoch 18/20\n"
          ]
        },
        {
          "name": "stderr",
          "output_type": "stream",
          "text": []
        },
        {
          "name": "stdout",
          "output_type": "stream",
          "text": [
            "Train Loss: 0.2987\n",
            "Validation Accuracy: 0.8831\n",
            "Validation accuracy did not improve. Patience counter: 3/3\n",
            "Early stopping triggered.\n",
            "Best Validation Accuracy: 0.8845\n"
          ]
        },
        {
          "data": {
            "text/html": [],
            "text/plain": [
              "<IPython.core.display.HTML object>"
            ]
          },
          "metadata": {},
          "output_type": "display_data"
        },
        {
          "data": {
            "text/html": [
              "<br>    <style><br>        .wandb-row {<br>            display: flex;<br>            flex-direction: row;<br>            flex-wrap: wrap;<br>            justify-content: flex-start;<br>            width: 100%;<br>        }<br>        .wandb-col {<br>            display: flex;<br>            flex-direction: column;<br>            flex-basis: 100%;<br>            flex: 1;<br>            padding: 10px;<br>        }<br>    </style><br><div class=\"wandb-row\"><div class=\"wandb-col\"><h3>Run history:</h3><br/><table class=\"wandb\"><tr><td>epoch</td><td>▁▁▂▂▃▃▃▄▄▅▅▆▆▆▇▇██</td></tr><tr><td>final_train_loss</td><td>▁</td></tr><tr><td>final_val_loss</td><td>▁</td></tr><tr><td>final_validation_accuracy</td><td>▁</td></tr><tr><td>train_loss</td><td>█▄▃▃▂▂▂▂▂▂▁▁▁▁▁▁▁▁</td></tr><tr><td>val_accuracy</td><td>▁▄▅▆▇▇▇▇▇█▇███████</td></tr><tr><td>val_loss</td><td>█▅▄▄▃▂▂▂▂▂▂▁▁▁▁▁▁▁</td></tr></table><br/></div><div class=\"wandb-col\"><h3>Run summary:</h3><br/><table class=\"wandb\"><tr><td>epoch</td><td>18</td></tr><tr><td>final_train_loss</td><td>0.29873</td></tr><tr><td>final_val_loss</td><td>0.31739</td></tr><tr><td>final_validation_accuracy</td><td>0.8845</td></tr><tr><td>train_loss</td><td>0.29873</td></tr><tr><td>val_accuracy</td><td>0.88308</td></tr><tr><td>val_loss</td><td>0.31739</td></tr></table><br/></div></div>"
            ],
            "text/plain": [
              "<IPython.core.display.HTML object>"
            ]
          },
          "metadata": {},
          "output_type": "display_data"
        },
        {
          "data": {
            "text/html": [
              " View run <strong style=\"color:#cdcd00\">Task-4.3_Raw_lr_0.01_opt_sgd</strong> at: <a href='https://wandb.ai/oopss-moment-iiit-hyderabad/Assignment1_Computer_Vision/runs/uxs0ex8b' target=\"_blank\">https://wandb.ai/oopss-moment-iiit-hyderabad/Assignment1_Computer_Vision/runs/uxs0ex8b</a><br> View project at: <a href='https://wandb.ai/oopss-moment-iiit-hyderabad/Assignment1_Computer_Vision' target=\"_blank\">https://wandb.ai/oopss-moment-iiit-hyderabad/Assignment1_Computer_Vision</a><br>Synced 5 W&B file(s), 0 media file(s), 0 artifact file(s) and 0 other file(s)"
            ],
            "text/plain": [
              "<IPython.core.display.HTML object>"
            ]
          },
          "metadata": {},
          "output_type": "display_data"
        },
        {
          "data": {
            "text/html": [
              "Find logs at: <code>./wandb/run-20250122_110024-uxs0ex8b/logs</code>"
            ],
            "text/plain": [
              "<IPython.core.display.HTML object>"
            ]
          },
          "metadata": {},
          "output_type": "display_data"
        }
      ],
      "source": [
        "model1,model1_acc,model1_train_loss,model1_val_loss,model1_val_acc = train_multiple_variants(\"Raw\",train_loader, val_loader, 28*28, variants)"
      ]
    },
    {
      "cell_type": "code",
      "execution_count": 34,
      "metadata": {
        "colab": {
          "base_uri": "https://localhost:8080/",
          "height": 1000
        },
        "id": "xYVmuxxdIple",
        "outputId": "aa7890e8-3ec5-43fa-d0e7-f936b1173a3d"
      },
      "outputs": [
        {
          "data": {
            "text/html": [
              "Tracking run with wandb version 0.19.2"
            ],
            "text/plain": [
              "<IPython.core.display.HTML object>"
            ]
          },
          "metadata": {},
          "output_type": "display_data"
        },
        {
          "data": {
            "text/html": [
              "Run data is saved locally in <code>/content/wandb/run-20250122_110106-wfhw870x</code>"
            ],
            "text/plain": [
              "<IPython.core.display.HTML object>"
            ]
          },
          "metadata": {},
          "output_type": "display_data"
        },
        {
          "data": {
            "text/html": [
              "Syncing run <strong><a href='https://wandb.ai/oopss-moment-iiit-hyderabad/Assignment1_Computer_Vision/runs/wfhw870x' target=\"_blank\">Task-4.3_canny_edge_lr_0.1_opt_adam</a></strong> to <a href='https://wandb.ai/oopss-moment-iiit-hyderabad/Assignment1_Computer_Vision' target=\"_blank\">Weights & Biases</a> (<a href='https://wandb.me/developer-guide' target=\"_blank\">docs</a>)<br>"
            ],
            "text/plain": [
              "<IPython.core.display.HTML object>"
            ]
          },
          "metadata": {},
          "output_type": "display_data"
        },
        {
          "data": {
            "text/html": [
              " View project at <a href='https://wandb.ai/oopss-moment-iiit-hyderabad/Assignment1_Computer_Vision' target=\"_blank\">https://wandb.ai/oopss-moment-iiit-hyderabad/Assignment1_Computer_Vision</a>"
            ],
            "text/plain": [
              "<IPython.core.display.HTML object>"
            ]
          },
          "metadata": {},
          "output_type": "display_data"
        },
        {
          "data": {
            "text/html": [
              " View run at <a href='https://wandb.ai/oopss-moment-iiit-hyderabad/Assignment1_Computer_Vision/runs/wfhw870x' target=\"_blank\">https://wandb.ai/oopss-moment-iiit-hyderabad/Assignment1_Computer_Vision/runs/wfhw870x</a>"
            ],
            "text/plain": [
              "<IPython.core.display.HTML object>"
            ]
          },
          "metadata": {},
          "output_type": "display_data"
        },
        {
          "name": "stdout",
          "output_type": "stream",
          "text": [
            "Training Model Variant 1 with params: {'lr': 0.1, 'optimizer': 'adam', 'epochs': 20, 'patience': 3}\n",
            "Epoch 1/20\n"
          ]
        },
        {
          "name": "stderr",
          "output_type": "stream",
          "text": [
            "Training:   4%|▍         | 31/750 [00:00<00:02, 305.01it/s]"
          ]
        },
        {
          "name": "stdout",
          "output_type": "stream",
          "text": [
            "Input shape: torch.Size([64, 1, 28, 28]), Labels shape: torch.Size([64])\n",
            "Output shape: torch.Size([64, 10])\n"
          ]
        },
        {
          "name": "stderr",
          "output_type": "stream",
          "text": []
        },
        {
          "name": "stdout",
          "output_type": "stream",
          "text": [
            "Train Loss: 12.9878\n",
            "Validation Accuracy: 0.1027\n",
            "Validation accuracy improved. Resetting patience counter.\n",
            "Epoch 2/20\n"
          ]
        },
        {
          "name": "stderr",
          "output_type": "stream",
          "text": []
        },
        {
          "name": "stdout",
          "output_type": "stream",
          "text": [
            "Train Loss: 2.3121\n",
            "Validation Accuracy: 0.1027\n",
            "Validation accuracy did not improve. Patience counter: 1/3\n",
            "Epoch 3/20\n"
          ]
        },
        {
          "name": "stderr",
          "output_type": "stream",
          "text": []
        },
        {
          "name": "stdout",
          "output_type": "stream",
          "text": [
            "Train Loss: 2.3117\n",
            "Validation Accuracy: 0.1027\n",
            "Validation accuracy did not improve. Patience counter: 2/3\n",
            "Epoch 4/20\n"
          ]
        },
        {
          "name": "stderr",
          "output_type": "stream",
          "text": []
        },
        {
          "name": "stdout",
          "output_type": "stream",
          "text": [
            "Train Loss: 2.3117\n",
            "Validation Accuracy: 0.1027\n",
            "Validation accuracy did not improve. Patience counter: 3/3\n",
            "Early stopping triggered.\n",
            "Best Validation Accuracy: 0.1027\n"
          ]
        },
        {
          "data": {
            "text/html": [],
            "text/plain": [
              "<IPython.core.display.HTML object>"
            ]
          },
          "metadata": {},
          "output_type": "display_data"
        },
        {
          "data": {
            "text/html": [
              "<br>    <style><br>        .wandb-row {<br>            display: flex;<br>            flex-direction: row;<br>            flex-wrap: wrap;<br>            justify-content: flex-start;<br>            width: 100%;<br>        }<br>        .wandb-col {<br>            display: flex;<br>            flex-direction: column;<br>            flex-basis: 100%;<br>            flex: 1;<br>            padding: 10px;<br>        }<br>    </style><br><div class=\"wandb-row\"><div class=\"wandb-col\"><h3>Run history:</h3><br/><table class=\"wandb\"><tr><td>epoch</td><td>▁▃▆█</td></tr><tr><td>final_train_loss</td><td>▁</td></tr><tr><td>final_val_loss</td><td>▁</td></tr><tr><td>final_validation_accuracy</td><td>▁</td></tr><tr><td>train_loss</td><td>█▁▁▁</td></tr><tr><td>val_accuracy</td><td>▁▁▁▁</td></tr><tr><td>val_loss</td><td>▁▆▇█</td></tr></table><br/></div><div class=\"wandb-col\"><h3>Run summary:</h3><br/><table class=\"wandb\"><tr><td>epoch</td><td>4</td></tr><tr><td>final_train_loss</td><td>2.31169</td></tr><tr><td>final_val_loss</td><td>2.30589</td></tr><tr><td>final_validation_accuracy</td><td>0.10267</td></tr><tr><td>train_loss</td><td>2.31169</td></tr><tr><td>val_accuracy</td><td>0.10267</td></tr><tr><td>val_loss</td><td>2.30589</td></tr></table><br/></div></div>"
            ],
            "text/plain": [
              "<IPython.core.display.HTML object>"
            ]
          },
          "metadata": {},
          "output_type": "display_data"
        },
        {
          "data": {
            "text/html": [
              " View run <strong style=\"color:#cdcd00\">Task-4.3_canny_edge_lr_0.1_opt_adam</strong> at: <a href='https://wandb.ai/oopss-moment-iiit-hyderabad/Assignment1_Computer_Vision/runs/wfhw870x' target=\"_blank\">https://wandb.ai/oopss-moment-iiit-hyderabad/Assignment1_Computer_Vision/runs/wfhw870x</a><br> View project at: <a href='https://wandb.ai/oopss-moment-iiit-hyderabad/Assignment1_Computer_Vision' target=\"_blank\">https://wandb.ai/oopss-moment-iiit-hyderabad/Assignment1_Computer_Vision</a><br>Synced 5 W&B file(s), 0 media file(s), 0 artifact file(s) and 0 other file(s)"
            ],
            "text/plain": [
              "<IPython.core.display.HTML object>"
            ]
          },
          "metadata": {},
          "output_type": "display_data"
        },
        {
          "data": {
            "text/html": [
              "Find logs at: <code>./wandb/run-20250122_110106-wfhw870x/logs</code>"
            ],
            "text/plain": [
              "<IPython.core.display.HTML object>"
            ]
          },
          "metadata": {},
          "output_type": "display_data"
        },
        {
          "data": {
            "text/html": [
              "Tracking run with wandb version 0.19.2"
            ],
            "text/plain": [
              "<IPython.core.display.HTML object>"
            ]
          },
          "metadata": {},
          "output_type": "display_data"
        },
        {
          "data": {
            "text/html": [
              "Run data is saved locally in <code>/content/wandb/run-20250122_110121-3hw97qq4</code>"
            ],
            "text/plain": [
              "<IPython.core.display.HTML object>"
            ]
          },
          "metadata": {},
          "output_type": "display_data"
        },
        {
          "data": {
            "text/html": [
              "Syncing run <strong><a href='https://wandb.ai/oopss-moment-iiit-hyderabad/Assignment1_Computer_Vision/runs/3hw97qq4' target=\"_blank\">Task-4.3_canny_edge_lr_0.1_opt_sgd</a></strong> to <a href='https://wandb.ai/oopss-moment-iiit-hyderabad/Assignment1_Computer_Vision' target=\"_blank\">Weights & Biases</a> (<a href='https://wandb.me/developer-guide' target=\"_blank\">docs</a>)<br>"
            ],
            "text/plain": [
              "<IPython.core.display.HTML object>"
            ]
          },
          "metadata": {},
          "output_type": "display_data"
        },
        {
          "data": {
            "text/html": [
              " View project at <a href='https://wandb.ai/oopss-moment-iiit-hyderabad/Assignment1_Computer_Vision' target=\"_blank\">https://wandb.ai/oopss-moment-iiit-hyderabad/Assignment1_Computer_Vision</a>"
            ],
            "text/plain": [
              "<IPython.core.display.HTML object>"
            ]
          },
          "metadata": {},
          "output_type": "display_data"
        },
        {
          "data": {
            "text/html": [
              " View run at <a href='https://wandb.ai/oopss-moment-iiit-hyderabad/Assignment1_Computer_Vision/runs/3hw97qq4' target=\"_blank\">https://wandb.ai/oopss-moment-iiit-hyderabad/Assignment1_Computer_Vision/runs/3hw97qq4</a>"
            ],
            "text/plain": [
              "<IPython.core.display.HTML object>"
            ]
          },
          "metadata": {},
          "output_type": "display_data"
        },
        {
          "name": "stdout",
          "output_type": "stream",
          "text": [
            "Training Model Variant 2 with params: {'lr': 0.1, 'optimizer': 'sgd', 'epochs': 20, 'patience': 3}\n",
            "Epoch 1/20\n"
          ]
        },
        {
          "name": "stderr",
          "output_type": "stream",
          "text": [
            "Training:   6%|▌         | 46/750 [00:00<00:01, 458.08it/s]"
          ]
        },
        {
          "name": "stdout",
          "output_type": "stream",
          "text": [
            "Input shape: torch.Size([64, 1, 28, 28]), Labels shape: torch.Size([64])\n",
            "Output shape: torch.Size([64, 10])\n"
          ]
        },
        {
          "name": "stderr",
          "output_type": "stream",
          "text": []
        },
        {
          "name": "stdout",
          "output_type": "stream",
          "text": [
            "Train Loss: 4761132.7267\n",
            "Validation Accuracy: 0.1027\n",
            "Validation accuracy improved. Resetting patience counter.\n",
            "Epoch 2/20\n"
          ]
        },
        {
          "name": "stderr",
          "output_type": "stream",
          "text": []
        },
        {
          "name": "stdout",
          "output_type": "stream",
          "text": [
            "Train Loss: 22.9589\n",
            "Validation Accuracy: 0.1027\n",
            "Validation accuracy did not improve. Patience counter: 1/3\n",
            "Epoch 3/20\n"
          ]
        },
        {
          "name": "stderr",
          "output_type": "stream",
          "text": []
        },
        {
          "name": "stdout",
          "output_type": "stream",
          "text": [
            "Train Loss: 2.3059\n",
            "Validation Accuracy: 0.1027\n",
            "Validation accuracy did not improve. Patience counter: 2/3\n",
            "Epoch 4/20\n"
          ]
        },
        {
          "name": "stderr",
          "output_type": "stream",
          "text": []
        },
        {
          "name": "stdout",
          "output_type": "stream",
          "text": [
            "Train Loss: 2.3059\n",
            "Validation Accuracy: 0.1027\n",
            "Validation accuracy did not improve. Patience counter: 3/3\n",
            "Early stopping triggered.\n",
            "Best Validation Accuracy: 0.1027\n"
          ]
        },
        {
          "data": {
            "text/html": [],
            "text/plain": [
              "<IPython.core.display.HTML object>"
            ]
          },
          "metadata": {},
          "output_type": "display_data"
        },
        {
          "data": {
            "text/html": [
              "<br>    <style><br>        .wandb-row {<br>            display: flex;<br>            flex-direction: row;<br>            flex-wrap: wrap;<br>            justify-content: flex-start;<br>            width: 100%;<br>        }<br>        .wandb-col {<br>            display: flex;<br>            flex-direction: column;<br>            flex-basis: 100%;<br>            flex: 1;<br>            padding: 10px;<br>        }<br>    </style><br><div class=\"wandb-row\"><div class=\"wandb-col\"><h3>Run history:</h3><br/><table class=\"wandb\"><tr><td>epoch</td><td>▁▃▆█</td></tr><tr><td>final_train_loss</td><td>▁</td></tr><tr><td>final_val_loss</td><td>▁</td></tr><tr><td>final_validation_accuracy</td><td>▁</td></tr><tr><td>train_loss</td><td>█▁▁▁</td></tr><tr><td>val_accuracy</td><td>▁▁▁▁</td></tr><tr><td>val_loss</td><td>▆█▁█</td></tr></table><br/></div><div class=\"wandb-col\"><h3>Run summary:</h3><br/><table class=\"wandb\"><tr><td>epoch</td><td>4</td></tr><tr><td>final_train_loss</td><td>2.30592</td></tr><tr><td>final_val_loss</td><td>2.30358</td></tr><tr><td>final_validation_accuracy</td><td>0.10267</td></tr><tr><td>train_loss</td><td>2.30592</td></tr><tr><td>val_accuracy</td><td>0.10267</td></tr><tr><td>val_loss</td><td>2.30358</td></tr></table><br/></div></div>"
            ],
            "text/plain": [
              "<IPython.core.display.HTML object>"
            ]
          },
          "metadata": {},
          "output_type": "display_data"
        },
        {
          "data": {
            "text/html": [
              " View run <strong style=\"color:#cdcd00\">Task-4.3_canny_edge_lr_0.1_opt_sgd</strong> at: <a href='https://wandb.ai/oopss-moment-iiit-hyderabad/Assignment1_Computer_Vision/runs/3hw97qq4' target=\"_blank\">https://wandb.ai/oopss-moment-iiit-hyderabad/Assignment1_Computer_Vision/runs/3hw97qq4</a><br> View project at: <a href='https://wandb.ai/oopss-moment-iiit-hyderabad/Assignment1_Computer_Vision' target=\"_blank\">https://wandb.ai/oopss-moment-iiit-hyderabad/Assignment1_Computer_Vision</a><br>Synced 5 W&B file(s), 0 media file(s), 0 artifact file(s) and 0 other file(s)"
            ],
            "text/plain": [
              "<IPython.core.display.HTML object>"
            ]
          },
          "metadata": {},
          "output_type": "display_data"
        },
        {
          "data": {
            "text/html": [
              "Find logs at: <code>./wandb/run-20250122_110121-3hw97qq4/logs</code>"
            ],
            "text/plain": [
              "<IPython.core.display.HTML object>"
            ]
          },
          "metadata": {},
          "output_type": "display_data"
        },
        {
          "data": {
            "text/html": [
              "Tracking run with wandb version 0.19.2"
            ],
            "text/plain": [
              "<IPython.core.display.HTML object>"
            ]
          },
          "metadata": {},
          "output_type": "display_data"
        },
        {
          "data": {
            "text/html": [
              "Run data is saved locally in <code>/content/wandb/run-20250122_110134-7r4ru2yx</code>"
            ],
            "text/plain": [
              "<IPython.core.display.HTML object>"
            ]
          },
          "metadata": {},
          "output_type": "display_data"
        },
        {
          "data": {
            "text/html": [
              "Syncing run <strong><a href='https://wandb.ai/oopss-moment-iiit-hyderabad/Assignment1_Computer_Vision/runs/7r4ru2yx' target=\"_blank\">Task-4.3_canny_edge_lr_0.01_opt_adam</a></strong> to <a href='https://wandb.ai/oopss-moment-iiit-hyderabad/Assignment1_Computer_Vision' target=\"_blank\">Weights & Biases</a> (<a href='https://wandb.me/developer-guide' target=\"_blank\">docs</a>)<br>"
            ],
            "text/plain": [
              "<IPython.core.display.HTML object>"
            ]
          },
          "metadata": {},
          "output_type": "display_data"
        },
        {
          "data": {
            "text/html": [
              " View project at <a href='https://wandb.ai/oopss-moment-iiit-hyderabad/Assignment1_Computer_Vision' target=\"_blank\">https://wandb.ai/oopss-moment-iiit-hyderabad/Assignment1_Computer_Vision</a>"
            ],
            "text/plain": [
              "<IPython.core.display.HTML object>"
            ]
          },
          "metadata": {},
          "output_type": "display_data"
        },
        {
          "data": {
            "text/html": [
              " View run at <a href='https://wandb.ai/oopss-moment-iiit-hyderabad/Assignment1_Computer_Vision/runs/7r4ru2yx' target=\"_blank\">https://wandb.ai/oopss-moment-iiit-hyderabad/Assignment1_Computer_Vision/runs/7r4ru2yx</a>"
            ],
            "text/plain": [
              "<IPython.core.display.HTML object>"
            ]
          },
          "metadata": {},
          "output_type": "display_data"
        },
        {
          "name": "stdout",
          "output_type": "stream",
          "text": [
            "Training Model Variant 3 with params: {'lr': 0.01, 'optimizer': 'adam', 'epochs': 20, 'patience': 3}\n",
            "Epoch 1/20\n"
          ]
        },
        {
          "name": "stderr",
          "output_type": "stream",
          "text": [
            "Training:   6%|▌         | 44/750 [00:00<00:01, 435.33it/s]"
          ]
        },
        {
          "name": "stdout",
          "output_type": "stream",
          "text": [
            "Input shape: torch.Size([64, 1, 28, 28]), Labels shape: torch.Size([64])\n",
            "Output shape: torch.Size([64, 10])\n"
          ]
        },
        {
          "name": "stderr",
          "output_type": "stream",
          "text": []
        },
        {
          "name": "stdout",
          "output_type": "stream",
          "text": [
            "Train Loss: 2.1437\n",
            "Validation Accuracy: 0.3507\n",
            "Validation accuracy improved. Resetting patience counter.\n",
            "Epoch 2/20\n"
          ]
        },
        {
          "name": "stderr",
          "output_type": "stream",
          "text": []
        },
        {
          "name": "stdout",
          "output_type": "stream",
          "text": [
            "Train Loss: 1.9574\n",
            "Validation Accuracy: 0.3379\n",
            "Validation accuracy did not improve. Patience counter: 1/3\n",
            "Epoch 3/20\n"
          ]
        },
        {
          "name": "stderr",
          "output_type": "stream",
          "text": []
        },
        {
          "name": "stdout",
          "output_type": "stream",
          "text": [
            "Train Loss: 1.7264\n",
            "Validation Accuracy: 0.3821\n",
            "Validation accuracy improved. Resetting patience counter.\n",
            "Epoch 4/20\n"
          ]
        },
        {
          "name": "stderr",
          "output_type": "stream",
          "text": []
        },
        {
          "name": "stdout",
          "output_type": "stream",
          "text": [
            "Train Loss: 1.7623\n",
            "Validation Accuracy: 0.3235\n",
            "Validation accuracy did not improve. Patience counter: 1/3\n",
            "Epoch 5/20\n"
          ]
        },
        {
          "name": "stderr",
          "output_type": "stream",
          "text": []
        },
        {
          "name": "stdout",
          "output_type": "stream",
          "text": [
            "Train Loss: 1.7670\n",
            "Validation Accuracy: 0.2973\n",
            "Validation accuracy did not improve. Patience counter: 2/3\n",
            "Epoch 6/20\n"
          ]
        },
        {
          "name": "stderr",
          "output_type": "stream",
          "text": []
        },
        {
          "name": "stdout",
          "output_type": "stream",
          "text": [
            "Train Loss: 1.7667\n",
            "Validation Accuracy: 0.3500\n",
            "Validation accuracy did not improve. Patience counter: 3/3\n",
            "Early stopping triggered.\n",
            "Best Validation Accuracy: 0.3821\n"
          ]
        },
        {
          "data": {
            "text/html": [],
            "text/plain": [
              "<IPython.core.display.HTML object>"
            ]
          },
          "metadata": {},
          "output_type": "display_data"
        },
        {
          "data": {
            "text/html": [
              "<br>    <style><br>        .wandb-row {<br>            display: flex;<br>            flex-direction: row;<br>            flex-wrap: wrap;<br>            justify-content: flex-start;<br>            width: 100%;<br>        }<br>        .wandb-col {<br>            display: flex;<br>            flex-direction: column;<br>            flex-basis: 100%;<br>            flex: 1;<br>            padding: 10px;<br>        }<br>    </style><br><div class=\"wandb-row\"><div class=\"wandb-col\"><h3>Run history:</h3><br/><table class=\"wandb\"><tr><td>epoch</td><td>▁▂▄▅▇█</td></tr><tr><td>final_train_loss</td><td>▁</td></tr><tr><td>final_val_loss</td><td>▁</td></tr><tr><td>final_validation_accuracy</td><td>▁</td></tr><tr><td>train_loss</td><td>█▅▁▂▂▂</td></tr><tr><td>val_accuracy</td><td>▅▄█▃▁▅</td></tr><tr><td>val_loss</td><td>▇▆▁▅█▃</td></tr></table><br/></div><div class=\"wandb-col\"><h3>Run summary:</h3><br/><table class=\"wandb\"><tr><td>epoch</td><td>6</td></tr><tr><td>final_train_loss</td><td>1.76671</td></tr><tr><td>final_val_loss</td><td>1.58157</td></tr><tr><td>final_validation_accuracy</td><td>0.38208</td></tr><tr><td>train_loss</td><td>1.76671</td></tr><tr><td>val_accuracy</td><td>0.35</td></tr><tr><td>val_loss</td><td>1.58157</td></tr></table><br/></div></div>"
            ],
            "text/plain": [
              "<IPython.core.display.HTML object>"
            ]
          },
          "metadata": {},
          "output_type": "display_data"
        },
        {
          "data": {
            "text/html": [
              " View run <strong style=\"color:#cdcd00\">Task-4.3_canny_edge_lr_0.01_opt_adam</strong> at: <a href='https://wandb.ai/oopss-moment-iiit-hyderabad/Assignment1_Computer_Vision/runs/7r4ru2yx' target=\"_blank\">https://wandb.ai/oopss-moment-iiit-hyderabad/Assignment1_Computer_Vision/runs/7r4ru2yx</a><br> View project at: <a href='https://wandb.ai/oopss-moment-iiit-hyderabad/Assignment1_Computer_Vision' target=\"_blank\">https://wandb.ai/oopss-moment-iiit-hyderabad/Assignment1_Computer_Vision</a><br>Synced 5 W&B file(s), 0 media file(s), 0 artifact file(s) and 0 other file(s)"
            ],
            "text/plain": [
              "<IPython.core.display.HTML object>"
            ]
          },
          "metadata": {},
          "output_type": "display_data"
        },
        {
          "data": {
            "text/html": [
              "Find logs at: <code>./wandb/run-20250122_110134-7r4ru2yx/logs</code>"
            ],
            "text/plain": [
              "<IPython.core.display.HTML object>"
            ]
          },
          "metadata": {},
          "output_type": "display_data"
        },
        {
          "data": {
            "text/html": [
              "Tracking run with wandb version 0.19.2"
            ],
            "text/plain": [
              "<IPython.core.display.HTML object>"
            ]
          },
          "metadata": {},
          "output_type": "display_data"
        },
        {
          "data": {
            "text/html": [
              "Run data is saved locally in <code>/content/wandb/run-20250122_110152-pjxng5xi</code>"
            ],
            "text/plain": [
              "<IPython.core.display.HTML object>"
            ]
          },
          "metadata": {},
          "output_type": "display_data"
        },
        {
          "data": {
            "text/html": [
              "Syncing run <strong><a href='https://wandb.ai/oopss-moment-iiit-hyderabad/Assignment1_Computer_Vision/runs/pjxng5xi' target=\"_blank\">Task-4.3_canny_edge_lr_0.01_opt_sgd</a></strong> to <a href='https://wandb.ai/oopss-moment-iiit-hyderabad/Assignment1_Computer_Vision' target=\"_blank\">Weights & Biases</a> (<a href='https://wandb.me/developer-guide' target=\"_blank\">docs</a>)<br>"
            ],
            "text/plain": [
              "<IPython.core.display.HTML object>"
            ]
          },
          "metadata": {},
          "output_type": "display_data"
        },
        {
          "data": {
            "text/html": [
              " View project at <a href='https://wandb.ai/oopss-moment-iiit-hyderabad/Assignment1_Computer_Vision' target=\"_blank\">https://wandb.ai/oopss-moment-iiit-hyderabad/Assignment1_Computer_Vision</a>"
            ],
            "text/plain": [
              "<IPython.core.display.HTML object>"
            ]
          },
          "metadata": {},
          "output_type": "display_data"
        },
        {
          "data": {
            "text/html": [
              " View run at <a href='https://wandb.ai/oopss-moment-iiit-hyderabad/Assignment1_Computer_Vision/runs/pjxng5xi' target=\"_blank\">https://wandb.ai/oopss-moment-iiit-hyderabad/Assignment1_Computer_Vision/runs/pjxng5xi</a>"
            ],
            "text/plain": [
              "<IPython.core.display.HTML object>"
            ]
          },
          "metadata": {},
          "output_type": "display_data"
        },
        {
          "name": "stdout",
          "output_type": "stream",
          "text": [
            "Training Model Variant 4 with params: {'lr': 0.01, 'optimizer': 'sgd', 'epochs': 20, 'patience': 3}\n",
            "Epoch 1/20\n"
          ]
        },
        {
          "name": "stderr",
          "output_type": "stream",
          "text": [
            "Training:   7%|▋         | 50/750 [00:00<00:01, 494.98it/s]"
          ]
        },
        {
          "name": "stdout",
          "output_type": "stream",
          "text": [
            "Input shape: torch.Size([64, 1, 28, 28]), Labels shape: torch.Size([64])\n",
            "Output shape: torch.Size([64, 10])\n"
          ]
        },
        {
          "name": "stderr",
          "output_type": "stream",
          "text": []
        },
        {
          "name": "stdout",
          "output_type": "stream",
          "text": [
            "Train Loss: 2.4550\n",
            "Validation Accuracy: 0.1027\n",
            "Validation accuracy improved. Resetting patience counter.\n",
            "Epoch 2/20\n"
          ]
        },
        {
          "name": "stderr",
          "output_type": "stream",
          "text": []
        },
        {
          "name": "stdout",
          "output_type": "stream",
          "text": [
            "Train Loss: 2.3162\n",
            "Validation Accuracy: 0.1027\n",
            "Validation accuracy did not improve. Patience counter: 1/3\n",
            "Epoch 3/20\n"
          ]
        },
        {
          "name": "stderr",
          "output_type": "stream",
          "text": []
        },
        {
          "name": "stdout",
          "output_type": "stream",
          "text": [
            "Train Loss: 2.3055\n",
            "Validation Accuracy: 0.1027\n",
            "Validation accuracy did not improve. Patience counter: 2/3\n",
            "Epoch 4/20\n"
          ]
        },
        {
          "name": "stderr",
          "output_type": "stream",
          "text": []
        },
        {
          "name": "stdout",
          "output_type": "stream",
          "text": [
            "Train Loss: 2.3060\n",
            "Validation Accuracy: 0.1027\n",
            "Validation accuracy did not improve. Patience counter: 3/3\n",
            "Early stopping triggered.\n",
            "Best Validation Accuracy: 0.1027\n"
          ]
        },
        {
          "data": {
            "text/html": [],
            "text/plain": [
              "<IPython.core.display.HTML object>"
            ]
          },
          "metadata": {},
          "output_type": "display_data"
        },
        {
          "data": {
            "text/html": [
              "<br>    <style><br>        .wandb-row {<br>            display: flex;<br>            flex-direction: row;<br>            flex-wrap: wrap;<br>            justify-content: flex-start;<br>            width: 100%;<br>        }<br>        .wandb-col {<br>            display: flex;<br>            flex-direction: column;<br>            flex-basis: 100%;<br>            flex: 1;<br>            padding: 10px;<br>        }<br>    </style><br><div class=\"wandb-row\"><div class=\"wandb-col\"><h3>Run history:</h3><br/><table class=\"wandb\"><tr><td>epoch</td><td>▁▃▆█</td></tr><tr><td>final_train_loss</td><td>▁</td></tr><tr><td>final_val_loss</td><td>▁</td></tr><tr><td>final_validation_accuracy</td><td>▁</td></tr><tr><td>train_loss</td><td>█▂▁▁</td></tr><tr><td>val_accuracy</td><td>▁▁▁▁</td></tr><tr><td>val_loss</td><td>▃▆█▁</td></tr></table><br/></div><div class=\"wandb-col\"><h3>Run summary:</h3><br/><table class=\"wandb\"><tr><td>epoch</td><td>4</td></tr><tr><td>final_train_loss</td><td>2.30598</td></tr><tr><td>final_val_loss</td><td>2.30257</td></tr><tr><td>final_validation_accuracy</td><td>0.10267</td></tr><tr><td>train_loss</td><td>2.30598</td></tr><tr><td>val_accuracy</td><td>0.10267</td></tr><tr><td>val_loss</td><td>2.30257</td></tr></table><br/></div></div>"
            ],
            "text/plain": [
              "<IPython.core.display.HTML object>"
            ]
          },
          "metadata": {},
          "output_type": "display_data"
        },
        {
          "data": {
            "text/html": [
              " View run <strong style=\"color:#cdcd00\">Task-4.3_canny_edge_lr_0.01_opt_sgd</strong> at: <a href='https://wandb.ai/oopss-moment-iiit-hyderabad/Assignment1_Computer_Vision/runs/pjxng5xi' target=\"_blank\">https://wandb.ai/oopss-moment-iiit-hyderabad/Assignment1_Computer_Vision/runs/pjxng5xi</a><br> View project at: <a href='https://wandb.ai/oopss-moment-iiit-hyderabad/Assignment1_Computer_Vision' target=\"_blank\">https://wandb.ai/oopss-moment-iiit-hyderabad/Assignment1_Computer_Vision</a><br>Synced 5 W&B file(s), 0 media file(s), 0 artifact file(s) and 0 other file(s)"
            ],
            "text/plain": [
              "<IPython.core.display.HTML object>"
            ]
          },
          "metadata": {},
          "output_type": "display_data"
        },
        {
          "data": {
            "text/html": [
              "Find logs at: <code>./wandb/run-20250122_110152-pjxng5xi/logs</code>"
            ],
            "text/plain": [
              "<IPython.core.display.HTML object>"
            ]
          },
          "metadata": {},
          "output_type": "display_data"
        }
      ],
      "source": [
        "model2,model2_acc,model2_train_loss,model2_val_loss,model2_val_acc = train_multiple_variants(\"canny_edge\",edge_train_loader, edge_val_loader, 28*28, variants)"
      ]
    },
    {
      "cell_type": "code",
      "execution_count": 35,
      "metadata": {
        "colab": {
          "base_uri": "https://localhost:8080/",
          "height": 1000
        },
        "id": "o-1Iq5-qJ5hm",
        "outputId": "80be4937-6d2b-4acf-f711-8fc48e1669e0"
      },
      "outputs": [
        {
          "data": {
            "text/html": [
              "Tracking run with wandb version 0.19.2"
            ],
            "text/plain": [
              "<IPython.core.display.HTML object>"
            ]
          },
          "metadata": {},
          "output_type": "display_data"
        },
        {
          "data": {
            "text/html": [
              "Run data is saved locally in <code>/content/wandb/run-20250122_110209-gr8xl9og</code>"
            ],
            "text/plain": [
              "<IPython.core.display.HTML object>"
            ]
          },
          "metadata": {},
          "output_type": "display_data"
        },
        {
          "data": {
            "text/html": [
              "Syncing run <strong><a href='https://wandb.ai/oopss-moment-iiit-hyderabad/Assignment1_Computer_Vision/runs/gr8xl9og' target=\"_blank\">Task-4.3_HOG_lr_0.1_opt_adam</a></strong> to <a href='https://wandb.ai/oopss-moment-iiit-hyderabad/Assignment1_Computer_Vision' target=\"_blank\">Weights & Biases</a> (<a href='https://wandb.me/developer-guide' target=\"_blank\">docs</a>)<br>"
            ],
            "text/plain": [
              "<IPython.core.display.HTML object>"
            ]
          },
          "metadata": {},
          "output_type": "display_data"
        },
        {
          "data": {
            "text/html": [
              " View project at <a href='https://wandb.ai/oopss-moment-iiit-hyderabad/Assignment1_Computer_Vision' target=\"_blank\">https://wandb.ai/oopss-moment-iiit-hyderabad/Assignment1_Computer_Vision</a>"
            ],
            "text/plain": [
              "<IPython.core.display.HTML object>"
            ]
          },
          "metadata": {},
          "output_type": "display_data"
        },
        {
          "data": {
            "text/html": [
              " View run at <a href='https://wandb.ai/oopss-moment-iiit-hyderabad/Assignment1_Computer_Vision/runs/gr8xl9og' target=\"_blank\">https://wandb.ai/oopss-moment-iiit-hyderabad/Assignment1_Computer_Vision/runs/gr8xl9og</a>"
            ],
            "text/plain": [
              "<IPython.core.display.HTML object>"
            ]
          },
          "metadata": {},
          "output_type": "display_data"
        },
        {
          "name": "stdout",
          "output_type": "stream",
          "text": [
            "Training Model Variant 1 with params: {'lr': 0.1, 'optimizer': 'adam', 'epochs': 20, 'patience': 3}\n",
            "Epoch 1/20\n"
          ]
        },
        {
          "name": "stderr",
          "output_type": "stream",
          "text": [
            "Training:   6%|▋         | 48/750 [00:00<00:01, 476.59it/s]"
          ]
        },
        {
          "name": "stdout",
          "output_type": "stream",
          "text": [
            "Input shape: torch.Size([64, 144]), Labels shape: torch.Size([64])\n",
            "Output shape: torch.Size([64, 10])\n"
          ]
        },
        {
          "name": "stderr",
          "output_type": "stream",
          "text": []
        },
        {
          "name": "stdout",
          "output_type": "stream",
          "text": [
            "Train Loss: 1.2307\n",
            "Validation Accuracy: 0.6527\n",
            "Validation accuracy improved. Resetting patience counter.\n",
            "Epoch 2/20\n"
          ]
        },
        {
          "name": "stderr",
          "output_type": "stream",
          "text": []
        },
        {
          "name": "stdout",
          "output_type": "stream",
          "text": [
            "Train Loss: 1.3096\n",
            "Validation Accuracy: 0.6038\n",
            "Validation accuracy did not improve. Patience counter: 1/3\n",
            "Epoch 3/20\n"
          ]
        },
        {
          "name": "stderr",
          "output_type": "stream",
          "text": []
        },
        {
          "name": "stdout",
          "output_type": "stream",
          "text": [
            "Train Loss: 1.4650\n",
            "Validation Accuracy: 0.3959\n",
            "Validation accuracy did not improve. Patience counter: 2/3\n",
            "Epoch 4/20\n"
          ]
        },
        {
          "name": "stderr",
          "output_type": "stream",
          "text": []
        },
        {
          "name": "stdout",
          "output_type": "stream",
          "text": [
            "Train Loss: 1.5148\n",
            "Validation Accuracy: 0.4266\n",
            "Validation accuracy did not improve. Patience counter: 3/3\n",
            "Early stopping triggered.\n",
            "Best Validation Accuracy: 0.6527\n"
          ]
        },
        {
          "data": {
            "text/html": [],
            "text/plain": [
              "<IPython.core.display.HTML object>"
            ]
          },
          "metadata": {},
          "output_type": "display_data"
        },
        {
          "data": {
            "text/html": [
              "<br>    <style><br>        .wandb-row {<br>            display: flex;<br>            flex-direction: row;<br>            flex-wrap: wrap;<br>            justify-content: flex-start;<br>            width: 100%;<br>        }<br>        .wandb-col {<br>            display: flex;<br>            flex-direction: column;<br>            flex-basis: 100%;<br>            flex: 1;<br>            padding: 10px;<br>        }<br>    </style><br><div class=\"wandb-row\"><div class=\"wandb-col\"><h3>Run history:</h3><br/><table class=\"wandb\"><tr><td>epoch</td><td>▁▃▆█</td></tr><tr><td>final_train_loss</td><td>▁</td></tr><tr><td>final_val_loss</td><td>▁</td></tr><tr><td>final_validation_accuracy</td><td>▁</td></tr><tr><td>train_loss</td><td>▁▃▇█</td></tr><tr><td>val_accuracy</td><td>█▇▁▂</td></tr><tr><td>val_loss</td><td>▁▂█▆</td></tr></table><br/></div><div class=\"wandb-col\"><h3>Run summary:</h3><br/><table class=\"wandb\"><tr><td>epoch</td><td>4</td></tr><tr><td>final_train_loss</td><td>1.51482</td></tr><tr><td>final_val_loss</td><td>1.34267</td></tr><tr><td>final_validation_accuracy</td><td>0.65267</td></tr><tr><td>train_loss</td><td>1.51482</td></tr><tr><td>val_accuracy</td><td>0.42658</td></tr><tr><td>val_loss</td><td>1.34267</td></tr></table><br/></div></div>"
            ],
            "text/plain": [
              "<IPython.core.display.HTML object>"
            ]
          },
          "metadata": {},
          "output_type": "display_data"
        },
        {
          "data": {
            "text/html": [
              " View run <strong style=\"color:#cdcd00\">Task-4.3_HOG_lr_0.1_opt_adam</strong> at: <a href='https://wandb.ai/oopss-moment-iiit-hyderabad/Assignment1_Computer_Vision/runs/gr8xl9og' target=\"_blank\">https://wandb.ai/oopss-moment-iiit-hyderabad/Assignment1_Computer_Vision/runs/gr8xl9og</a><br> View project at: <a href='https://wandb.ai/oopss-moment-iiit-hyderabad/Assignment1_Computer_Vision' target=\"_blank\">https://wandb.ai/oopss-moment-iiit-hyderabad/Assignment1_Computer_Vision</a><br>Synced 5 W&B file(s), 0 media file(s), 0 artifact file(s) and 0 other file(s)"
            ],
            "text/plain": [
              "<IPython.core.display.HTML object>"
            ]
          },
          "metadata": {},
          "output_type": "display_data"
        },
        {
          "data": {
            "text/html": [
              "Find logs at: <code>./wandb/run-20250122_110209-gr8xl9og/logs</code>"
            ],
            "text/plain": [
              "<IPython.core.display.HTML object>"
            ]
          },
          "metadata": {},
          "output_type": "display_data"
        },
        {
          "data": {
            "text/html": [
              "Tracking run with wandb version 0.19.2"
            ],
            "text/plain": [
              "<IPython.core.display.HTML object>"
            ]
          },
          "metadata": {},
          "output_type": "display_data"
        },
        {
          "data": {
            "text/html": [
              "Run data is saved locally in <code>/content/wandb/run-20250122_110222-qwvmc1zl</code>"
            ],
            "text/plain": [
              "<IPython.core.display.HTML object>"
            ]
          },
          "metadata": {},
          "output_type": "display_data"
        },
        {
          "data": {
            "text/html": [
              "Syncing run <strong><a href='https://wandb.ai/oopss-moment-iiit-hyderabad/Assignment1_Computer_Vision/runs/qwvmc1zl' target=\"_blank\">Task-4.3_HOG_lr_0.1_opt_sgd</a></strong> to <a href='https://wandb.ai/oopss-moment-iiit-hyderabad/Assignment1_Computer_Vision' target=\"_blank\">Weights & Biases</a> (<a href='https://wandb.me/developer-guide' target=\"_blank\">docs</a>)<br>"
            ],
            "text/plain": [
              "<IPython.core.display.HTML object>"
            ]
          },
          "metadata": {},
          "output_type": "display_data"
        },
        {
          "data": {
            "text/html": [
              " View project at <a href='https://wandb.ai/oopss-moment-iiit-hyderabad/Assignment1_Computer_Vision' target=\"_blank\">https://wandb.ai/oopss-moment-iiit-hyderabad/Assignment1_Computer_Vision</a>"
            ],
            "text/plain": [
              "<IPython.core.display.HTML object>"
            ]
          },
          "metadata": {},
          "output_type": "display_data"
        },
        {
          "data": {
            "text/html": [
              " View run at <a href='https://wandb.ai/oopss-moment-iiit-hyderabad/Assignment1_Computer_Vision/runs/qwvmc1zl' target=\"_blank\">https://wandb.ai/oopss-moment-iiit-hyderabad/Assignment1_Computer_Vision/runs/qwvmc1zl</a>"
            ],
            "text/plain": [
              "<IPython.core.display.HTML object>"
            ]
          },
          "metadata": {},
          "output_type": "display_data"
        },
        {
          "name": "stdout",
          "output_type": "stream",
          "text": [
            "Training Model Variant 2 with params: {'lr': 0.1, 'optimizer': 'sgd', 'epochs': 20, 'patience': 3}\n",
            "Epoch 1/20\n"
          ]
        },
        {
          "name": "stderr",
          "output_type": "stream",
          "text": [
            "Training:   7%|▋         | 55/750 [00:00<00:01, 542.27it/s]"
          ]
        },
        {
          "name": "stdout",
          "output_type": "stream",
          "text": [
            "Input shape: torch.Size([64, 144]), Labels shape: torch.Size([64])\n",
            "Output shape: torch.Size([64, 10])\n"
          ]
        },
        {
          "name": "stderr",
          "output_type": "stream",
          "text": []
        },
        {
          "name": "stdout",
          "output_type": "stream",
          "text": [
            "Train Loss: 0.8099\n",
            "Validation Accuracy: 0.7927\n",
            "Validation accuracy improved. Resetting patience counter.\n",
            "Epoch 2/20\n"
          ]
        },
        {
          "name": "stderr",
          "output_type": "stream",
          "text": []
        },
        {
          "name": "stdout",
          "output_type": "stream",
          "text": [
            "Train Loss: 0.5794\n",
            "Validation Accuracy: 0.8113\n",
            "Validation accuracy improved. Resetting patience counter.\n",
            "Epoch 3/20\n"
          ]
        },
        {
          "name": "stderr",
          "output_type": "stream",
          "text": []
        },
        {
          "name": "stdout",
          "output_type": "stream",
          "text": [
            "Train Loss: 0.5469\n",
            "Validation Accuracy: 0.8017\n",
            "Validation accuracy did not improve. Patience counter: 1/3\n",
            "Epoch 4/20\n"
          ]
        },
        {
          "name": "stderr",
          "output_type": "stream",
          "text": []
        },
        {
          "name": "stdout",
          "output_type": "stream",
          "text": [
            "Train Loss: 0.5279\n",
            "Validation Accuracy: 0.8215\n",
            "Validation accuracy improved. Resetting patience counter.\n",
            "Epoch 5/20\n"
          ]
        },
        {
          "name": "stderr",
          "output_type": "stream",
          "text": []
        },
        {
          "name": "stdout",
          "output_type": "stream",
          "text": [
            "Train Loss: 0.5129\n",
            "Validation Accuracy: 0.8190\n",
            "Validation accuracy did not improve. Patience counter: 1/3\n",
            "Epoch 6/20\n"
          ]
        },
        {
          "name": "stderr",
          "output_type": "stream",
          "text": []
        },
        {
          "name": "stdout",
          "output_type": "stream",
          "text": [
            "Train Loss: 0.4994\n",
            "Validation Accuracy: 0.8213\n",
            "Validation accuracy did not improve. Patience counter: 2/3\n",
            "Epoch 7/20\n"
          ]
        },
        {
          "name": "stderr",
          "output_type": "stream",
          "text": []
        },
        {
          "name": "stdout",
          "output_type": "stream",
          "text": [
            "Train Loss: 0.4917\n",
            "Validation Accuracy: 0.8273\n",
            "Validation accuracy improved. Resetting patience counter.\n",
            "Epoch 8/20\n"
          ]
        },
        {
          "name": "stderr",
          "output_type": "stream",
          "text": []
        },
        {
          "name": "stdout",
          "output_type": "stream",
          "text": [
            "Train Loss: 0.4840\n",
            "Validation Accuracy: 0.8223\n",
            "Validation accuracy did not improve. Patience counter: 1/3\n",
            "Epoch 9/20\n"
          ]
        },
        {
          "name": "stderr",
          "output_type": "stream",
          "text": []
        },
        {
          "name": "stdout",
          "output_type": "stream",
          "text": [
            "Train Loss: 0.4790\n",
            "Validation Accuracy: 0.8270\n",
            "Validation accuracy did not improve. Patience counter: 2/3\n",
            "Epoch 10/20\n"
          ]
        },
        {
          "name": "stderr",
          "output_type": "stream",
          "text": []
        },
        {
          "name": "stdout",
          "output_type": "stream",
          "text": [
            "Train Loss: 0.4745\n",
            "Validation Accuracy: 0.8283\n",
            "Validation accuracy improved. Resetting patience counter.\n",
            "Epoch 11/20\n"
          ]
        },
        {
          "name": "stderr",
          "output_type": "stream",
          "text": []
        },
        {
          "name": "stdout",
          "output_type": "stream",
          "text": [
            "Train Loss: 0.4698\n",
            "Validation Accuracy: 0.8272\n",
            "Validation accuracy did not improve. Patience counter: 1/3\n",
            "Epoch 12/20\n"
          ]
        },
        {
          "name": "stderr",
          "output_type": "stream",
          "text": []
        },
        {
          "name": "stdout",
          "output_type": "stream",
          "text": [
            "Train Loss: 0.4615\n",
            "Validation Accuracy: 0.8197\n",
            "Validation accuracy did not improve. Patience counter: 2/3\n",
            "Epoch 13/20\n"
          ]
        },
        {
          "name": "stderr",
          "output_type": "stream",
          "text": []
        },
        {
          "name": "stdout",
          "output_type": "stream",
          "text": [
            "Train Loss: 0.4599\n",
            "Validation Accuracy: 0.8271\n",
            "Validation accuracy did not improve. Patience counter: 3/3\n",
            "Early stopping triggered.\n",
            "Best Validation Accuracy: 0.8283\n"
          ]
        },
        {
          "data": {
            "text/html": [],
            "text/plain": [
              "<IPython.core.display.HTML object>"
            ]
          },
          "metadata": {},
          "output_type": "display_data"
        },
        {
          "data": {
            "text/html": [
              "<br>    <style><br>        .wandb-row {<br>            display: flex;<br>            flex-direction: row;<br>            flex-wrap: wrap;<br>            justify-content: flex-start;<br>            width: 100%;<br>        }<br>        .wandb-col {<br>            display: flex;<br>            flex-direction: column;<br>            flex-basis: 100%;<br>            flex: 1;<br>            padding: 10px;<br>        }<br>    </style><br><div class=\"wandb-row\"><div class=\"wandb-col\"><h3>Run history:</h3><br/><table class=\"wandb\"><tr><td>epoch</td><td>▁▂▂▃▃▄▅▅▆▆▇▇█</td></tr><tr><td>final_train_loss</td><td>▁</td></tr><tr><td>final_val_loss</td><td>▁</td></tr><tr><td>final_validation_accuracy</td><td>▁</td></tr><tr><td>train_loss</td><td>█▃▃▂▂▂▂▁▁▁▁▁▁</td></tr><tr><td>val_accuracy</td><td>▁▅▃▇▆▇█▇███▆█</td></tr><tr><td>val_loss</td><td>█▅▅▃▂▂▁▂▁▁▁▂▁</td></tr></table><br/></div><div class=\"wandb-col\"><h3>Run summary:</h3><br/><table class=\"wandb\"><tr><td>epoch</td><td>13</td></tr><tr><td>final_train_loss</td><td>0.45993</td></tr><tr><td>final_val_loss</td><td>0.44722</td></tr><tr><td>final_validation_accuracy</td><td>0.82825</td></tr><tr><td>train_loss</td><td>0.45993</td></tr><tr><td>val_accuracy</td><td>0.82708</td></tr><tr><td>val_loss</td><td>0.44722</td></tr></table><br/></div></div>"
            ],
            "text/plain": [
              "<IPython.core.display.HTML object>"
            ]
          },
          "metadata": {},
          "output_type": "display_data"
        },
        {
          "data": {
            "text/html": [
              " View run <strong style=\"color:#cdcd00\">Task-4.3_HOG_lr_0.1_opt_sgd</strong> at: <a href='https://wandb.ai/oopss-moment-iiit-hyderabad/Assignment1_Computer_Vision/runs/qwvmc1zl' target=\"_blank\">https://wandb.ai/oopss-moment-iiit-hyderabad/Assignment1_Computer_Vision/runs/qwvmc1zl</a><br> View project at: <a href='https://wandb.ai/oopss-moment-iiit-hyderabad/Assignment1_Computer_Vision' target=\"_blank\">https://wandb.ai/oopss-moment-iiit-hyderabad/Assignment1_Computer_Vision</a><br>Synced 5 W&B file(s), 0 media file(s), 0 artifact file(s) and 0 other file(s)"
            ],
            "text/plain": [
              "<IPython.core.display.HTML object>"
            ]
          },
          "metadata": {},
          "output_type": "display_data"
        },
        {
          "data": {
            "text/html": [
              "Find logs at: <code>./wandb/run-20250122_110222-qwvmc1zl/logs</code>"
            ],
            "text/plain": [
              "<IPython.core.display.HTML object>"
            ]
          },
          "metadata": {},
          "output_type": "display_data"
        },
        {
          "data": {
            "text/html": [
              "Tracking run with wandb version 0.19.2"
            ],
            "text/plain": [
              "<IPython.core.display.HTML object>"
            ]
          },
          "metadata": {},
          "output_type": "display_data"
        },
        {
          "data": {
            "text/html": [
              "Run data is saved locally in <code>/content/wandb/run-20250122_110251-borhzlv8</code>"
            ],
            "text/plain": [
              "<IPython.core.display.HTML object>"
            ]
          },
          "metadata": {},
          "output_type": "display_data"
        },
        {
          "data": {
            "text/html": [
              "Syncing run <strong><a href='https://wandb.ai/oopss-moment-iiit-hyderabad/Assignment1_Computer_Vision/runs/borhzlv8' target=\"_blank\">Task-4.3_HOG_lr_0.01_opt_adam</a></strong> to <a href='https://wandb.ai/oopss-moment-iiit-hyderabad/Assignment1_Computer_Vision' target=\"_blank\">Weights & Biases</a> (<a href='https://wandb.me/developer-guide' target=\"_blank\">docs</a>)<br>"
            ],
            "text/plain": [
              "<IPython.core.display.HTML object>"
            ]
          },
          "metadata": {},
          "output_type": "display_data"
        },
        {
          "data": {
            "text/html": [
              " View project at <a href='https://wandb.ai/oopss-moment-iiit-hyderabad/Assignment1_Computer_Vision' target=\"_blank\">https://wandb.ai/oopss-moment-iiit-hyderabad/Assignment1_Computer_Vision</a>"
            ],
            "text/plain": [
              "<IPython.core.display.HTML object>"
            ]
          },
          "metadata": {},
          "output_type": "display_data"
        },
        {
          "data": {
            "text/html": [
              " View run at <a href='https://wandb.ai/oopss-moment-iiit-hyderabad/Assignment1_Computer_Vision/runs/borhzlv8' target=\"_blank\">https://wandb.ai/oopss-moment-iiit-hyderabad/Assignment1_Computer_Vision/runs/borhzlv8</a>"
            ],
            "text/plain": [
              "<IPython.core.display.HTML object>"
            ]
          },
          "metadata": {},
          "output_type": "display_data"
        },
        {
          "name": "stdout",
          "output_type": "stream",
          "text": [
            "Training Model Variant 3 with params: {'lr': 0.01, 'optimizer': 'adam', 'epochs': 20, 'patience': 3}\n",
            "Epoch 1/20\n"
          ]
        },
        {
          "name": "stderr",
          "output_type": "stream",
          "text": [
            "Training:   7%|▋         | 50/750 [00:00<00:01, 498.93it/s]"
          ]
        },
        {
          "name": "stdout",
          "output_type": "stream",
          "text": [
            "Input shape: torch.Size([64, 144]), Labels shape: torch.Size([64])\n",
            "Output shape: torch.Size([64, 10])\n"
          ]
        },
        {
          "name": "stderr",
          "output_type": "stream",
          "text": []
        },
        {
          "name": "stdout",
          "output_type": "stream",
          "text": [
            "Train Loss: 0.6810\n",
            "Validation Accuracy: 0.8057\n",
            "Validation accuracy improved. Resetting patience counter.\n",
            "Epoch 2/20\n"
          ]
        },
        {
          "name": "stderr",
          "output_type": "stream",
          "text": []
        },
        {
          "name": "stdout",
          "output_type": "stream",
          "text": [
            "Train Loss: 0.5563\n",
            "Validation Accuracy: 0.8131\n",
            "Validation accuracy improved. Resetting patience counter.\n",
            "Epoch 3/20\n"
          ]
        },
        {
          "name": "stderr",
          "output_type": "stream",
          "text": []
        },
        {
          "name": "stdout",
          "output_type": "stream",
          "text": [
            "Train Loss: 0.5393\n",
            "Validation Accuracy: 0.8188\n",
            "Validation accuracy improved. Resetting patience counter.\n",
            "Epoch 4/20\n"
          ]
        },
        {
          "name": "stderr",
          "output_type": "stream",
          "text": []
        },
        {
          "name": "stdout",
          "output_type": "stream",
          "text": [
            "Train Loss: 0.5271\n",
            "Validation Accuracy: 0.8147\n",
            "Validation accuracy did not improve. Patience counter: 1/3\n",
            "Epoch 5/20\n"
          ]
        },
        {
          "name": "stderr",
          "output_type": "stream",
          "text": []
        },
        {
          "name": "stdout",
          "output_type": "stream",
          "text": [
            "Train Loss: 0.5179\n",
            "Validation Accuracy: 0.8183\n",
            "Validation accuracy did not improve. Patience counter: 2/3\n",
            "Epoch 6/20\n"
          ]
        },
        {
          "name": "stderr",
          "output_type": "stream",
          "text": []
        },
        {
          "name": "stdout",
          "output_type": "stream",
          "text": [
            "Train Loss: 0.5104\n",
            "Validation Accuracy: 0.8217\n",
            "Validation accuracy improved. Resetting patience counter.\n",
            "Epoch 7/20\n"
          ]
        },
        {
          "name": "stderr",
          "output_type": "stream",
          "text": []
        },
        {
          "name": "stdout",
          "output_type": "stream",
          "text": [
            "Train Loss: 0.5062\n",
            "Validation Accuracy: 0.8203\n",
            "Validation accuracy did not improve. Patience counter: 1/3\n",
            "Epoch 8/20\n"
          ]
        },
        {
          "name": "stderr",
          "output_type": "stream",
          "text": []
        },
        {
          "name": "stdout",
          "output_type": "stream",
          "text": [
            "Train Loss: 0.5029\n",
            "Validation Accuracy: 0.8215\n",
            "Validation accuracy did not improve. Patience counter: 2/3\n",
            "Epoch 9/20\n"
          ]
        },
        {
          "name": "stderr",
          "output_type": "stream",
          "text": []
        },
        {
          "name": "stdout",
          "output_type": "stream",
          "text": [
            "Train Loss: 0.4949\n",
            "Validation Accuracy: 0.8187\n",
            "Validation accuracy did not improve. Patience counter: 3/3\n",
            "Early stopping triggered.\n",
            "Best Validation Accuracy: 0.8217\n"
          ]
        },
        {
          "data": {
            "text/html": [],
            "text/plain": [
              "<IPython.core.display.HTML object>"
            ]
          },
          "metadata": {},
          "output_type": "display_data"
        },
        {
          "data": {
            "text/html": [
              "<br>    <style><br>        .wandb-row {<br>            display: flex;<br>            flex-direction: row;<br>            flex-wrap: wrap;<br>            justify-content: flex-start;<br>            width: 100%;<br>        }<br>        .wandb-col {<br>            display: flex;<br>            flex-direction: column;<br>            flex-basis: 100%;<br>            flex: 1;<br>            padding: 10px;<br>        }<br>    </style><br><div class=\"wandb-row\"><div class=\"wandb-col\"><h3>Run history:</h3><br/><table class=\"wandb\"><tr><td>epoch</td><td>▁▂▃▄▅▅▆▇█</td></tr><tr><td>final_train_loss</td><td>▁</td></tr><tr><td>final_val_loss</td><td>▁</td></tr><tr><td>final_validation_accuracy</td><td>▁</td></tr><tr><td>train_loss</td><td>█▃▃▂▂▂▁▁▁</td></tr><tr><td>val_accuracy</td><td>▁▄▇▅▇█▇█▇</td></tr><tr><td>val_loss</td><td>█▄▂▄▂▂▂▁▂</td></tr></table><br/></div><div class=\"wandb-col\"><h3>Run summary:</h3><br/><table class=\"wandb\"><tr><td>epoch</td><td>9</td></tr><tr><td>final_train_loss</td><td>0.49488</td></tr><tr><td>final_val_loss</td><td>0.47616</td></tr><tr><td>final_validation_accuracy</td><td>0.82167</td></tr><tr><td>train_loss</td><td>0.49488</td></tr><tr><td>val_accuracy</td><td>0.81867</td></tr><tr><td>val_loss</td><td>0.47616</td></tr></table><br/></div></div>"
            ],
            "text/plain": [
              "<IPython.core.display.HTML object>"
            ]
          },
          "metadata": {},
          "output_type": "display_data"
        },
        {
          "data": {
            "text/html": [
              " View run <strong style=\"color:#cdcd00\">Task-4.3_HOG_lr_0.01_opt_adam</strong> at: <a href='https://wandb.ai/oopss-moment-iiit-hyderabad/Assignment1_Computer_Vision/runs/borhzlv8' target=\"_blank\">https://wandb.ai/oopss-moment-iiit-hyderabad/Assignment1_Computer_Vision/runs/borhzlv8</a><br> View project at: <a href='https://wandb.ai/oopss-moment-iiit-hyderabad/Assignment1_Computer_Vision' target=\"_blank\">https://wandb.ai/oopss-moment-iiit-hyderabad/Assignment1_Computer_Vision</a><br>Synced 5 W&B file(s), 0 media file(s), 0 artifact file(s) and 0 other file(s)"
            ],
            "text/plain": [
              "<IPython.core.display.HTML object>"
            ]
          },
          "metadata": {},
          "output_type": "display_data"
        },
        {
          "data": {
            "text/html": [
              "Find logs at: <code>./wandb/run-20250122_110251-borhzlv8/logs</code>"
            ],
            "text/plain": [
              "<IPython.core.display.HTML object>"
            ]
          },
          "metadata": {},
          "output_type": "display_data"
        },
        {
          "data": {
            "text/html": [
              "Tracking run with wandb version 0.19.2"
            ],
            "text/plain": [
              "<IPython.core.display.HTML object>"
            ]
          },
          "metadata": {},
          "output_type": "display_data"
        },
        {
          "data": {
            "text/html": [
              "Run data is saved locally in <code>/content/wandb/run-20250122_110314-idfuyeo5</code>"
            ],
            "text/plain": [
              "<IPython.core.display.HTML object>"
            ]
          },
          "metadata": {},
          "output_type": "display_data"
        },
        {
          "data": {
            "text/html": [
              "Syncing run <strong><a href='https://wandb.ai/oopss-moment-iiit-hyderabad/Assignment1_Computer_Vision/runs/idfuyeo5' target=\"_blank\">Task-4.3_HOG_lr_0.01_opt_sgd</a></strong> to <a href='https://wandb.ai/oopss-moment-iiit-hyderabad/Assignment1_Computer_Vision' target=\"_blank\">Weights & Biases</a> (<a href='https://wandb.me/developer-guide' target=\"_blank\">docs</a>)<br>"
            ],
            "text/plain": [
              "<IPython.core.display.HTML object>"
            ]
          },
          "metadata": {},
          "output_type": "display_data"
        },
        {
          "data": {
            "text/html": [
              " View project at <a href='https://wandb.ai/oopss-moment-iiit-hyderabad/Assignment1_Computer_Vision' target=\"_blank\">https://wandb.ai/oopss-moment-iiit-hyderabad/Assignment1_Computer_Vision</a>"
            ],
            "text/plain": [
              "<IPython.core.display.HTML object>"
            ]
          },
          "metadata": {},
          "output_type": "display_data"
        },
        {
          "data": {
            "text/html": [
              " View run at <a href='https://wandb.ai/oopss-moment-iiit-hyderabad/Assignment1_Computer_Vision/runs/idfuyeo5' target=\"_blank\">https://wandb.ai/oopss-moment-iiit-hyderabad/Assignment1_Computer_Vision/runs/idfuyeo5</a>"
            ],
            "text/plain": [
              "<IPython.core.display.HTML object>"
            ]
          },
          "metadata": {},
          "output_type": "display_data"
        },
        {
          "name": "stdout",
          "output_type": "stream",
          "text": [
            "Training Model Variant 4 with params: {'lr': 0.01, 'optimizer': 'sgd', 'epochs': 20, 'patience': 3}\n",
            "Epoch 1/20\n"
          ]
        },
        {
          "name": "stderr",
          "output_type": "stream",
          "text": [
            "Training:   7%|▋         | 53/750 [00:00<00:01, 525.05it/s]"
          ]
        },
        {
          "name": "stdout",
          "output_type": "stream",
          "text": [
            "Input shape: torch.Size([64, 144]), Labels shape: torch.Size([64])\n",
            "Output shape: torch.Size([64, 10])\n"
          ]
        },
        {
          "name": "stderr",
          "output_type": "stream",
          "text": []
        },
        {
          "name": "stdout",
          "output_type": "stream",
          "text": [
            "Train Loss: 1.3961\n",
            "Validation Accuracy: 0.6827\n",
            "Validation accuracy improved. Resetting patience counter.\n",
            "Epoch 2/20\n"
          ]
        },
        {
          "name": "stderr",
          "output_type": "stream",
          "text": []
        },
        {
          "name": "stdout",
          "output_type": "stream",
          "text": [
            "Train Loss: 0.7745\n",
            "Validation Accuracy: 0.7526\n",
            "Validation accuracy improved. Resetting patience counter.\n",
            "Epoch 3/20\n"
          ]
        },
        {
          "name": "stderr",
          "output_type": "stream",
          "text": []
        },
        {
          "name": "stdout",
          "output_type": "stream",
          "text": [
            "Train Loss: 0.6661\n",
            "Validation Accuracy: 0.7788\n",
            "Validation accuracy improved. Resetting patience counter.\n",
            "Epoch 4/20\n"
          ]
        },
        {
          "name": "stderr",
          "output_type": "stream",
          "text": []
        },
        {
          "name": "stdout",
          "output_type": "stream",
          "text": [
            "Train Loss: 0.6157\n",
            "Validation Accuracy: 0.7916\n",
            "Validation accuracy improved. Resetting patience counter.\n",
            "Epoch 5/20\n"
          ]
        },
        {
          "name": "stderr",
          "output_type": "stream",
          "text": []
        },
        {
          "name": "stdout",
          "output_type": "stream",
          "text": [
            "Train Loss: 0.5792\n",
            "Validation Accuracy: 0.8009\n",
            "Validation accuracy improved. Resetting patience counter.\n",
            "Epoch 6/20\n"
          ]
        },
        {
          "name": "stderr",
          "output_type": "stream",
          "text": []
        },
        {
          "name": "stdout",
          "output_type": "stream",
          "text": [
            "Train Loss: 0.5562\n",
            "Validation Accuracy: 0.8033\n",
            "Validation accuracy improved. Resetting patience counter.\n",
            "Epoch 7/20\n"
          ]
        },
        {
          "name": "stderr",
          "output_type": "stream",
          "text": []
        },
        {
          "name": "stdout",
          "output_type": "stream",
          "text": [
            "Train Loss: 0.5426\n",
            "Validation Accuracy: 0.8087\n",
            "Validation accuracy improved. Resetting patience counter.\n",
            "Epoch 8/20\n"
          ]
        },
        {
          "name": "stderr",
          "output_type": "stream",
          "text": []
        },
        {
          "name": "stdout",
          "output_type": "stream",
          "text": [
            "Train Loss: 0.5276\n",
            "Validation Accuracy: 0.8138\n",
            "Validation accuracy improved. Resetting patience counter.\n",
            "Epoch 9/20\n"
          ]
        },
        {
          "name": "stderr",
          "output_type": "stream",
          "text": []
        },
        {
          "name": "stdout",
          "output_type": "stream",
          "text": [
            "Train Loss: 0.5188\n",
            "Validation Accuracy: 0.8148\n",
            "Validation accuracy improved. Resetting patience counter.\n",
            "Epoch 10/20\n"
          ]
        },
        {
          "name": "stderr",
          "output_type": "stream",
          "text": []
        },
        {
          "name": "stdout",
          "output_type": "stream",
          "text": [
            "Train Loss: 0.5086\n",
            "Validation Accuracy: 0.8157\n",
            "Validation accuracy improved. Resetting patience counter.\n",
            "Epoch 11/20\n"
          ]
        },
        {
          "name": "stderr",
          "output_type": "stream",
          "text": []
        },
        {
          "name": "stdout",
          "output_type": "stream",
          "text": [
            "Train Loss: 0.4988\n",
            "Validation Accuracy: 0.8174\n",
            "Validation accuracy improved. Resetting patience counter.\n",
            "Epoch 12/20\n"
          ]
        },
        {
          "name": "stderr",
          "output_type": "stream",
          "text": []
        },
        {
          "name": "stdout",
          "output_type": "stream",
          "text": [
            "Train Loss: 0.4948\n",
            "Validation Accuracy: 0.8201\n",
            "Validation accuracy improved. Resetting patience counter.\n",
            "Epoch 13/20\n"
          ]
        },
        {
          "name": "stderr",
          "output_type": "stream",
          "text": []
        },
        {
          "name": "stdout",
          "output_type": "stream",
          "text": [
            "Train Loss: 0.4870\n",
            "Validation Accuracy: 0.8233\n",
            "Validation accuracy improved. Resetting patience counter.\n",
            "Epoch 14/20\n"
          ]
        },
        {
          "name": "stderr",
          "output_type": "stream",
          "text": []
        },
        {
          "name": "stdout",
          "output_type": "stream",
          "text": [
            "Train Loss: 0.4816\n",
            "Validation Accuracy: 0.8226\n",
            "Validation accuracy did not improve. Patience counter: 1/3\n",
            "Epoch 15/20\n"
          ]
        },
        {
          "name": "stderr",
          "output_type": "stream",
          "text": []
        },
        {
          "name": "stdout",
          "output_type": "stream",
          "text": [
            "Train Loss: 0.4759\n",
            "Validation Accuracy: 0.8237\n",
            "Validation accuracy improved. Resetting patience counter.\n",
            "Epoch 16/20\n"
          ]
        },
        {
          "name": "stderr",
          "output_type": "stream",
          "text": []
        },
        {
          "name": "stdout",
          "output_type": "stream",
          "text": [
            "Train Loss: 0.4705\n",
            "Validation Accuracy: 0.8244\n",
            "Validation accuracy improved. Resetting patience counter.\n",
            "Epoch 17/20\n"
          ]
        },
        {
          "name": "stderr",
          "output_type": "stream",
          "text": []
        },
        {
          "name": "stdout",
          "output_type": "stream",
          "text": [
            "Train Loss: 0.4675\n",
            "Validation Accuracy: 0.8287\n",
            "Validation accuracy improved. Resetting patience counter.\n",
            "Epoch 18/20\n"
          ]
        },
        {
          "name": "stderr",
          "output_type": "stream",
          "text": []
        },
        {
          "name": "stdout",
          "output_type": "stream",
          "text": [
            "Train Loss: 0.4628\n",
            "Validation Accuracy: 0.8284\n",
            "Validation accuracy did not improve. Patience counter: 1/3\n",
            "Epoch 19/20\n"
          ]
        },
        {
          "name": "stderr",
          "output_type": "stream",
          "text": []
        },
        {
          "name": "stdout",
          "output_type": "stream",
          "text": [
            "Train Loss: 0.4571\n",
            "Validation Accuracy: 0.8307\n",
            "Validation accuracy improved. Resetting patience counter.\n",
            "Epoch 20/20\n"
          ]
        },
        {
          "name": "stderr",
          "output_type": "stream",
          "text": []
        },
        {
          "name": "stdout",
          "output_type": "stream",
          "text": [
            "Train Loss: 0.4542\n",
            "Validation Accuracy: 0.8299\n",
            "Validation accuracy did not improve. Patience counter: 1/3\n",
            "Best Validation Accuracy: 0.8307\n"
          ]
        },
        {
          "data": {
            "text/html": [],
            "text/plain": [
              "<IPython.core.display.HTML object>"
            ]
          },
          "metadata": {},
          "output_type": "display_data"
        },
        {
          "data": {
            "text/html": [
              "<br>    <style><br>        .wandb-row {<br>            display: flex;<br>            flex-direction: row;<br>            flex-wrap: wrap;<br>            justify-content: flex-start;<br>            width: 100%;<br>        }<br>        .wandb-col {<br>            display: flex;<br>            flex-direction: column;<br>            flex-basis: 100%;<br>            flex: 1;<br>            padding: 10px;<br>        }<br>    </style><br><div class=\"wandb-row\"><div class=\"wandb-col\"><h3>Run history:</h3><br/><table class=\"wandb\"><tr><td>epoch</td><td>▁▁▂▂▂▃▃▄▄▄▅▅▅▆▆▇▇▇██</td></tr><tr><td>final_train_loss</td><td>▁</td></tr><tr><td>final_val_loss</td><td>▁</td></tr><tr><td>final_validation_accuracy</td><td>▁</td></tr><tr><td>train_loss</td><td>█▃▃▂▂▂▂▂▁▁▁▁▁▁▁▁▁▁▁▁</td></tr><tr><td>val_accuracy</td><td>▁▄▆▆▇▇▇▇▇▇▇▇████████</td></tr><tr><td>val_loss</td><td>█▅▄▃▃▃▂▂▂▂▂▂▁▁▁▁▁▁▁▁</td></tr></table><br/></div><div class=\"wandb-col\"><h3>Run summary:</h3><br/><table class=\"wandb\"><tr><td>epoch</td><td>20</td></tr><tr><td>final_train_loss</td><td>0.45416</td></tr><tr><td>final_val_loss</td><td>0.44079</td></tr><tr><td>final_validation_accuracy</td><td>0.83075</td></tr><tr><td>train_loss</td><td>0.45416</td></tr><tr><td>val_accuracy</td><td>0.82992</td></tr><tr><td>val_loss</td><td>0.44079</td></tr></table><br/></div></div>"
            ],
            "text/plain": [
              "<IPython.core.display.HTML object>"
            ]
          },
          "metadata": {},
          "output_type": "display_data"
        },
        {
          "data": {
            "text/html": [
              " View run <strong style=\"color:#cdcd00\">Task-4.3_HOG_lr_0.01_opt_sgd</strong> at: <a href='https://wandb.ai/oopss-moment-iiit-hyderabad/Assignment1_Computer_Vision/runs/idfuyeo5' target=\"_blank\">https://wandb.ai/oopss-moment-iiit-hyderabad/Assignment1_Computer_Vision/runs/idfuyeo5</a><br> View project at: <a href='https://wandb.ai/oopss-moment-iiit-hyderabad/Assignment1_Computer_Vision' target=\"_blank\">https://wandb.ai/oopss-moment-iiit-hyderabad/Assignment1_Computer_Vision</a><br>Synced 5 W&B file(s), 0 media file(s), 0 artifact file(s) and 0 other file(s)"
            ],
            "text/plain": [
              "<IPython.core.display.HTML object>"
            ]
          },
          "metadata": {},
          "output_type": "display_data"
        },
        {
          "data": {
            "text/html": [
              "Find logs at: <code>./wandb/run-20250122_110314-idfuyeo5/logs</code>"
            ],
            "text/plain": [
              "<IPython.core.display.HTML object>"
            ]
          },
          "metadata": {},
          "output_type": "display_data"
        }
      ],
      "source": [
        "model3,model3_acc,model3_train_loss,model3_val_loss,model3_val_acc = train_multiple_variants(\"HOG\",hog_train_loader, hog_val_loader, hog_train_images.shape[1], variants)"
      ]
    },
    {
      "cell_type": "code",
      "execution_count": 46,
      "metadata": {
        "id": "tkYJTYiqZsXa"
      },
      "outputs": [],
      "source": [
        "\n",
        "# Plot confusion matrix\n",
        "from sklearn.metrics import confusion_matrix, ConfusionMatrixDisplay\n",
        "def plot_confusion_matrix(model, loader, title):\n",
        "    metrics = evaluate_metrics(model, loader)\n",
        "    cm = metrics[\"confusion_matrix\"]\n",
        "    disp = ConfusionMatrixDisplay(confusion_matrix=cm)\n",
        "    disp.plot(cmap=\"viridis\")\n",
        "    plt.title(title)\n",
        "    plt.show()\n",
        "\n",
        "# Generate performance summary table\n",
        "def summarize_performance(models, loaders, names):\n",
        "    summary = []\n",
        "    for model, loader, name in zip(models, loaders, names):\n",
        "        metrics = evaluate_metrics(model, loader)\n",
        "        summary.append([\n",
        "            name,\n",
        "            metrics[\"accuracy\"],\n",
        "            metrics[\"precision\"],\n",
        "            metrics[\"recall\"],\n",
        "            metrics[\"f1\"],\n",
        "        ])\n",
        "\n",
        "    df = pd.DataFrame(summary, columns=[\"Model\", \"Accuracy\", \"Precision\", \"Recall\", \"F1-Score\"])\n",
        "    print(df)\n",
        "    return df"
      ]
    },
    {
      "cell_type": "code",
      "execution_count": 68,
      "metadata": {
        "id": "O7jpl0ZUZm8p"
      },
      "outputs": [],
      "source": [
        "def plot_training_curve(train_loss, val_loss, val_acc, model_name):\n",
        "    # Convert val_loss and val_acc to lists of CPU tensors if they are not already\n",
        "    train_loss = [x.cpu().detach().numpy() if isinstance(x, torch.Tensor) else x for x in train_loss]\n",
        "    val_loss = [x.cpu().detach().numpy() if isinstance(x, torch.Tensor) else x for x in val_loss]\n",
        "    val_acc = [x.cpu().detach().numpy() if isinstance(x, torch.Tensor) else x for x in val_acc]\n",
        "\n",
        "    epochs = len(train_loss)\n",
        "    plt.figure(figsize=(10, 5))\n",
        "\n",
        "    plt.subplot(1, 2, 1)\n",
        "    plt.plot(range(epochs), train_loss, label=\"Train Loss\")\n",
        "    plt.plot(range(epochs), val_loss, label=\"Validation Loss\")\n",
        "    plt.title(f\"{model_name} Loss Curves\")\n",
        "    plt.xlabel(\"Epochs\")\n",
        "    plt.ylabel(\"Loss\")\n",
        "    plt.legend()\n",
        "\n",
        "    plt.subplot(1, 2, 2)\n",
        "    plt.plot(range(epochs), val_acc, label=\"Validation Accuracy\")\n",
        "    plt.title(f\"{model_name} Accuracy Curve\")\n",
        "    plt.xlabel(\"Epochs\")\n",
        "    plt.ylabel(\"Accuracy\")\n",
        "    plt.legend()\n",
        "\n",
        "    plt.tight_layout()\n",
        "    plt.show()"
      ]
    },
    {
      "cell_type": "code",
      "execution_count": 69,
      "metadata": {
        "colab": {
          "base_uri": "https://localhost:8080/"
        },
        "id": "rbLZ62DwtcnP",
        "outputId": "8d21993c-5c94-4b1c-ef46-63e600417074"
      },
      "outputs": [
        {
          "name": "stdout",
          "output_type": "stream",
          "text": [
            "<class 'list'>\n",
            "<class 'list'>\n",
            "<class 'list'>\n"
          ]
        }
      ],
      "source": [
        "print(type(model1_train_loss))\n",
        "print(type(model1_val_loss))\n",
        "print(type(model1_val_acc))"
      ]
    },
    {
      "cell_type": "code",
      "execution_count": 70,
      "metadata": {
        "colab": {
          "base_uri": "https://localhost:8080/",
          "height": 1000
        },
        "id": "cxW0F-Gos4-Q",
        "outputId": "4da3d57d-d2c0-4df4-e01a-4d2a717a92b9"
      },
      "outputs": [
        {
          "data": {
            "image/png": "[encoded data removed]",
            "text/plain": [
              "<Figure size 1000x500 with 2 Axes>"
            ]
          },
          "metadata": {},
          "output_type": "display_data"
        },
        {
          "data": {
            "image/png": "[encoded data removed]",
            "text/plain": [
              "<Figure size 1000x500 with 2 Axes>"
            ]
          },
          "metadata": {},
          "output_type": "display_data"
        },
        {
          "data": {
            "image/png": "[encoded data removed]",
            "text/plain": [
              "<Figure size 1000x500 with 2 Axes>"
            ]
          },
          "metadata": {},
          "output_type": "display_data"
        }
      ],
      "source": [
        "# Plot curves for each model\n",
        "plot_training_curve(model1_train_loss, model1_val_loss, model1_val_acc, \"Model 1 (Raw Images)\")\n",
        "plot_training_curve(model2_train_loss, model2_val_loss, model2_val_acc, \"Model 2 (Edge Detection)\")\n",
        "plot_training_curve(model3_train_loss, model3_val_loss, model3_val_acc, \"Model 3 (HOG Features)\")\n"
      ]
    },
    {
      "cell_type": "code",
      "execution_count": 47,
      "metadata": {
        "colab": {
          "base_uri": "https://localhost:8080/",
          "height": 1000
        },
        "id": "7T0gvdaHr6HW",
        "outputId": "4fcc5f3c-8639-4590-9767-fe9453eb813b"
      },
      "outputs": [
        {
          "data": {
            "image/png": "[encoded data removed]",
            "text/plain": [
              "<Figure size 640x480 with 2 Axes>"
            ]
          },
          "metadata": {},
          "output_type": "display_data"
        },
        {
          "data": {
            "image/png": "[encoded data removed]",
            "text/plain": [
              "<Figure size 640x480 with 2 Axes>"
            ]
          },
          "metadata": {},
          "output_type": "display_data"
        },
        {
          "data": {
            "image/png": "[encoded data removed]",
            "text/plain": [
              "<Figure size 640x480 with 2 Axes>"
            ]
          },
          "metadata": {},
          "output_type": "display_data"
        }
      ],
      "source": [
        "# Plot confusion matrices for each model\n",
        "plot_confusion_matrix(model1, val_loader, \"Confusion Matrix: Model 1 (Raw Images)\")\n",
        "plot_confusion_matrix(model2, edge_val_loader, \"Confusion Matrix: Model 2 (Edge Detection)\")\n",
        "plot_confusion_matrix(model3, hog_val_loader, \"Confusion Matrix: Model 3 (HOG Features)\")"
      ]
    },
    {
      "cell_type": "code",
      "execution_count": 48,
      "metadata": {
        "colab": {
          "base_uri": "https://localhost:8080/"
        },
        "id": "aNUSkQqzsy2F",
        "outputId": "ac41bc2e-a76d-420b-cb6f-23ce10f8fa12"
      },
      "outputs": [
        {
          "name": "stdout",
          "output_type": "stream",
          "text": [
            "                      Model  Accuracy  Precision  Recall  F1-Score\n",
            "0      Model 1 (Raw Images)    0.8846   0.884478  0.8846  0.883055\n",
            "1  Model 2 (Edge Detection)    0.8379   0.841765  0.8379  0.835975\n",
            "2    Model 3 (HOG Features)    0.8438   0.842124  0.8438  0.841571\n"
          ]
        }
      ],
      "source": [
        "# Summarize and display performance\n",
        "models = [model1, model2, model3]\n",
        "loaders = [test_loader, canny_test_loader, hog_test_loader]\n",
        "names = [\"Model 1 (Raw Images)\", \"Model 2 (Edge Detection)\", \"Model 3 (HOG Features)\"]\n",
        "performance_summary = summarize_performance(models, loaders, names)"
      ]
    },
    {
      "cell_type": "code",
      "execution_count": 72,
      "metadata": {
        "id": "m1uDc9J2vPQ5"
      },
      "outputs": [],
      "source": [
        "def visualize_misclassified_images(model, loader, num_images=10):\n",
        "    \"\"\"Visualizes misclassified images.\n",
        "\n",
        "    Args:\n",
        "        model: The trained PyTorch model.\n",
        "        loader: The data loader for the dataset.\n",
        "        num_images: The number of misclassified images to display.\n",
        "    \"\"\"\n",
        "\n",
        "    model.eval()  # Set the model to evaluation mode\n",
        "    misclassified_images = []\n",
        "    true_labels = []\n",
        "    predicted_labels = []\n",
        "\n",
        "    with torch.no_grad():\n",
        "        for images, labels in loader:\n",
        "            images, labels = images.to(device), labels.to(device)\n",
        "            outputs = model(images)\n",
        "            _, preds = torch.max(outputs, 1)\n",
        "\n",
        "            # Find misclassified images\n",
        "            misclassified_indices = (preds != labels).nonzero()\n",
        "            for index in misclassified_indices:\n",
        "                misclassified_images.append(images[index[0]].cpu().numpy())\n",
        "                true_labels.append(labels[index[0]].cpu().item())\n",
        "                predicted_labels.append(preds[index[0]].cpu().item())\n",
        "\n",
        "            if len(misclassified_images) >= num_images:\n",
        "                break\n",
        "\n",
        "    # Display misclassified images\n",
        "    plt.figure(figsize=(15, 5))\n",
        "    for i in range(num_images):\n",
        "        plt.subplot(2, num_images // 2, i + 1)\n",
        "        plt.imshow(misclassified_images[i].squeeze(), cmap='gray')\n",
        "        plt.title(f\"True: {true_labels[i]}, Predicted: {predicted_labels[i]}\")\n",
        "        plt.axis('off')\n",
        "    plt.show()"
      ]
    },
    {
      "cell_type": "code",
      "execution_count": 73,
      "metadata": {
        "colab": {
          "base_uri": "https://localhost:8080/",
          "height": 403
        },
        "id": "g7cyllmgsAHa",
        "outputId": "e68149bf-e3c9-4288-ade7-b56220e6806e"
      },
      "outputs": [
        {
          "data": {
            "image/png": "[encoded data removed]",
            "text/plain": [
              "<Figure size 1500x500 with 10 Axes>"
            ]
          },
          "metadata": {},
          "output_type": "display_data"
        }
      ],
      "source": [
        "visualize_misclassified_images(model1, test_loader)"
      ]
    },
    {
      "cell_type": "code",
      "execution_count": 76,
      "metadata": {
        "colab": {
          "base_uri": "https://localhost:8080/",
          "height": 403
        },
        "id": "ucO9NOpNv6zX",
        "outputId": "97ba1a96-b525-4af8-c891-fdd0f564789e"
      },
      "outputs": [
        {
          "data": {
            "image/png": "[encoded data removed]",
            "text/plain": [
              "<Figure size 1500x500 with 10 Axes>"
            ]
          },
          "metadata": {},
          "output_type": "display_data"
        }
      ],
      "source": [
        "def visualize_misclassified_images(model, feature_loader, original_loader, num_images=10):\n",
        "    model.eval()\n",
        "    misclassified_original_images = []\n",
        "    true_labels = []\n",
        "    predicted_labels = []\n",
        "\n",
        "    with torch.no_grad():\n",
        "        for (feature_images, labels), (original_images, _) in zip(feature_loader, original_loader):\n",
        "            feature_images, labels = feature_images.to(device), labels.to(device)\n",
        "            outputs = model(feature_images)\n",
        "            _, preds = torch.max(outputs, 1)\n",
        "\n",
        "            misclassified_indices = (preds != labels).nonzero()\n",
        "            for index in misclassified_indices:\n",
        "                misclassified_original_images.append(original_images[index[0]].cpu().numpy())\n",
        "                true_labels.append(labels[index[0]].cpu().item())\n",
        "                predicted_labels.append(preds[index[0]].cpu().item())\n",
        "\n",
        "            if len(misclassified_original_images) >= num_images:\n",
        "                break\n",
        "\n",
        "    # Display misclassified images\n",
        "    plt.figure(figsize=(15, 5))\n",
        "    for i in range(num_images):\n",
        "        plt.subplot(2, num_images // 2, i + 1)\n",
        "        plt.imshow(misclassified_original_images[i].squeeze(), cmap='gray')\n",
        "        plt.title(f\"True: {true_labels[i]}, Predicted: {predicted_labels[i]}\")\n",
        "        plt.axis('off')\n",
        "    plt.show()\n",
        "\n",
        "# Call the function for Model 2 (Canny Edge Detection)\n",
        "visualize_misclassified_images(model2, canny_test_loader, test_loader)\n"
      ]
    },
    {
      "cell_type": "code",
      "execution_count": 77,
      "metadata": {
        "colab": {
          "base_uri": "https://localhost:8080/",
          "height": 403
        },
        "id": "ylAzxgWXv_GO",
        "outputId": "602c1470-1875-4543-95e7-9c9fd21e3ff5"
      },
      "outputs": [
        {
          "data": {
            "image/png": "[encoded data removed]",
            "text/plain": [
              "<Figure size 1500x500 with 10 Axes>"
            ]
          },
          "metadata": {},
          "output_type": "display_data"
        }
      ],
      "source": [
        "\n",
        "# Call the function for Model 3 (HOG Features)\n",
        "visualize_misclassified_images(model3, hog_test_loader, test_loader)"
      ]
    },
    {
      "cell_type": "markdown",
      "metadata": {},
      "source": [
        "Key Confusions:\n",
        "\n",
        "- T-shirt/Top (0): Often misclassified as Shirt (6), as these categories have significant visual similarity in texture and shape.\n",
        "\n",
        "- Pullover (2): Frequently misclassified as Coat (4) and Shirt (6). These errors likely stem from overlapping features like long sleeves and similar structural appearances.\n",
        "\n",
        "- Shirt (6):Confused with T-shirt/Top (0) and Pullover (2), reflecting shared features like fabric folds and patterns.\n",
        "\n",
        "- Sandal (5):Misclassified as Sneaker (7), as both can share overlapping silhouettes. Differences in sole details might not be captured well by feature extraction.\n",
        "\n",
        "- Bag (8): Rarely confused, but slight errors with Sandal (5) and Ankle Boot (9) may arise from their similar spatial arrangements in certain orientations.\n",
        "\n",
        "- Ankle Boot (9):Occasionally misclassified as Sneaker (7), likely due to overlapping shape features like soles.\n",
        "\n",
        "Observations:\n",
        "\n",
        "- The confusions largely occur in categories with high intra-class similarity (e.g., T-shirt vs. Shirt, Pullover vs. Coat).\n",
        "\n",
        "- Edge detection and HOG features may amplify these challenges by losing subtle texture and material details, leading to more significant overlaps in misclassifications.\n"
      ]
    },
    {
      "cell_type": "markdown",
      "metadata": {},
      "source": [
        "## 4.4 Analysis and Logical Comparison\n",
        "\n",
        "1. Performance Differences Between Models:\n",
        "\n",
        "\t•Model 1 (Raw Images) achieved the highest accuracy (88.46%), suggesting that raw pixel data retained the most detailed information for classification.\n",
        "\n",
        "\t•Model 2 (Edge Detection) had lower accuracy (83.79%), indicating that edge features alone might discard critical details necessary for distinguishing similar classes like T-shirts and tops.\n",
        "\n",
        "\t•Model 3 (HOG Features) performed slightly better than edge detection (84.38%), showing that HOG captures useful structural patterns but may still lose fine-grained details.\n",
        "\n",
        "\t•Observation: Raw features are more helpful overall, but feature-engineered inputs like HOG can perform well in scenarios with strong shape-based distinctions.\n",
        "\n",
        "2. Impact of Feature Extraction on MLP Learning and Generalization\n",
        "\t•Raw Images: Provide the most comprehensive input, enabling the MLP to learn nuanced patterns. However, they may require more data and computational resources to generalize well.\n",
        "\n",
        "\t•Edge Detection: Simplifies the input, highlighting boundaries. This is useful for classes distinguishable by outlines but struggles with subtle differences (e.g., T-shirts vs. tops).\n",
        "\n",
        "\t•HOG Features: Offer a balance by capturing structural details and gradients. They work well in scenarios where texture and shapes are crucial (e.g., sandals vs. purses).\n",
        "\n",
        "\t•Generalization: While feature extraction reduces input complexity, it may lead to loss of critical details, impacting the MLP’s ability to handle visually similar classes.\n",
        "\n",
        "Final Observation on Mistakes\n",
        "\n",
        "All models exhibit similar misclassification patterns (e.g., T-shirt vs. top, sandals vs. purses), indicating these errors arise from intrinsic similarities in the dataset rather than feature selection alone. Advanced methods like combining features or using CNNs might address these limitations."
      ]
    }
  ],
  "metadata": {
    "accelerator": "GPU",
    "colab": {
      "gpuType": "T4",
      "provenance": []
    },
    "kernelspec": {
      "display_name": "Python 3",
      "name": "python3"
    },
    "language_info": {
      "codemirror_mode": {
        "name": "ipython",
        "version": 3
      },
      "file_extension": ".py",
      "mimetype": "text/x-python",
      "name": "python",
      "nbconvert_exporter": "python",
      "pygments_lexer": "ipython3",
      "version": "3.12.6"
    }
  },
  "nbformat": 4,
  "nbformat_minor": 0
}
